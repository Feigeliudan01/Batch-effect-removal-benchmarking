{
 "cells": [
  {
   "cell_type": "code",
   "execution_count": null,
   "metadata": {},
   "outputs": [],
   "source": [
    "import numpy as np\n",
    "import pandas as pd\n",
    "import matplotlib.pyplot as pl\n",
    "from matplotlib import rcParams\n",
    "import time\n",
    "from datetime import timedelta\n",
    "import scanpy as sc\n",
    "sc.settings.verbosity = 3  # verbosity: errors (0), warnings (1), info (2), hints (3)\n",
    "print(sc.logging.print_versions())\n",
    "import os\n",
    "dirname = os.getcwd()\n",
    "print(dirname)"
   ]
  },
  {
   "cell_type": "code",
   "execution_count": null,
   "metadata": {},
   "outputs": [],
   "source": [
    "from sklearn.metrics import silhouette_score\n",
    "\n",
    "def silhouette_coeff_ASW(adata, method_use='raw',save_dir='', save_fn='', percent_extract=0.8):\n",
    "    random.seed(0)\n",
    "    asw_fscore = []\n",
    "    asw_bn = []\n",
    "    asw_bn_sub = []\n",
    "    asw_ctn = [] \n",
    "    iters = []\n",
    "    for i in range(20):\n",
    "        iters.append('iteration_'+str(i+1))\n",
    "        rand_cidx = np.random.choice(adata.obs_names, size=int(len(adata.obs_names) * percent_extract), replace=False)\n",
    "#         print('nb extracted cells: ',len(rand_cidx))\n",
    "        adata_ext = adata[rand_cidx,:]\n",
    "        asw_batch = silhouette_score(adata_ext.X, adata_ext.obs['batch'])\n",
    "        asw_celltype = silhouette_score(adata_ext.X, adata_ext.obs['cell_type'])\n",
    "        min_val = -1\n",
    "        max_val = 1\n",
    "        asw_batch_norm = (asw_batch - min_val) / (max_val - min_val)\n",
    "        asw_celltype_norm = (asw_celltype - min_val) / (max_val - min_val)\n",
    "        \n",
    "        fscoreASW = (2 * (1 - asw_batch_norm)*(asw_celltype_norm))/(1 - asw_batch_norm + asw_celltype_norm)\n",
    "        asw_fscore.append(fscoreASW)\n",
    "        asw_bn.append(asw_batch_norm)\n",
    "        asw_bn_sub.append(1-asw_batch_norm)\n",
    "        asw_ctn.append(asw_celltype_norm)\n",
    "    \n",
    "#     iters.append('median_value')\n",
    "#     asw_fscore.append(np.round(np.median(fscoreASW),3))\n",
    "#     asw_bn.append(np.round(np.median(asw_batch_norm),3))\n",
    "#     asw_bn_sub.append(np.round(1 - np.median(asw_batch_norm),3))\n",
    "#     asw_ctn.append(np.round(np.median(asw_celltype_norm),3))\n",
    "    df = pd.DataFrame({'asw_batch_norm':asw_bn, 'asw_batch_norm_sub': asw_bn_sub,\n",
    "                       'asw_celltype_norm': asw_ctn, 'fscore':asw_fscore,\n",
    "                       'method_use':np.repeat(method_use, len(asw_fscore))})\n",
    "    df.to_csv(save_dir + save_fn + '.csv')\n",
    "    print('Save output of pca in: ',save_dir)\n",
    "    print(df.values.shape)\n",
    "    print(df.keys())\n",
    "    return df\n",
    "        "
   ]
  },
  {
   "cell_type": "code",
   "execution_count": null,
   "metadata": {},
   "outputs": [],
   "source": [
    "def createAnnData(data_dir,myDatafn):\n",
    "    myData = pd.read_csv(os.path.join(data_dir, myDatafn),header=0, index_col=0)\n",
    "    bex = ['batch','Batch','Batchlb','batchlb','BATCH']\n",
    "    ib = np.isin(myData.keys(), bex)\n",
    "    cex = ['celltype','CellType','cell_type','Cell_Type','ct']\n",
    "    ict = np.isin(myData.keys(), cex)\n",
    "    adata = sc.AnnData(myData.values[:,0:20])\n",
    "    adata.obs_names = myData.index\n",
    "    adata.obs['batch'] = myData.values[:, np.where(ib)[0][0]]  # factor function in R\n",
    "    adata.obs['cell_type'] = myData.values[:, np.where(ict)[0][0]]\n",
    "    print(adata)\n",
    "    return adata"
   ]
  },
  {
   "cell_type": "code",
   "execution_count": null,
   "metadata": {},
   "outputs": [],
   "source": [
    "data_dir = '/acrc/jinmiao/CJM_lab/hoatran/demo_normalization/xiaomeng/generate_PCA_tSNE_UMAP/dataset5/'\n",
    "save_dir = '/acrc/jinmiao/CJM_lab/hoatran/demo_normalization/manuscript_results/dataset5_human_pbmc/ASW_ARI/'\n",
    "print(save_dir)\n",
    "if not os.path.exists(save_dir+'asw_output/'): os.makedirs(os.path.join(save_dir,'asw_output/')) \n",
    "fls = [ f for f in os.listdir(data_dir) if f.endswith(\"_pca.csv\") & os.path.isfile(os.path.join(data_dir,f)) ]\n",
    "fls\n"
   ]
  },
  {
   "cell_type": "code",
   "execution_count": null,
   "metadata": {},
   "outputs": [],
   "source": [
    "import random\n",
    "final_ls = []\n",
    "for f in fls: \n",
    "    method_use = f[9:-8]\n",
    "    print('Extract asw for ', method_use)\n",
    "    save_fn = 'asw_' + method_use\n",
    "    print(method_use)\n",
    "    adata = createAnnData(data_dir,f)\n",
    "    asw_val = silhouette_coeff_ASW(adata, method_use, os.path.join(save_dir,'asw_output/'), \n",
    "                                          save_fn, percent_extract=0.8)\n",
    "    final_ls.append(asw_val)\n",
    "    \n",
    "\n",
    "result = pd.concat(final_ls)   \n",
    "result.to_csv(os.path.join(save_dir,'asw_output/','final_asw_summary.csv'))"
   ]
  }
 ],
 "metadata": {
  "kernelspec": {
   "display_name": "Python 3",
   "language": "python",
   "name": "python3"
  },
  "language_info": {
   "codemirror_mode": {
    "name": "ipython",
    "version": 3
   },
   "file_extension": ".py",
   "mimetype": "text/x-python",
   "name": "python",
   "nbconvert_exporter": "python",
   "pygments_lexer": "ipython3",
   "version": "3.7.6"
  }
 },
 "nbformat": 4,
 "nbformat_minor": 2
}
