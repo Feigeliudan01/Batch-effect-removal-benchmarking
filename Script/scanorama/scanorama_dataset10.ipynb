{
 "cells": [
  {
   "cell_type": "code",
   "execution_count": 1,
   "metadata": {},
   "outputs": [
    {
     "name": "stdout",
     "output_type": "stream",
     "text": [
      "scanpy==1.4.1 anndata==0.6.19 numpy==1.14.3 scipy==1.1.0 pandas==0.24.2 scikit-learn==0.20.0 statsmodels==0.8.0 python-igraph==0.7.1 louvain==0.6.1 \n"
     ]
    }
   ],
   "source": [
    "import numpy as np\n",
    "import scanorama\n",
    "import pandas as pd\n",
    "import matplotlib.pyplot as pl\n",
    "from matplotlib import rcParams\n",
    "import scanpy as sc\n",
    "sc.settings.verbosity = 3  # verbosity: errors (0), warnings (1), info (2), hints (3)\n",
    "sc.logging.print_versions()\n",
    "import time\n",
    "from datetime import timedelta"
   ]
  },
  {
   "cell_type": "code",
   "execution_count": 2,
   "metadata": {},
   "outputs": [
    {
     "name": "stdout",
     "output_type": "stream",
     "text": [
      "/acrc/jinmiao/CJM_lab/Marion/Project/Hoa_batch_normalization/demo_scanorama/scanorama_dataset10\n"
     ]
    }
   ],
   "source": [
    "import os \n",
    "dirname = os.getcwd()\n",
    "print(dirname)\n",
    "\n",
    "data_dir = '/acrc/jinmiao/CJM_lab/hoatran/demo_normalization/dataset/dataset10_hematoMNN_Hoa/final/'"
   ]
  },
  {
   "cell_type": "code",
   "execution_count": 3,
   "metadata": {},
   "outputs": [],
   "source": [
    "# Create folder to save the results \n",
    "#if not os.path.exists('./scanorama_dataset4/'): os.makedirs('./scanorama_dataset4/')\n",
    "    \n",
    "save_dir = dirname\n",
    "def save_images(basename):\n",
    "    if not os.path.exists('./visualization'): os.makedirs('./visualization')\n",
    "    \n",
    "    outname = './visualization/' + basename + '.png'\n",
    "    pl.savefig(outname, dpi=150)\n",
    "    pl.close()"
   ]
  },
  {
   "cell_type": "code",
   "execution_count": 4,
   "metadata": {},
   "outputs": [
    {
     "name": "stdout",
     "output_type": "stream",
     "text": [
      "AnnData object with n_obs × n_vars = 4649 × 3467 \n",
      "Index(['W31107', 'W31108'], dtype='object')\n",
      "Index(['ENSMUSG00000000290', 'ENSMUSG00000000594'], dtype='object')\n"
     ]
    }
   ],
   "source": [
    "# read data from read count text table, data from R: genes x cells\n",
    "adata1 = pd.read_csv(os.path.join(data_dir,'b1_exprs.txt'),sep='\\t',header=0, index_col=0)\n",
    "adata2 = pd.read_csv(os.path.join(data_dir,'b2_exprs.txt'),sep='\\t',header=0, index_col=0)\n",
    "adata = pd.concat([adata1, adata2], axis=1)\n",
    "adata = sc.AnnData(np.transpose(adata))\n",
    "print(adata)\n",
    "print(adata.obs_names[1:3])\n",
    "print(adata.var_names[1:3])"
   ]
  },
  {
   "cell_type": "code",
   "execution_count": 5,
   "metadata": {},
   "outputs": [
    {
     "name": "stdout",
     "output_type": "stream",
     "text": [
      "(4649, 2)\n",
      "Index(['CellType', 'batch'], dtype='object')\n"
     ]
    }
   ],
   "source": [
    "sample_adata1 = pd.read_csv(os.path.join(data_dir,'b1_celltype.txt'),header=0, index_col=0, sep='\\t')\n",
    "sample_adata1['batch'] = 'batch1'\n",
    "sample_adata2 = pd.read_csv(os.path.join(data_dir,'b2_celltype.txt'),header=0, index_col=0, sep='\\t')\n",
    "sample_adata2['batch'] = 'batch2'\n",
    "sample_adata = pd.concat([sample_adata1, sample_adata2], axis=0)\n",
    "print(sample_adata.values.shape)\n",
    "print(sample_adata.keys())"
   ]
  },
  {
   "cell_type": "code",
   "execution_count": 7,
   "metadata": {},
   "outputs": [
    {
     "name": "stderr",
     "output_type": "stream",
     "text": [
      "... storing 'cell_type' as categorical\n",
      "... storing 'batch' as categorical\n"
     ]
    },
    {
     "data": {
      "text/plain": [
       "AnnData object with n_obs × n_vars = 4649 × 3467 \n",
       "    obs: 'cell_type', 'batch'"
      ]
     },
     "execution_count": 7,
     "metadata": {},
     "output_type": "execute_result"
    }
   ],
   "source": [
    "# adata.obs['cell_type'] = sample_adata.loc[adata.obs_names,['CellType']]\n",
    "# adata.obs['batch'] = sample_adata.loc[adata.obs_names,['batch']]\n",
    "# adata.obs['tissue'] = sample_adata.loc[adata.obs_names,['tissue']]\n",
    "# adata.obs['organ'] = sample_adata.loc[adata.obs_names,['organ']]\n",
    "# adata.obs['batchlb'] = sample_adata.loc[adata.obs_names,['batchlb']]\n",
    "\n",
    "# adata.write(os.path.join(save_dir,'dataset10.h5ad'))\n",
    "\n",
    "# Save output into h5ad, easy to access \n",
    "adata1 = sc.read_h5ad(os.path.join(save_dir,'dataset10.h5ad'))\n",
    "adata1"
   ]
  },
  {
   "cell_type": "code",
   "execution_count": 8,
   "metadata": {},
   "outputs": [],
   "source": [
    "from scanorama import correct, visualize, process_data\n",
    "from scanorama import dimensionality_reduce"
   ]
  },
  {
   "cell_type": "code",
   "execution_count": 9,
   "metadata": {},
   "outputs": [
    {
     "name": "stdout",
     "output_type": "stream",
     "text": [
      "AnnData object with n_obs × n_vars = 2729 × 3467 \n",
      "    obs: 'cell_type', 'batch'\n",
      "AnnData object with n_obs × n_vars = 1920 × 3467 \n",
      "    obs: 'cell_type', 'batch'\n"
     ]
    }
   ],
   "source": [
    "adata_b1 = adata1[adata1.obs['batch']=='batch1',:].copy()\n",
    "print(adata_b1)\n",
    "adata_b2 = adata1[adata1.obs['batch']=='batch2',:].copy()\n",
    "print(adata_b2)"
   ]
  },
  {
   "cell_type": "code",
   "execution_count": 10,
   "metadata": {},
   "outputs": [],
   "source": [
    "adata_ls = [adata_b1, adata_b2]"
   ]
  },
  {
   "cell_type": "code",
   "execution_count": 11,
   "metadata": {},
   "outputs": [
    {
     "name": "stdout",
     "output_type": "stream",
     "text": [
      "Found 3467 genes among all datasets\n",
      "[[0.         0.32083333]\n",
      " [0.         0.        ]]\n",
      "Processing datasets (0, 1)\n",
      "Took 0:00:19.962375\n"
     ]
    }
   ],
   "source": [
    "# Batch correction.\n",
    "# datasets = [df.values]\n",
    "# List of datasets (matrices of cells-by-genes)\n",
    "t1 = time.time()\n",
    "corrected = scanorama.correct_scanpy(adata_ls, batch_size=50, return_dense=True, knn=20)\n",
    "# corrected, genes = scanorama.correct(adata_ls, adata1.var_names,batch_size=30)\n",
    "t2 = time.time()\n",
    "print('Took '+str(timedelta(seconds=t2-t1)))"
   ]
  },
  {
   "cell_type": "code",
   "execution_count": 12,
   "metadata": {},
   "outputs": [
    {
     "name": "stdout",
     "output_type": "stream",
     "text": [
      "AnnData object with n_obs × n_vars = 4649 × 3467 \n"
     ]
    }
   ],
   "source": [
    "total_ann = sc.AnnData(np.concatenate([corrected[0].X, corrected[1].X]))\n",
    "print(total_ann)"
   ]
  },
  {
   "cell_type": "code",
   "execution_count": 13,
   "metadata": {},
   "outputs": [
    {
     "data": {
      "text/plain": [
       "AnnData object with n_obs × n_vars = 4649 × 3467 \n",
       "    obs: 'cell_type', 'batch'"
      ]
     },
     "execution_count": 13,
     "metadata": {},
     "output_type": "execute_result"
    }
   ],
   "source": [
    "total_ann.var_names = corrected[0].var_names\n",
    "total_ann.obs_names = corrected[0].obs_names.tolist() + corrected[1].obs_names.tolist()\n",
    "total_ann.obs['cell_type'] = corrected[0].obs['cell_type'].tolist() + corrected[1].obs['cell_type'].tolist()\n",
    "total_ann.obs['batch'] = corrected[0].obs['batch'].tolist() + corrected[1].obs['batch'].tolist()\n",
    "total_ann"
   ]
  },
  {
   "cell_type": "code",
   "execution_count": 14,
   "metadata": {},
   "outputs": [
    {
     "name": "stdout",
     "output_type": "stream",
     "text": [
      "before:  [[-4.98238117e-01 -2.74382323e-01  1.07898876e-01 -1.47574325e-03\n",
      "  -2.28505768e-02 -1.01060539e-01 -2.88288873e-02  2.80157104e-02\n",
      "  -2.69658528e-02  2.46563889e-02  4.58510257e-02 -4.00498658e-02\n",
      "   3.53493914e-02  6.75095199e-03 -9.03615430e-02 -3.12630013e-02\n",
      "   1.82413694e-03  8.13910440e-02 -1.11637823e-02 -2.06006486e-02\n",
      "   8.11845344e-03  4.77864221e-03  1.87898353e-02 -2.19625738e-02\n",
      "  -5.64173050e-02 -7.82674551e-03 -2.21576579e-02 -7.18864053e-03\n",
      "  -3.70230875e-03  2.23114789e-02 -3.84375424e-04 -2.61909459e-02\n",
      "  -2.79475078e-02  6.62431261e-03  1.76506378e-02 -2.29860283e-02\n",
      "  -2.95176618e-02  1.02725960e-02  5.78616373e-03  1.79089829e-02\n",
      "   1.05333636e-02 -3.93981626e-03  1.87920965e-02  2.83901989e-02\n",
      "  -3.75365727e-02 -2.45604161e-02  3.13864015e-02 -1.42551083e-02\n",
      "   4.39827964e-02  2.86660399e-02]]\n",
      "after multiply:  [[ 4.98238117e-01  2.74382323e-01 -1.07898876e-01  1.47574325e-03\n",
      "   2.28505768e-02  1.01060539e-01  2.88288873e-02 -2.80157104e-02\n",
      "   2.69658528e-02 -2.46563889e-02 -4.58510257e-02  4.00498658e-02\n",
      "  -3.53493914e-02 -6.75095199e-03  9.03615430e-02  3.12630013e-02\n",
      "  -1.82413694e-03 -8.13910440e-02  1.11637823e-02  2.06006486e-02\n",
      "  -8.11845344e-03 -4.77864221e-03 -1.87898353e-02  2.19625738e-02\n",
      "   5.64173050e-02  7.82674551e-03  2.21576579e-02  7.18864053e-03\n",
      "   3.70230875e-03 -2.23114789e-02  3.84375424e-04  2.61909459e-02\n",
      "   2.79475078e-02 -6.62431261e-03 -1.76506378e-02  2.29860283e-02\n",
      "   2.95176618e-02 -1.02725960e-02 -5.78616373e-03 -1.79089829e-02\n",
      "  -1.05333636e-02  3.93981626e-03 -1.87920965e-02 -2.83901989e-02\n",
      "   3.75365727e-02  2.45604161e-02 -3.13864015e-02  1.42551083e-02\n",
      "  -4.39827964e-02 -2.86660399e-02]]\n"
     ]
    }
   ],
   "source": [
    "sc.tl.pca(total_ann, svd_solver='arpack') # n_comps=20\n",
    "print('before: ',total_ann.obsm['X_pca'][1:2])\n",
    "total_ann.obsm['X_pca'] *= -1  # multiply by -1 to match Seurat\n",
    "print('after multiply: ',total_ann.obsm['X_pca'][1:2])"
   ]
  },
  {
   "cell_type": "code",
   "execution_count": 15,
   "metadata": {},
   "outputs": [
    {
     "name": "stderr",
     "output_type": "stream",
     "text": [
      "... storing 'cell_type' as categorical\n",
      "... storing 'batch' as categorical\n"
     ]
    }
   ],
   "source": [
    "total_ann.write_h5ad(os.path.join(save_dir,'scanorama_corrected.h5ad'))"
   ]
  },
  {
   "cell_type": "code",
   "execution_count": 16,
   "metadata": {},
   "outputs": [
    {
     "name": "stdout",
     "output_type": "stream",
     "text": [
      "1563182762.8654664\n",
      "1563182782.8278415\n",
      "Took seconds: 0:00:20\n",
      "Took minutes: (0.0, 19.962375164031982)\n",
      "Took hours_minutes_seconds:  0.0 0.0 19.962375164031982\n",
      "          use_case exetime_secs exetimehours exetimemins exetimesecs\n",
      "exetime  scanorama           20          0.0         0.0          20\n",
      "Save file into directory:  /acrc/jinmiao/CJM_lab/Marion/Project/Hoa_batch_normalization/demo_scanorama/scanorama_dataset10\n"
     ]
    }
   ],
   "source": [
    "# save run time\n",
    "if not os.path.exists(os.path.join(save_dir,'runtime/')): os.makedirs(os.path.join(save_dir,'runtime/'))\n",
    "\n",
    "print(t1)\n",
    "print(t2)\n",
    "time_taken = t2 - t1\n",
    "time_taken_mins = divmod(time_taken, 60)\n",
    "time_taken_hours, rest = divmod( time_taken, 3600)\n",
    "hours_mins, hours_secs = divmod( rest, 60)\n",
    "print('Took seconds: '+str(timedelta(seconds=round(time_taken))))\n",
    "print('Took minutes: '+str(time_taken_mins))\n",
    "print('Took hours_minutes_seconds: ',str(time_taken_hours),str(hours_mins),str(hours_secs))\n",
    "usecase_name = 'scanorama'\n",
    "filename = 'scanorama_runtime.txt'\n",
    "\n",
    "data = {'use_case':usecase_name, 'exetime_secs':str(round(time_taken)),\n",
    "       'exetimehours': str(time_taken_hours),\n",
    "       'exetimemins': str(hours_mins),\n",
    "       'exetimesecs':str(round(hours_secs))} \n",
    "  \n",
    "# Creates pandas DataFrame. \n",
    "df = pd.DataFrame(data, index =['exetime'])\n",
    "print(df)\n",
    "print(\"Save file into directory: \",save_dir)\n",
    "df.to_csv(os.path.join(save_dir,'runtime/',filename)) "
   ]
  },
  {
   "cell_type": "code",
   "execution_count": 10,
   "metadata": {},
   "outputs": [],
   "source": [
    "# Function to plot TSNE\n",
    "def plotTSNE(adata, color_group, n_pcs=20, perplexity=90, save_filename='tsne', use_repx = False):\n",
    "    #adata.var_names_make_unique()\n",
    "    if use_repx:\n",
    "        sc.tl.tsne(adata, random_state=0, n_pcs=n_pcs, perplexity=perplexity, use_rep='X')\n",
    "    else:    \n",
    "        sc.tl.tsne(adata, random_state=0, n_pcs=n_pcs, perplexity=perplexity)\n",
    "    sc.pl.tsne(adata, color = color_group, show=False, wspace=.3)\n",
    "    save_images(save_filename)     \n",
    "    \n",
    "def plotUMAP(adata, color_group, save_filename, use_repx = False):\n",
    "    \n",
    "#     if use_repx:\n",
    "#         sc.pp.neighbors(adata, use_rep='X')\n",
    "#     else:    \n",
    "#         sc.pp.neighbors(adata,n_neighbors=10, n_pcs=20)\n",
    "        \n",
    "    sc.tl.umap(adata)\n",
    "    sc.pl.umap(adata, color = color_group, show=False)\n",
    "    save_images(save_filename) "
   ]
  },
  {
   "cell_type": "code",
   "execution_count": 11,
   "metadata": {},
   "outputs": [
    {
     "name": "stdout",
     "output_type": "stream",
     "text": [
      "computing neighbors\n",
      "    using 'X_pca' with n_pcs = 20\n",
      "    finished (0:05:43.35) --> added to `.uns['neighbors']`\n",
      "    'distances', distances for each pair of neighbors\n",
      "    'connectivities', weighted adjacency matrix\n",
      "scanorama - batch effect correction\n",
      "computing UMAP\n",
      "    finished (0:00:28.05) --> added\n",
      "    'X_umap', UMAP coordinates (adata.obsm)\n",
      "computing tSNE\n",
      "    using 'X_pca' with n_pcs = 10\n",
      "WARNING: Consider installing the package MulticoreTSNE (https://github.com/DmitryUlyanov/Multicore-TSNE). Even for n_jobs=1 this speeds up the computation considerably and might yield better converged results.\n",
      "    using sklearn.manifold.TSNE with a fix by D. DeTomaso\n",
      "    finished (0:00:49.84) --> added\n",
      "    'X_tsne', tSNE coordinates (adata.obsm)\n"
     ]
    }
   ],
   "source": [
    "# Visulization of normalized data\n",
    "# sc.tl.pca(total_ann, svd_solver='arpack')\n",
    "sc.pp.neighbors(total_ann,n_neighbors=15, n_pcs=20)\n",
    "print('scanorama - batch effect correction')\n",
    "color_group = ['cell_type','batch']\n",
    "# Visualization UMAP\n",
    "plotUMAP(total_ann, color_group, 'scanorama_umap')\n",
    "# Visualization tSNE\n",
    "plotTSNE(total_ann, color_group, 10, 30, 'scanorama_tsne')"
   ]
  },
  {
   "cell_type": "code",
   "execution_count": 12,
   "metadata": {},
   "outputs": [],
   "source": [
    "# scanorama_ann.obsm['X_umap'].__class__\n",
    "colnu = []\n",
    "for i in range(total_ann.obsm['X_umap'].shape[1]):\n",
    "    colnu.append(\"UMAP\"+str(i+1))\n",
    "df = pd.DataFrame(total_ann.obsm['X_umap'], columns=colnu, index=total_ann.obs_names)\n",
    "df['batch'] = pd.Series(total_ann.obs['batch'], index=total_ann.obs_names)\n",
    "df['celltype'] = pd.Series(total_ann.obs['cell_type'], index=total_ann.obs_names)\n",
    "df.to_csv(save_dir + '/visualization/scanorama_umap.csv') "
   ]
  },
  {
   "cell_type": "code",
   "execution_count": 13,
   "metadata": {},
   "outputs": [],
   "source": [
    "colnt = []\n",
    "for i in range(total_ann.obsm['X_tsne'].shape[1]):\n",
    "    colnt.append(\"tSNE_\"+str(i+1))\n",
    "df = pd.DataFrame(total_ann.obsm['X_tsne'], columns=colnt, index=total_ann.obs_names)\n",
    "df['batch'] = pd.Series(total_ann.obs['batch'], index=total_ann.obs_names)\n",
    "df['celltype'] = pd.Series(total_ann.obs['cell_type'], index=total_ann.obs_names)\n",
    "df.to_csv(save_dir+'/visualization/scanorama_tsne.csv') "
   ]
  },
  {
   "cell_type": "code",
   "execution_count": 14,
   "metadata": {},
   "outputs": [
    {
     "name": "stdout",
     "output_type": "stream",
     "text": [
      "[[ 4.98238117e-01  2.74382323e-01 -1.07898876e-01  1.47574325e-03\n",
      "   2.28505768e-02  1.01060539e-01  2.88288873e-02 -2.80157104e-02\n",
      "   2.69658528e-02 -2.46563889e-02 -4.58510257e-02  4.00498658e-02\n",
      "  -3.53493914e-02 -6.75095199e-03  9.03615430e-02  3.12630013e-02\n",
      "  -1.82413694e-03 -8.13910440e-02  1.11637823e-02  2.06006486e-02\n",
      "  -8.11845344e-03 -4.77864221e-03 -1.87898353e-02  2.19625738e-02\n",
      "   5.64173050e-02  7.82674551e-03  2.21576579e-02  7.18864053e-03\n",
      "   3.70230875e-03 -2.23114789e-02  3.84375424e-04  2.61909459e-02\n",
      "   2.79475078e-02 -6.62431261e-03 -1.76506378e-02  2.29860283e-02\n",
      "   2.95176618e-02 -1.02725960e-02 -5.78616373e-03 -1.79089829e-02\n",
      "  -1.05333636e-02  3.93981626e-03 -1.87920965e-02 -2.83901989e-02\n",
      "   3.75365727e-02  2.45604161e-02 -3.13864015e-02  1.42551083e-02\n",
      "  -4.39827964e-02 -2.86660399e-02]\n",
      " [-5.21412671e-01  2.65941322e-01 -1.40245371e-02  3.21648382e-02\n",
      "   1.98735390e-02 -3.13851349e-02  2.35952772e-02  2.64317822e-02\n",
      "   1.00202076e-01  4.89457063e-02 -1.96416304e-02  1.93704683e-02\n",
      "   7.19268760e-03  3.52478884e-02  7.34846666e-02 -7.44493902e-02\n",
      "   8.15666318e-02 -2.82115936e-02  4.75138463e-02  5.20744314e-03\n",
      "  -7.08965259e-03 -7.30543223e-04  3.66029292e-02  2.24038679e-02\n",
      "  -1.07225273e-02 -2.65613571e-02  5.34472391e-02  1.50549281e-02\n",
      "   1.09698521e-02  1.83765292e-02 -7.75573403e-03 -2.55472045e-02\n",
      "  -1.71995945e-02  2.76805600e-03 -2.00239872e-03  5.81171140e-02\n",
      "   1.29532954e-02  2.64736973e-02 -2.00723764e-02  7.62711093e-03\n",
      "   1.98339717e-03 -2.21938901e-02 -3.16374116e-02  3.05731278e-02\n",
      "   3.06032179e-03  1.81193966e-02 -1.72038488e-02 -3.82730812e-02\n",
      "   1.26252538e-02  3.94602073e-03]\n",
      " [ 4.96266395e-01  2.85788685e-01 -1.30199313e-01  9.26061273e-02\n",
      "  -5.13038971e-02  4.05273400e-02 -1.51905697e-02 -4.50647995e-02\n",
      "   1.47679383e-02 -4.60082442e-02 -3.94998640e-02 -3.25172283e-02\n",
      "  -6.32577240e-02 -4.36430052e-02  4.87246253e-02  5.39593361e-02\n",
      "   2.70566195e-02 -9.14013013e-03  3.19481678e-02  6.89965934e-02\n",
      "  -2.03629043e-02 -2.60934550e-02  1.56948194e-02  2.84431055e-02\n",
      "   1.99879892e-02 -9.65667423e-03  2.91589163e-02  2.61290148e-02\n",
      "   1.32873491e-03 -2.16966141e-02  1.17747597e-02 -3.43263289e-03\n",
      "   7.96095002e-03  4.08314029e-03 -6.64227130e-03  2.13393569e-03\n",
      "   2.93370895e-02  1.58771465e-03 -1.16182072e-02  3.32281180e-03\n",
      "   1.52526144e-03  2.51802653e-02 -3.84262800e-02 -2.57553495e-02\n",
      "  -2.24615820e-03  1.09441802e-02  3.86244543e-02 -7.34667666e-03\n",
      "   3.78108919e-02  1.94428824e-02]\n",
      " [-5.30714631e-01  1.97480708e-01  5.33632264e-02  3.01913451e-02\n",
      "   1.88562162e-02 -1.05482782e-03  1.74648017e-02 -1.01512656e-01\n",
      "   2.81891823e-02  3.37107591e-02  1.52615122e-02  4.41218689e-02\n",
      "   4.28149365e-02 -5.74766174e-02  1.30989794e-02 -1.12473555e-02\n",
      "  -4.19273227e-02  1.39152370e-02 -2.91193463e-02  6.32884204e-02\n",
      "   6.72065653e-04 -2.11969502e-02 -4.33126092e-02 -2.62008188e-03\n",
      "  -9.19043925e-03  3.55229191e-02 -1.85404699e-02 -9.07349885e-02\n",
      "  -6.58275560e-02 -6.92575995e-04  3.30231749e-02  2.34803464e-03\n",
      "   2.17024144e-02 -4.63815629e-02  1.47172413e-03 -5.31948656e-02\n",
      "  -1.80665292e-02 -2.19669659e-02 -1.80499610e-02  2.93241953e-03\n",
      "   1.73837673e-02  2.06024963e-02 -3.18721272e-02 -4.51006480e-02\n",
      "  -1.50585100e-02 -1.11595890e-03  1.42992847e-03  1.80120543e-02\n",
      "   2.95698196e-02 -4.11608256e-04]]\n"
     ]
    }
   ],
   "source": [
    "# save\n",
    "if not os.path.exists(os.path.join(save_dir,'ASW/')): os.makedirs(os.path.join(save_dir,'ASW/'))\n",
    "\n",
    "total_ann.obsm['X_pca'].shape\n",
    "print(total_ann.obsm['X_pca'][1:5])\n",
    "def write_to_csv(mat, genesname, cellsname, filename, save_dir):\n",
    "    if isinstance(mat, np.ndarray):\n",
    "        df = pd.DataFrame(mat, columns=genesname, index=cellsname)\n",
    "    else:\n",
    "        df = pd.DataFrame(mat.toarray(), columns=genesname, index=cellsname)        \n",
    "    \n",
    "    df.to_csv(save_dir+'/ASW/'+filename)  \n",
    "    \n",
    "filename = 'scanorama_pca.csv'\n",
    "coln_pca = []\n",
    "for i in range(total_ann.obsm['X_pca'].shape[1]):\n",
    "    coln_pca.append(\"X_pca\"+str(i+1))\n",
    "    \n",
    "write_to_csv(total_ann.obsm['X_pca'], coln_pca, total_ann.obs_names, filename, save_dir)"
   ]
  },
  {
   "cell_type": "code",
   "execution_count": null,
   "metadata": {},
   "outputs": [],
   "source": []
  }
 ],
 "metadata": {
  "kernelspec": {
   "display_name": "Python 3",
   "language": "python",
   "name": "python3"
  },
  "language_info": {
   "codemirror_mode": {
    "name": "ipython",
    "version": 3
   },
   "file_extension": ".py",
   "mimetype": "text/x-python",
   "name": "python",
   "nbconvert_exporter": "python",
   "pygments_lexer": "ipython3",
   "version": "3.6.8"
  }
 },
 "nbformat": 4,
 "nbformat_minor": 2
}
