{
 "cells": [
  {
   "cell_type": "code",
   "execution_count": 11,
   "metadata": {},
   "outputs": [
    {
     "name": "stdout",
     "output_type": "stream",
     "text": [
      "scanpy==1.4+18.gaabe446 anndata==0.6.17 numpy==1.15.4 scipy==1.1.0 pandas==0.23.4 scikit-learn==0.20.2 statsmodels==0.9.0 python-igraph==0.7.1 louvain==0.6.1 \n"
     ]
    }
   ],
   "source": [
    "# Scanorama batch effect correction\n",
    "# See more at: https://github.com/brianhie/scanorama\n",
    "# Hoa Tran \n",
    "import numpy as np\n",
    "import pandas as pd\n",
    "import matplotlib.pyplot as pl\n",
    "from matplotlib import rcParams\n",
    "import time\n",
    "from datetime import timedelta\n",
    "import scanpy as sc\n",
    "sc.settings.verbosity = 3  # verbosity: errors (0), warnings (1), info (2), hints (3)\n",
    "sc.logging.print_versions()"
   ]
  },
  {
   "cell_type": "code",
   "execution_count": 12,
   "metadata": {},
   "outputs": [
    {
     "name": "stdout",
     "output_type": "stream",
     "text": [
      "/acrc/jinmiao/CJM_lab/hoatran/demo_normalization/demo_Scanorama/scanorama_python\n",
      "Create a save dir:  /acrc/jinmiao/CJM_lab/hoatran/demo_normalization/demo_Scanorama/scanorama_python/results/results_dataset9_HCA/\n"
     ]
    }
   ],
   "source": [
    "# Create folder to save the results \n",
    "import os\n",
    "dirname = os.getcwd()\n",
    "print(dirname)\n",
    "data_dir = os.path.join('/home/hoa/hoatran/demo_normalization/dataset/dataset9_Human_cell_atlas/raw_data_python/')\n",
    "\n",
    "if not os.path.exists('./results/'): os.makedirs('./results/')   \n",
    "if not os.path.exists('./results/results_dataset9_HCA/'): os.makedirs('./results/results_dataset9_HCA/')    \n",
    "save_dir = os.path.join(dirname, 'results/results_dataset9_HCA/')\n",
    "print('Create a save dir: ',save_dir)\n",
    "# Function to save figure as image in the figures folder\n",
    "save_fig_dir='./figures/dataset9_HCA/'\n",
    "if not os.path.exists('./figures/'): os.makedirs('./figures/')\n",
    "if not os.path.exists(save_fig_dir): os.makedirs(save_fig_dir)\n",
    "def save_images(filename, save_fig_dir):    \n",
    "    outname = save_fig_dir + filename + '.png'\n",
    "    pl.savefig(outname, dpi=150)\n",
    "    pl.close()"
   ]
  },
  {
   "cell_type": "code",
   "execution_count": 13,
   "metadata": {},
   "outputs": [],
   "source": [
    "# def load_data(data_dir, myDataFn, mySampleFn,save_dir, savefn, saveh5ad=False):\n",
    "#     myData = pd.read_csv(os.path.join(data_dir,myDataFn),header=0, index_col=0, sep='\\t')\n",
    "#     mySample = pd.read_csv(os.path.join(data_dir,mySampleFn),header=0, index_col=0, sep='\\t')\n",
    "#     adata = sc.AnnData(myData.values.T)\n",
    "#     adata.obs_names = myData.keys()\n",
    "#     adata.var_names = myData.index\n",
    "# #     adata.obs['cell_type'] = mySample.loc[adata.obs_names,['celltype']]\n",
    "#     adata.obs['batch'] = mySample.loc[adata.obs_names,['batch']]\n",
    "# #     adata.obs['batch'] = adata.obs['batch'].astype('category')\n",
    "#     adata.obs['batchlb'] = mySample.loc[adata.obs_names,['batchlb']]\n",
    "\n",
    "#     # Save output into h5ad, lightweight, easy to access and load again\n",
    "#     # Similar to rds format in R\n",
    "#     if saveh5ad:\n",
    "#         adata.write_h5ad(os.path.join(save_dir,savefn))\n",
    "        \n",
    "#     print(adata)\n",
    "#     return adata\n",
    "\n",
    "# myDataFn = 'filtered_genes_and_cells/HCA_genes_cells_filtered_filtered_UMI.txt'\n",
    "# mySampleFn = 'HCA_genes_cells_filtered_filtered_cell_info_correct.txt'\n",
    "# savefn = 'myRawData1.h5ad'\n",
    "# adata = load_data(data_dir, myDataFn, mySampleFn, save_dir, savefn,saveh5ad=False)\n",
    "# adata"
   ]
  },
  {
   "cell_type": "code",
   "execution_count": 14,
   "metadata": {},
   "outputs": [
    {
     "name": "stdout",
     "output_type": "stream",
     "text": [
      "/home/hoa/hoatran/demo_normalization/dataset/dataset9_Human_cell_atlas/raw_data_python/HCA_genes_cells_filtered_filtered_UMI_adata.h5ad\n",
      "AnnData object with n_obs × n_vars = 621466 × 18969 \n",
      "    obs: 'batch', 'batchlb'\n"
     ]
    }
   ],
   "source": [
    "savefn = 'HCA_genes_cells_filtered_filtered_UMI_adata.h5ad'\n",
    "print(os.path.join(data_dir,savefn))\n",
    "adata = sc.read_h5ad(os.path.join(data_dir,savefn))\n",
    "print(adata)"
   ]
  },
  {
   "cell_type": "code",
   "execution_count": 15,
   "metadata": {},
   "outputs": [
    {
     "name": "stdout",
     "output_type": "stream",
     "text": [
      "AnnData object with n_obs × n_vars = 321463 × 18969 \n",
      "    obs: 'batch', 'batchlb'\n",
      "AnnData object with n_obs × n_vars = 300003 × 18969 \n",
      "    obs: 'batch', 'batchlb'\n",
      "AnnData object with n_obs × n_vars = 0 × 18969 \n",
      "    obs: 'batch', 'batchlb'\n"
     ]
    }
   ],
   "source": [
    "# Already filtered\n",
    "# sc.pp.filter_cells(adata, min_genes=300)\n",
    "# sc.pp.filter_genes(adata, min_cells=10)\n",
    "\n",
    "adata1 = adata[adata.obs['batch']==1,:].copy()\n",
    "adata2 = adata[adata.obs['batch']==2,:].copy()\n",
    "print(adata1)\n",
    "print(adata2)\n",
    "sum(adata2.var_names==adata1.var_names)"
   ]
  },
  {
   "cell_type": "code",
   "execution_count": 18,
   "metadata": {},
   "outputs": [],
   "source": [
    "from scanorama import correct, visualize, process_data\n",
    "from scanorama import dimensionality_reduce\n",
    "import scanorama\n",
    "adata_ls = [adata1, adata2]"
   ]
  },
  {
   "cell_type": "code",
   "execution_count": 19,
   "metadata": {},
   "outputs": [
    {
     "name": "stdout",
     "output_type": "stream",
     "text": [
      "Found 18969 genes among all datasets\n",
      "[[0.         0.29115948]\n",
      " [0.         0.        ]]\n",
      "Processing datasets (0, 1)\n"
     ]
    },
    {
     "name": "stderr",
     "output_type": "stream",
     "text": [
      "WARNING: Out of memory, consider lowering the batch_size parameter.\n"
     ]
    },
    {
     "name": "stdout",
     "output_type": "stream",
     "text": [
      "Took 12:27:53.591624\n"
     ]
    }
   ],
   "source": [
    "# Batch correction.\n",
    "# datasets = [df.values]\n",
    "# List of datasets (matrices of cells-by-genes)\n",
    "t1 = time.time()\n",
    "corrected = scanorama.correct_scanpy(adata_ls, batch_size=100, return_dense=True, knn=20)\n",
    "# corrected, genes = scanorama.correct(adata_ls, adata1.var_names,batch_size=30)\n",
    "t2 = time.time()\n",
    "print('Took '+str(timedelta(seconds=t2-t1)))"
   ]
  },
  {
   "cell_type": "code",
   "execution_count": 20,
   "metadata": {},
   "outputs": [
    {
     "name": "stdout",
     "output_type": "stream",
     "text": [
      "AnnData object with n_obs × n_vars = 621466 × 18969 \n"
     ]
    }
   ],
   "source": [
    "adata = sc.AnnData(np.concatenate([corrected[0].X, corrected[1].X]))\n",
    "print(adata)"
   ]
  },
  {
   "cell_type": "code",
   "execution_count": 21,
   "metadata": {},
   "outputs": [
    {
     "data": {
      "text/plain": [
       "AnnData object with n_obs × n_vars = 621466 × 18969 \n",
       "    obs: 'batch', 'batchlb'"
      ]
     },
     "execution_count": 21,
     "metadata": {},
     "output_type": "execute_result"
    }
   ],
   "source": [
    "adata.var_names = corrected[0].var_names\n",
    "adata.obs_names = corrected[0].obs_names.tolist() + corrected[1].obs_names.tolist() \n",
    "# adata.obs['cell_type'] = corrected[0].obs['cell_type'].tolist() + corrected[1].obs['cell_type'].tolist() \n",
    "adata.obs['batch'] = corrected[0].obs['batch'].tolist() + corrected[1].obs['batch'].tolist() \n",
    "adata.obs['batchlb'] = corrected[0].obs['batchlb'].tolist() + corrected[1].obs['batchlb'].tolist() \n",
    "adata"
   ]
  },
  {
   "cell_type": "code",
   "execution_count": 22,
   "metadata": {},
   "outputs": [
    {
     "data": {
      "text/plain": [
       "AnnData object with n_obs × n_vars = 621466 × 18969 \n",
       "    obs: 'batch', 'batchlb'\n",
       "    uns: 'pca'\n",
       "    obsm: 'X_pca'\n",
       "    varm: 'PCs'"
      ]
     },
     "execution_count": 22,
     "metadata": {},
     "output_type": "execute_result"
    }
   ],
   "source": [
    "npcs = 20  \n",
    "sc.tl.pca(adata, svd_solver='arpack', n_comps=npcs)  \n",
    "adata.obsm['X_pca'] *= -1  # multiply by -1 to match Seurat\n",
    "adata"
   ]
  },
  {
   "cell_type": "code",
   "execution_count": 23,
   "metadata": {},
   "outputs": [
    {
     "name": "stdout",
     "output_type": "stream",
     "text": [
      "Took seconds: 12:27:54\n",
      "Took minutes: (747.0, 53.59162354469299)\n",
      "Took hours_minutes_seconds:  12.0 27.0 53.59162354469299\n",
      "                  use_case exetime_secs exetimehours exetimemins exetimesecs\n",
      "exetime  scanorama_exetime        44874         12.0        27.0          54\n",
      "/acrc/jinmiao/CJM_lab/hoatran/demo_normalization/demo_Scanorama/scanorama_python/results/results_dataset9_HCA/\n"
     ]
    }
   ],
   "source": [
    "def getExecutionTime(t1, t2, save_dir, usecase_name,filename):\n",
    "    time_taken = (t2 - t1)\n",
    "    time_taken_mins = divmod(time_taken, 60)\n",
    "    time_taken_hours, rest = divmod( time_taken, 3600)\n",
    "    hours_mins, hours_secs = divmod( rest, 60)\n",
    "    print('Took seconds: '+str(timedelta(seconds=round(time_taken))))\n",
    "    print('Took minutes: '+str(time_taken_mins))\n",
    "    print('Took hours_minutes_seconds: ',str(time_taken_hours),str(hours_mins),str(hours_secs))\n",
    "    \n",
    "    \n",
    "\n",
    "    data = {'use_case':usecase_name, 'exetime_secs':str(round(time_taken)),\n",
    "           'exetimehours': str(time_taken_hours),\n",
    "           'exetimemins': str(hours_mins),\n",
    "           'exetimesecs':str(round(hours_secs))} \n",
    "    df = pd.DataFrame(data, index =['exetime'])\n",
    "    print(df)\n",
    "    df.to_csv(save_dir+filename) \n",
    "\n",
    "# Evaluation runtime of main batch effect removal function\n",
    "filename = 'scanorama_exetime.csv'\n",
    "usecase_name = 'scanorama_exetime' \n",
    "getExecutionTime(t1, t2, save_dir, usecase_name, filename)  # t1: start time, t2: end time  \n",
    "print(save_dir)"
   ]
  },
  {
   "cell_type": "code",
   "execution_count": 24,
   "metadata": {},
   "outputs": [
    {
     "name": "stdout",
     "output_type": "stream",
     "text": [
      "./figures/dataset9_HCA/\n",
      "computing neighbors\n",
      "    using 'X_pca' with n_pcs = 20\n",
      "    finished (0:08:22.81) --> added to `.uns['neighbors']`\n",
      "    'distances', distances for each pair of neighbors\n",
      "    'connectivities', weighted adjacency matrix\n",
      "computing UMAP\n",
      "    finished (0:22:17.32) --> added\n",
      "    'X_umap', UMAP coordinates (adata.obsm)\n"
     ]
    },
    {
     "name": "stderr",
     "output_type": "stream",
     "text": [
      "... storing 'batchlb' as categorical\n"
     ]
    },
    {
     "name": "stdout",
     "output_type": "stream",
     "text": [
      "Save output of UMAP in : ./figures/dataset9_HCA/\n"
     ]
    }
   ],
   "source": [
    "def plotUMAP(adata, color_group, save_filename='umap', save_dir='', npcs=20, nb_neighbors=15, use_repx = False):\n",
    "    \n",
    "    # Run with all genes and entire expr matrix\n",
    "    if use_repx:\n",
    "        sc.pp.neighbors(adata, use_rep='X')\n",
    "    else:    # Run umap using pcs vectors\n",
    "        sc.pp.neighbors(adata,n_neighbors=nb_neighbors, n_pcs=npcs)\n",
    "        \n",
    "    sc.tl.umap(adata)\n",
    "    sc.pl.umap(adata, color = color_group, show=False)\n",
    "    save_images(save_filename, save_dir)\n",
    "\n",
    "    \n",
    "npcs = 20  # our pre-defined\n",
    "perplex = 30  # our pre-defined\n",
    "nb_neighbors = 15\n",
    "color_group = [\"batchlb\",'batch'] \n",
    "save_fn_umap = 'scanorama_umap'\n",
    "print(save_fig_dir)\n",
    "plotUMAP(adata, color_group, save_fn_umap, save_fig_dir, npcs, nb_neighbors, False)\n",
    "print('Save output of UMAP in :',save_fig_dir)"
   ]
  },
  {
   "cell_type": "code",
   "execution_count": 26,
   "metadata": {},
   "outputs": [
    {
     "name": "stdout",
     "output_type": "stream",
     "text": [
      "Save output of normalized data in : /acrc/jinmiao/CJM_lab/hoatran/demo_normalization/demo_Scanorama/scanorama_python/results/results_dataset9_HCA/\n"
     ]
    }
   ],
   "source": [
    "def save_output_txt(adata, save_dir): \n",
    "    colnu = []\n",
    "    for i in range(adata.obsm['X_umap'].shape[1]):\n",
    "        colnu.append(\"UMAP\"+str(i+1))\n",
    "    df = pd.DataFrame(adata.obsm['X_umap'], columns=colnu, index=adata.obs_names)\n",
    "    df['batch'] = pd.Series(adata.obs['batch'], index=adata.obs_names)\n",
    "    df['batchlb'] = pd.Series(adata.obs['batchlb'], index=adata.obs_names)\n",
    "#     df['celltype'] = pd.Series(adata.obs['cell_type'], index=adata.obs_names)\n",
    "    df.to_csv(save_dir+'scanorama_umap.csv')  \n",
    "\n",
    "#     # Save output of tsne for visualization\n",
    "#     colnt = []\n",
    "#     for i in range(adata.obsm['X_tsne'].shape[1]):\n",
    "#         colnt.append(\"tSNE_\"+str(i+1))\n",
    "\n",
    "#     df = pd.DataFrame(adata.obsm['X_tsne'], columns=colnt, index=adata.obs_names)\n",
    "#     df['batch'] = pd.Series(adata.obs['batch'], index=adata.obs_names)\n",
    "#     df['batchlb'] = pd.Series(adata.obs['batchlb'], index=adata.obs_names)\n",
    "# #     df['celltype'] = pd.Series(adata.obs['cell_type'], index=adata.obs_names)\n",
    "#     df.to_csv(save_dir+'scanorama_tsne.csv') \n",
    "\n",
    "    # Save output of pca for evaluation ASW\n",
    "    colnpc = []\n",
    "    for i in range(20):\n",
    "        colnpc.append(\"X_pca\"+str(i+1))\n",
    "\n",
    "    df = pd.DataFrame(adata.obsm['X_pca'][:, :20], columns=colnpc, index=adata.obs_names)\n",
    "    df['batch'] = pd.Series(adata.obs['batch'], index=adata.obs_names)\n",
    "    df['batchlb'] = pd.Series(adata.obs['batchlb'], index=adata.obs_names)\n",
    "#     df['celltype'] = pd.Series(adata.obs['cell_type'], index=adata.obs_names)\n",
    "    df.to_csv(save_dir+'scanorama_pca.csv')\n",
    "\n",
    "# Apply to our data    \n",
    "save_output_txt(adata, save_dir)\n",
    "print('Save output of normalized data in :',save_dir)"
   ]
  },
  {
   "cell_type": "code",
   "execution_count": 27,
   "metadata": {},
   "outputs": [],
   "source": [
    "# # Function to plot TSNE\n",
    "# def plotTSNE(adata, color_group, save_filename='tsne', save_dir='', n_pcs=20, perplex=30, use_repx = False):\n",
    "    \n",
    "#     # Run with all genes and entire matrix\n",
    "#     if use_repx:\n",
    "#         sc.tl.tsne(adata, perplexity=perplex, use_rep='X')\n",
    "#     else:    # Run tsne using pcs vectors\n",
    "#         sc.tl.tsne(adata, n_pcs=n_pcs, perplexity=perplex)\n",
    "#     sc.pl.tsne(adata, color = color_group, show=False, wspace=.3)\n",
    "#     save_images(save_filename, save_dir) \n",
    "\n",
    "# save_fn_tsne = 'scanorama_tsne'\n",
    "# plotTSNE(adata, color_group, save_fn_tsne, save_fig_dir, npcs, perplex, False)\n",
    "# print('Save output of t-SNE in :',save_fig_dir)"
   ]
  },
  {
   "cell_type": "code",
   "execution_count": 28,
   "metadata": {},
   "outputs": [
    {
     "name": "stdout",
     "output_type": "stream",
     "text": [
      "Save output of normalized data in : /acrc/jinmiao/CJM_lab/hoatran/demo_normalization/demo_Scanorama/scanorama_python/results/results_dataset9_HCA/\n"
     ]
    }
   ],
   "source": [
    "savefn = 'scanorama_normalized_adata.h5ad'\n",
    "adata.write_h5ad(os.path.join(save_dir,savefn))\n",
    "print('Save output of normalized data in :',save_dir)"
   ]
  },
  {
   "cell_type": "code",
   "execution_count": null,
   "metadata": {},
   "outputs": [],
   "source": []
  }
 ],
 "metadata": {
  "kernelspec": {
   "display_name": "Python 3",
   "language": "python",
   "name": "python3"
  },
  "language_info": {
   "codemirror_mode": {
    "name": "ipython",
    "version": 3
   },
   "file_extension": ".py",
   "mimetype": "text/x-python",
   "name": "python",
   "nbconvert_exporter": "python",
   "pygments_lexer": "ipython3",
   "version": "3.6.7"
  }
 },
 "nbformat": 4,
 "nbformat_minor": 2
}
