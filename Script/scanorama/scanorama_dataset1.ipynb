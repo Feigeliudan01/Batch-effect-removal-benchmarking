{
 "cells": [
  {
   "cell_type": "code",
   "execution_count": 1,
   "metadata": {},
   "outputs": [
    {
     "name": "stdout",
     "output_type": "stream",
     "text": [
      "scanpy==1.4 anndata==0.6.18 numpy==1.16.2 scipy==1.1.0 pandas==0.23.4 scikit-learn==0.20.3 statsmodels==0.9.0 python-igraph==0.7.1 louvain==0.6.1 \n"
     ]
    }
   ],
   "source": [
    "import numpy as np\n",
    "import scanorama\n",
    "import pandas as pd\n",
    "import matplotlib.pyplot as pl\n",
    "from matplotlib import rcParams\n",
    "import scanpy as sc\n",
    "sc.settings.verbosity = 3  # verbosity: errors (0), warnings (1), info (2), hints (3)\n",
    "sc.logging.print_versions()"
   ]
  },
  {
   "cell_type": "code",
   "execution_count": 2,
   "metadata": {},
   "outputs": [],
   "source": [
    "import utils_viz"
   ]
  },
  {
   "cell_type": "code",
   "execution_count": 3,
   "metadata": {},
   "outputs": [
    {
     "name": "stdout",
     "output_type": "stream",
     "text": [
      "/data_n3/home/hoatran/python-workspace/dca_scGen\n"
     ]
    }
   ],
   "source": [
    "# Create folder to save the results \n",
    "import os\n",
    "dirname = os.getcwd()\n",
    "print(dirname)\n",
    "data_dir = os.path.join(dirname, './data/dataset1_uc3/')\n",
    "if not os.path.exists('./results/'): os.makedirs('./results/')\n",
    "save_dir = os.path.join(dirname, './results/')\n",
    "def save_images(basename):\n",
    "    if not os.path.exists('./figures/'): os.makedirs('./figures/')\n",
    "    outname = './figures/' + basename + '.png'\n",
    "    pl.savefig(outname, dpi=150)\n",
    "    pl.close()"
   ]
  },
  {
   "cell_type": "code",
   "execution_count": 4,
   "metadata": {},
   "outputs": [],
   "source": [
    "# read data from read count text table, data from R: genes x cells\n",
    "# adata = sc.read_text(os.path.join(data_dir,'dataset1_sm_uc3.txt'),delimiter='\\t',first_column_names=True,dtype='float64')\n",
    "# print(adata)\n",
    "# print(len(adata.obs_names))\n",
    "# print(adata.var_names)\n",
    "# Read sample into a pandas series\n",
    "# sample_adata = pd.read_csv(os.path.join(data_dir,'sample_sm_uc3.txt'),header=0, index_col=0, sep='\\t')\n",
    "# print(sample_adata.values.shape)\n",
    "# print(sample_adata.keys())\n",
    "\n",
    "# Data have format genes x cells\n",
    "# But input for scanpy package require the format of cells x genes, samples x features\n",
    "# We need to copyt data into new adata object with inverse raw data \n",
    "# adata1 = sc.AnnData(adata.X.T)\n",
    "# adata1.var_names = adata.obs_names\n",
    "# adata1.obs_names = adata.var_names\n",
    "# adata1\n",
    "# Save label information into adata object, same idea as Seurat \n",
    "# adata1.obs['cell_type'] = sample_adata.loc[adata1.obs_names,['celltype']]\n",
    "# adata1.obs['batch'] = sample_adata.loc[adata1.obs_names,['batch']]\n",
    "# print(len(adata1.obs['cell_type']))\n",
    "# print(len(adata1.obs['batch']))\n",
    "# Save output into h5ad, easy to access \n",
    "# adata1.write_h5ad(os.path.join(data_dir,'dataset1_uc3.h5ad'))\n",
    "\n",
    "\n",
    "# sc.pp.filter_cells(adata1, min_genes=300)\n",
    "# sc.pp.filter_genes(adata1, min_cells=5)\n",
    "# adata1.write_h5ad(os.path.join(data_dir,'filtered_dataset1_uc3.h5ad'))\n",
    "# print('Read and filter data')\n",
    "# adata = sc.read_h5ad(os.path.join(data_dir,'filtered_dataset1_uc3.h5ad'))\n",
    "# adata"
   ]
  },
  {
   "cell_type": "code",
   "execution_count": 5,
   "metadata": {},
   "outputs": [
    {
     "name": "stdout",
     "output_type": "stream",
     "text": [
      "Read and filter data\n",
      "filtered out 11 cells that have less than 300 genes expressed\n",
      "filtered out 9999 genes that are detected in less than 5 cells\n"
     ]
    },
    {
     "data": {
      "text/plain": [
       "AnnData object with n_obs × n_vars = 565 × 16594 \n",
       "    obs: 'cell_type', 'batch', 'n_genes'\n",
       "    var: 'n_cells'"
      ]
     },
     "execution_count": 5,
     "metadata": {},
     "output_type": "execute_result"
    }
   ],
   "source": [
    "print('Read and filter data')\n",
    "adata = sc.read_h5ad(os.path.join(data_dir,'dataset1_uc3.h5ad'))\n",
    "import time\n",
    "from datetime import timedelta\n",
    "t1 = time.time()\n",
    "# Filtering data \n",
    "sc.pp.filter_cells(adata, min_genes=300)\n",
    "sc.pp.filter_genes(adata, min_cells=5)\n",
    "adata"
   ]
  },
  {
   "cell_type": "code",
   "execution_count": 6,
   "metadata": {},
   "outputs": [],
   "source": [
    "from scanorama import correct, visualize, process_data\n",
    "from scanorama import dimensionality_reduce"
   ]
  },
  {
   "cell_type": "code",
   "execution_count": 7,
   "metadata": {},
   "outputs": [
    {
     "name": "stdout",
     "output_type": "stream",
     "text": [
      "AnnData object with n_obs × n_vars = 282 × 16594 \n",
      "    obs: 'cell_type', 'batch', 'n_genes'\n",
      "    var: 'n_cells'\n",
      "AnnData object with n_obs × n_vars = 283 × 16594 \n",
      "    obs: 'cell_type', 'batch', 'n_genes'\n",
      "    var: 'n_cells'\n"
     ]
    }
   ],
   "source": [
    "# df = pd.DataFrame(data=adata.X,\n",
    "#                   index=adata.obs_names,\n",
    "#                   columns=adata.var_names)\n",
    "\n",
    "# Input of scanorama is a list of AnnData\n",
    "adata1 = adata[adata.obs['batch']=='Batch1',:].copy()\n",
    "print(adata1)\n",
    "adata2 = adata[adata.obs['batch']=='Batch2',:].copy()\n",
    "print(adata2)\n",
    "# df1 = pd.DataFrame(data=adata1.X,\n",
    "#                   index=adata1.obs_names,\n",
    "#                   columns=adata1.var_names)\n",
    "# df2 = pd.DataFrame(data=adata2.X,\n",
    "#                   index=adata2.obs_names,\n",
    "#                   columns=adata2.var_names)"
   ]
  },
  {
   "cell_type": "code",
   "execution_count": 8,
   "metadata": {},
   "outputs": [],
   "source": [
    "# adata_ls = [df1.values, df2.values]\n",
    "adata_ls = [adata1, adata2]\n",
    "# df2.values.__class__"
   ]
  },
  {
   "cell_type": "code",
   "execution_count": 9,
   "metadata": {},
   "outputs": [
    {
     "name": "stdout",
     "output_type": "stream",
     "text": [
      "Found 16594 genes among all datasets\n",
      "[[0.         0.63829787]\n",
      " [0.         0.        ]]\n",
      "Processing datasets (0, 1)\n",
      "Took 0:00:04.803442\n"
     ]
    }
   ],
   "source": [
    "# Batch correction.\n",
    "# datasets = [df.values]\n",
    "# List of datasets (matrices of cells-by-genes)\n",
    "corrected = scanorama.correct_scanpy(adata_ls,batch_size=30,return_dense=True, knn=10)\n",
    "# corrected, genes = scanorama.correct(adata_ls, adata1.var_names,batch_size=30)\n",
    "t2 = time.time()\n",
    "print('Took '+str(timedelta(seconds=t2-t1)))"
   ]
  },
  {
   "cell_type": "code",
   "execution_count": 11,
   "metadata": {},
   "outputs": [
    {
     "name": "stdout",
     "output_type": "stream",
     "text": [
      "AnnData object with n_obs × n_vars = 282 × 16594 \n",
      "    obs: 'cell_type', 'batch', 'n_genes'\n",
      "    var: 'n_cells'\n",
      "[ True  True  True  True  True  True  True  True  True  True]\n"
     ]
    }
   ],
   "source": [
    "print(corrected[0])\n",
    "print(corrected[0].obs_names[0:10]==adata1.obs_names[0:10])"
   ]
  },
  {
   "cell_type": "code",
   "execution_count": 12,
   "metadata": {},
   "outputs": [
    {
     "name": "stdout",
     "output_type": "stream",
     "text": [
      "AnnData object with n_obs × n_vars = 283 × 16594 \n",
      "    obs: 'cell_type', 'batch', 'n_genes'\n",
      "    var: 'n_cells'\n",
      "[ True  True  True  True  True  True  True  True  True  True]\n"
     ]
    }
   ],
   "source": [
    "print(corrected[1])\n",
    "print(corrected[1].obs_names[0:10]==adata2.obs_names[0:10])"
   ]
  },
  {
   "cell_type": "code",
   "execution_count": 13,
   "metadata": {},
   "outputs": [
    {
     "name": "stdout",
     "output_type": "stream",
     "text": [
      "AnnData object with n_obs × n_vars = 565 × 16594 \n"
     ]
    }
   ],
   "source": [
    "total_ann = sc.AnnData(np.concatenate([corrected[0].X, corrected[1].X]))\n",
    "print(total_ann)\n",
    "# "
   ]
  },
  {
   "cell_type": "code",
   "execution_count": 14,
   "metadata": {},
   "outputs": [
    {
     "data": {
      "text/plain": [
       "AnnData object with n_obs × n_vars = 565 × 16594 \n",
       "    obs: 'cell_type', 'batch'"
      ]
     },
     "execution_count": 14,
     "metadata": {},
     "output_type": "execute_result"
    }
   ],
   "source": [
    "total_ann.var_names = corrected[0].var_names\n",
    "total_ann.obs_names = corrected[0].obs_names.tolist() + corrected[1].obs_names.tolist()\n",
    "total_ann.obs['cell_type'] = corrected[0].obs['cell_type'].tolist() + corrected[1].obs['cell_type'].tolist()\n",
    "total_ann.obs['batch'] = corrected[0].obs['batch'].tolist() + corrected[1].obs['batch'].tolist()\n",
    "total_ann\n"
   ]
  },
  {
   "cell_type": "code",
   "execution_count": 16,
   "metadata": {},
   "outputs": [
    {
     "name": "stdout",
     "output_type": "stream",
     "text": [
      "before:  [[-2.18141854e-01  4.13227588e-01 -9.12025347e-02  2.68561728e-02\n",
      "   2.62002517e-02  6.15926972e-03  6.68267310e-02 -6.32517971e-03\n",
      "   1.36426613e-02  1.08428616e-02  3.61582488e-02 -1.46457488e-02\n",
      "  -1.75916310e-02  2.96080336e-02  5.49193919e-02 -2.67209914e-02\n",
      "   2.21198462e-02  9.01064556e-03 -3.34797456e-04  2.86887996e-02]\n",
      " [-2.55762517e-01  3.60720545e-01 -1.10248730e-01  3.11519280e-02\n",
      "  -1.47297829e-02  6.97683915e-02  3.05099250e-03 -3.09731141e-02\n",
      "  -1.55355232e-02 -7.20540434e-03  1.90493129e-02  1.82783771e-02\n",
      "  -1.01564769e-02 -5.44375787e-03  1.89111903e-02 -2.31207125e-02\n",
      "   3.03548817e-02  1.19124791e-02 -1.95491053e-02  1.87960658e-02]\n",
      " [-2.41118222e-01  3.34462970e-01 -1.35888994e-01 -4.73562367e-02\n",
      "  -1.33338245e-02  3.88271511e-02 -9.51345712e-02  1.36554450e-01\n",
      "  -4.19270471e-02 -6.92622364e-02 -4.29488253e-03 -6.30397797e-02\n",
      "  -9.46711935e-03 -6.90273494e-02  3.59646343e-02  2.87710745e-02\n",
      "  -4.64090556e-02 -8.45582858e-02  1.13773897e-01  6.89934241e-03]\n",
      " [-1.39030933e-01  4.07205194e-01 -9.73865017e-02  7.89622590e-02\n",
      "   4.55660596e-02  8.30909163e-02 -2.81374715e-02 -3.20601948e-02\n",
      "   3.83133963e-02  9.31833172e-04 -5.74784074e-03  1.54134063e-02\n",
      "   5.82556538e-02  9.96598676e-02  7.23999739e-02 -1.19053192e-01\n",
      "   1.92829352e-02  5.26134036e-02 -2.25999467e-02  2.67269518e-02]\n",
      " [-2.20306441e-01  3.85912687e-01 -9.36733931e-02  2.25728676e-02\n",
      "   8.74735415e-03 -2.97599495e-03  3.78358103e-02 -2.38823574e-02\n",
      "   6.73145056e-02  4.00225744e-02  7.12471530e-02  3.41924168e-02\n",
      "  -5.49426600e-02 -4.54294160e-02 -3.92867401e-02  1.70082171e-02\n",
      "   3.27636674e-02  2.14667525e-03 -1.98926795e-02 -8.52691755e-03]\n",
      " [-2.35011280e-01  3.27568918e-01 -9.71383527e-02  4.84422408e-02\n",
      "  -3.75909433e-02 -1.97829753e-02  1.09017886e-01 -1.50894150e-02\n",
      "   1.61262043e-02 -4.03060159e-03 -5.17931581e-02 -1.74238756e-02\n",
      "   4.73534428e-02  7.66039034e-03  6.92642573e-03 -2.07136222e-03\n",
      "  -4.95684035e-02  1.67737566e-02 -1.22531503e-02 -1.17638456e-02]\n",
      " [-1.84088781e-01  2.06282303e-01 -1.03036270e-01 -4.95927148e-02\n",
      "  -9.60378423e-02  2.35173404e-02  1.68519076e-02  4.68118154e-02\n",
      "  -6.68195710e-02 -5.65008856e-02 -4.17023264e-02  4.00562175e-02\n",
      "  -6.71173558e-02 -2.73190178e-02  4.59877402e-02  1.17027704e-02\n",
      "   1.03568472e-03  9.38371010e-03  2.03082636e-02 -6.79205498e-03]\n",
      " [-2.00708538e-01  3.89368057e-01 -4.55297604e-02  1.65999085e-02\n",
      "   5.49300313e-02  1.21158101e-02 -7.00921193e-03 -3.56669277e-02\n",
      "   6.01213658e-03 -5.05528823e-02  8.98050740e-02  3.11808828e-02\n",
      "  -1.58972532e-01 -3.96399945e-02  1.99765130e-03  2.63219159e-02\n",
      "   4.35451753e-02 -8.08618031e-03  4.03434560e-02  1.85163487e-02]\n",
      " [-2.15616792e-01  3.43953550e-01 -1.12158112e-01  1.00721400e-02\n",
      "   8.77676625e-03 -3.67562026e-02 -9.67148319e-03 -3.83158028e-02\n",
      "   6.28224462e-02 -4.57868464e-02  1.26725836e-02  5.14433533e-02\n",
      "  -1.69943143e-02  5.23594767e-02 -2.80615147e-02  2.24436037e-02\n",
      "   3.15200118e-03 -2.20797136e-02 -1.92619534e-03  5.43366466e-03]]\n",
      "after multiply:  [[ 2.18141854e-01 -4.13227588e-01  9.12025347e-02 -2.68561728e-02\n",
      "  -2.62002517e-02 -6.15926972e-03 -6.68267310e-02  6.32517971e-03\n",
      "  -1.36426613e-02 -1.08428616e-02 -3.61582488e-02  1.46457488e-02\n",
      "   1.75916310e-02 -2.96080336e-02 -5.49193919e-02  2.67209914e-02\n",
      "  -2.21198462e-02 -9.01064556e-03  3.34797456e-04 -2.86887996e-02]\n",
      " [ 2.55762517e-01 -3.60720545e-01  1.10248730e-01 -3.11519280e-02\n",
      "   1.47297829e-02 -6.97683915e-02 -3.05099250e-03  3.09731141e-02\n",
      "   1.55355232e-02  7.20540434e-03 -1.90493129e-02 -1.82783771e-02\n",
      "   1.01564769e-02  5.44375787e-03 -1.89111903e-02  2.31207125e-02\n",
      "  -3.03548817e-02 -1.19124791e-02  1.95491053e-02 -1.87960658e-02]\n",
      " [ 2.41118222e-01 -3.34462970e-01  1.35888994e-01  4.73562367e-02\n",
      "   1.33338245e-02 -3.88271511e-02  9.51345712e-02 -1.36554450e-01\n",
      "   4.19270471e-02  6.92622364e-02  4.29488253e-03  6.30397797e-02\n",
      "   9.46711935e-03  6.90273494e-02 -3.59646343e-02 -2.87710745e-02\n",
      "   4.64090556e-02  8.45582858e-02 -1.13773897e-01 -6.89934241e-03]\n",
      " [ 1.39030933e-01 -4.07205194e-01  9.73865017e-02 -7.89622590e-02\n",
      "  -4.55660596e-02 -8.30909163e-02  2.81374715e-02  3.20601948e-02\n",
      "  -3.83133963e-02 -9.31833172e-04  5.74784074e-03 -1.54134063e-02\n",
      "  -5.82556538e-02 -9.96598676e-02 -7.23999739e-02  1.19053192e-01\n",
      "  -1.92829352e-02 -5.26134036e-02  2.25999467e-02 -2.67269518e-02]\n",
      " [ 2.20306441e-01 -3.85912687e-01  9.36733931e-02 -2.25728676e-02\n",
      "  -8.74735415e-03  2.97599495e-03 -3.78358103e-02  2.38823574e-02\n",
      "  -6.73145056e-02 -4.00225744e-02 -7.12471530e-02 -3.41924168e-02\n",
      "   5.49426600e-02  4.54294160e-02  3.92867401e-02 -1.70082171e-02\n",
      "  -3.27636674e-02 -2.14667525e-03  1.98926795e-02  8.52691755e-03]\n",
      " [ 2.35011280e-01 -3.27568918e-01  9.71383527e-02 -4.84422408e-02\n",
      "   3.75909433e-02  1.97829753e-02 -1.09017886e-01  1.50894150e-02\n",
      "  -1.61262043e-02  4.03060159e-03  5.17931581e-02  1.74238756e-02\n",
      "  -4.73534428e-02 -7.66039034e-03 -6.92642573e-03  2.07136222e-03\n",
      "   4.95684035e-02 -1.67737566e-02  1.22531503e-02  1.17638456e-02]\n",
      " [ 1.84088781e-01 -2.06282303e-01  1.03036270e-01  4.95927148e-02\n",
      "   9.60378423e-02 -2.35173404e-02 -1.68519076e-02 -4.68118154e-02\n",
      "   6.68195710e-02  5.65008856e-02  4.17023264e-02 -4.00562175e-02\n",
      "   6.71173558e-02  2.73190178e-02 -4.59877402e-02 -1.17027704e-02\n",
      "  -1.03568472e-03 -9.38371010e-03 -2.03082636e-02  6.79205498e-03]\n",
      " [ 2.00708538e-01 -3.89368057e-01  4.55297604e-02 -1.65999085e-02\n",
      "  -5.49300313e-02 -1.21158101e-02  7.00921193e-03  3.56669277e-02\n",
      "  -6.01213658e-03  5.05528823e-02 -8.98050740e-02 -3.11808828e-02\n",
      "   1.58972532e-01  3.96399945e-02 -1.99765130e-03 -2.63219159e-02\n",
      "  -4.35451753e-02  8.08618031e-03 -4.03434560e-02 -1.85163487e-02]\n",
      " [ 2.15616792e-01 -3.43953550e-01  1.12158112e-01 -1.00721400e-02\n",
      "  -8.77676625e-03  3.67562026e-02  9.67148319e-03  3.83158028e-02\n",
      "  -6.28224462e-02  4.57868464e-02 -1.26725836e-02 -5.14433533e-02\n",
      "   1.69943143e-02 -5.23594767e-02  2.80615147e-02 -2.24436037e-02\n",
      "  -3.15200118e-03  2.20797136e-02  1.92619534e-03 -5.43366466e-03]]\n"
     ]
    }
   ],
   "source": [
    "sc.tl.pca(total_ann, svd_solver='arpack', n_comps=20)\n",
    "print('before: ',total_ann.obsm['X_pca'][1:10])\n",
    "total_ann.obsm['X_pca'] *= -1  # multiply by -1 to match Seurat\n",
    "print('after multiply: ',total_ann.obsm['X_pca'][1:10])\n"
   ]
  },
  {
   "cell_type": "code",
   "execution_count": 17,
   "metadata": {},
   "outputs": [
    {
     "name": "stderr",
     "output_type": "stream",
     "text": [
      "... storing 'cell_type' as categorical\n",
      "... storing 'batch' as categorical\n",
      "writing '.csv' files to /data_n3/home/hoatran/python-workspace/dca_scGen/results/scanorama_results\n"
     ]
    }
   ],
   "source": [
    "if not os.path.exists('./results/scanorama_results/'): os.makedirs('./results/scanorama_results/')\n",
    "save_dir = os.path.join(dirname, 'results/scanorama_results/')\n",
    "total_ann.write_h5ad(os.path.join(save_dir,'scanorama_dataset1_uc3.h5ad'))\n",
    "total_ann.write_csvs(save_dir, skip_data=False)"
   ]
  },
  {
   "cell_type": "code",
   "execution_count": 19,
   "metadata": {},
   "outputs": [
    {
     "name": "stdout",
     "output_type": "stream",
     "text": [
      "1556848934.93988\n",
      "1556848939.743322\n"
     ]
    }
   ],
   "source": [
    "print(t1)\n",
    "print(t2)"
   ]
  },
  {
   "cell_type": "code",
   "execution_count": 20,
   "metadata": {},
   "outputs": [],
   "source": [
    "# Function to plot TSNE\n",
    "def plotTSNE(adata, color_group, n_pcs=20, perplexity=90, save_filename='tsne', use_repx = False):\n",
    "    #adata.var_names_make_unique()\n",
    "    if use_repx:\n",
    "        sc.tl.tsne(adata, random_state=0, n_pcs=n_pcs, perplexity=perplexity, use_rep='X')\n",
    "    else:    \n",
    "        sc.tl.tsne(adata, random_state=0, n_pcs=n_pcs, perplexity=perplexity)\n",
    "    sc.pl.tsne(adata, color = color_group, show=False, wspace=.3)\n",
    "    save_images(save_filename)     \n",
    "    \n",
    "    \n",
    "def plotUMAP(adata, color_group, save_filename, use_repx = False):\n",
    "    \n",
    "    if use_repx:\n",
    "        sc.pp.neighbors(adata, use_rep='X')\n",
    "    else:    \n",
    "        sc.pp.neighbors(adata,n_neighbors=10, n_pcs=20)\n",
    "        \n",
    "    sc.tl.umap(adata)\n",
    "    sc.pl.umap(adata, color = color_group, show=False)\n",
    "    save_images(save_filename) \n",
    "    \n",
    "   "
   ]
  },
  {
   "cell_type": "code",
   "execution_count": 21,
   "metadata": {},
   "outputs": [
    {
     "name": "stdout",
     "output_type": "stream",
     "text": [
      "computing neighbors\n",
      "    using 'X_pca' with n_pcs = 20\n",
      "    finished (0:00:05.07) --> added to `.uns['neighbors']`\n",
      "    'distances', distances for each pair of neighbors\n",
      "    'connectivities', weighted adjacency matrix\n",
      "scanorama - batch effect correction\n",
      "computing neighbors\n",
      "    using 'X_pca' with n_pcs = 20\n",
      "    finished (0:00:00.17) --> added to `.uns['neighbors']`\n",
      "    'distances', distances for each pair of neighbors\n",
      "    'connectivities', weighted adjacency matrix\n",
      "computing UMAP\n",
      "    finished (0:00:02.89) --> added\n",
      "    'X_umap', UMAP coordinates (adata.obsm)\n",
      "computing tSNE\n",
      "    using 'X_pca' with n_pcs = 20\n",
      "    using the 'MulticoreTSNE' package by Ulyanov (2017)\n",
      "    finished (0:00:04.30) --> added\n",
      "    'X_tsne', tSNE coordinates (adata.obsm)\n"
     ]
    }
   ],
   "source": [
    "# Visulization of normalized data\n",
    "# sc.tl.pca(total_ann, svd_solver='arpack')\n",
    "sc.pp.neighbors(total_ann,n_neighbors=10, n_pcs=20)\n",
    "print('scanorama - batch effect correction')\n",
    "color_group = [\"batch\",\"cell_type\"]\n",
    "plotUMAP(total_ann, color_group, 'umap_scanorama_corrected_dataset1_uc3')\n",
    "plotTSNE(total_ann, color_group, 20, 90, 'tsne_scanorama_corrected_dataset1_uc3')"
   ]
  },
  {
   "cell_type": "code",
   "execution_count": null,
   "metadata": {},
   "outputs": [],
   "source": [
    "# scanorama_ann.obsm['X_umap'].__class__\n",
    "colnu = []\n",
    "for i in range(scanorama_ann.obsm['X_umap'].shape[1]):\n",
    "    colnu.append(\"UMAP\"+str(i+1))\n",
    "df = pd.DataFrame(scanorama_ann.obsm['X_umap'], columns=colnu, index=scanorama_ann.obs_names)\n",
    "df['batch'] = pd.Series(scanorama_ann.obs['batch'], index=scanorama_ann.obs_names)\n",
    "df['celltype'] = pd.Series(scanorama_ann.obs['cell_type'], index=scanorama_ann.obs_names)\n",
    "df.to_csv(sdir_name+'scanorama_umap.csv')  "
   ]
  },
  {
   "cell_type": "code",
   "execution_count": null,
   "metadata": {},
   "outputs": [],
   "source": [
    "colnt = []\n",
    "for i in range(scanorama_ann.obsm['X_tsne'].shape[1]):\n",
    "    colnt.append(\"tSNE_\"+str(i+1))\n",
    "\n",
    "df = pd.DataFrame(scanorama_ann.obsm['X_tsne'], columns=colnt, index=scanorama_ann.obs_names)\n",
    "df['batch'] = pd.Series(scanorama_ann.obs['batch'], index=scanorama_ann.obs_names)\n",
    "df['celltype'] = pd.Series(scanorama_ann.obs['cell_type'], index=scanorama_ann.obs_names)\n",
    "df.to_csv(sdir_name+'scanorama_tsne.csv')  "
   ]
  },
  {
   "cell_type": "code",
   "execution_count": null,
   "metadata": {},
   "outputs": [],
   "source": [
    "sdir_name = os.path.join(dirname, 'results/scanorama_results/')\n",
    "scanorama_ann = sc.read_h5ad(os.path.join(sdir_name,'scanorama_dataset1_uc3.h5ad'))\n",
    "scanorama_ann.obsm['X_pca'].shape\n",
    "print(scanorama_ann.obsm['X_pca'][1:5])\n",
    "def write_to_csv(mat, genesname, cellsname, filename, save_dir):\n",
    "    if isinstance(mat, np.ndarray):\n",
    "        df = pd.DataFrame(mat, columns=genesname, index=cellsname)\n",
    "    else:\n",
    "        df = pd.DataFrame(mat.toarray(), columns=genesname, index=cellsname)        \n",
    "    \n",
    "    df.to_csv(save_dir+filename)  \n",
    "    \n",
    "filename = 'scanorama_pca.csv'\n",
    "coln_pca = []\n",
    "for i in range(scanorama_ann.obsm['X_pca'].shape[1]):\n",
    "    coln_pca.append(\"X_pca\"+str(i+1))\n",
    "    \n",
    "\n",
    "write_to_csv(scanorama_ann.obsm['X_pca'], coln_pca, scanorama_ann.obs_names,filename, data_dir)"
   ]
  },
  {
   "cell_type": "code",
   "execution_count": 1,
   "metadata": {},
   "outputs": [
    {
     "ename": "NameError",
     "evalue": "name 'sc' is not defined",
     "output_type": "error",
     "traceback": [
      "\u001b[0;31m---------------------------------------------------------------------------\u001b[0m",
      "\u001b[0;31mNameError\u001b[0m                                 Traceback (most recent call last)",
      "\u001b[0;32m<ipython-input-1-1320f70413ce>\u001b[0m in \u001b[0;36m<module>\u001b[0;34m()\u001b[0m\n\u001b[1;32m      2\u001b[0m \u001b[0;32mfrom\u001b[0m \u001b[0msklearn\u001b[0m\u001b[0;34m.\u001b[0m\u001b[0mmetrics\u001b[0m \u001b[0;32mimport\u001b[0m \u001b[0msilhouette_score\u001b[0m\u001b[0;34m\u001b[0m\u001b[0m\n\u001b[1;32m      3\u001b[0m \u001b[0;32mimport\u001b[0m \u001b[0mseaborn\u001b[0m \u001b[0;32mas\u001b[0m \u001b[0msns\u001b[0m\u001b[0;34m\u001b[0m\u001b[0m\n\u001b[0;32m----> 4\u001b[0;31m \u001b[0msc\u001b[0m\u001b[0;34m.\u001b[0m\u001b[0mtl\u001b[0m\u001b[0;34m.\u001b[0m\u001b[0mpca\u001b[0m\u001b[0;34m(\u001b[0m\u001b[0madata\u001b[0m\u001b[0;34m,\u001b[0m \u001b[0msvd_solver\u001b[0m\u001b[0;34m=\u001b[0m\u001b[0;34m'arpack'\u001b[0m\u001b[0;34m,\u001b[0m \u001b[0mn_comps\u001b[0m\u001b[0;34m=\u001b[0m\u001b[0;36m20\u001b[0m\u001b[0;34m)\u001b[0m\u001b[0;34m\u001b[0m\u001b[0m\n\u001b[0m\u001b[1;32m      5\u001b[0m \u001b[0madata\u001b[0m\u001b[0;34m.\u001b[0m\u001b[0mobsm\u001b[0m\u001b[0;34m[\u001b[0m\u001b[0;34m'X_pca'\u001b[0m\u001b[0;34m]\u001b[0m \u001b[0;34m*=\u001b[0m \u001b[0;34m-\u001b[0m\u001b[0;36m1\u001b[0m \u001b[0;31m# multiply by -1 to match Seurat, same scale as total_ann\u001b[0m\u001b[0;34m\u001b[0m\u001b[0m\n\u001b[1;32m      6\u001b[0m \u001b[0msil_orig\u001b[0m \u001b[0;34m=\u001b[0m \u001b[0msilhouette_score\u001b[0m\u001b[0;34m(\u001b[0m\u001b[0madata\u001b[0m\u001b[0;34m.\u001b[0m\u001b[0mobsm\u001b[0m\u001b[0;34m.\u001b[0m\u001b[0mX_pca\u001b[0m\u001b[0;34m[\u001b[0m\u001b[0;34m:\u001b[0m\u001b[0;34m,\u001b[0m \u001b[0;34m:\u001b[0m\u001b[0;36m20\u001b[0m\u001b[0;34m]\u001b[0m\u001b[0;34m,\u001b[0m \u001b[0madata\u001b[0m\u001b[0;34m.\u001b[0m\u001b[0mobs\u001b[0m\u001b[0;34m[\u001b[0m\u001b[0;34m'batch'\u001b[0m\u001b[0;34m]\u001b[0m\u001b[0;34m)\u001b[0m\u001b[0;34m\u001b[0m\u001b[0m\n",
      "\u001b[0;31mNameError\u001b[0m: name 'sc' is not defined"
     ]
    }
   ],
   "source": [
    "# Compute the silhouette coefficient score, compare the batch mixing level of filtered data and normalized data\n",
    "from sklearn.metrics import silhouette_score\n",
    "import seaborn as sns\n",
    "sc.tl.pca(adata, svd_solver='arpack', n_comps=20)\n",
    "adata.obsm['X_pca'] *= -1 # multiply by -1 to match Seurat, same scale as total_ann\n",
    "sil_orig = silhouette_score(adata.obsm.X_pca[:, :20], adata.obs['batch'])\n",
    "print(np.median(sil_orig))\n",
    "# sil_true = silhouette_score(corrected_adata.obsm.X_pca[:, :2], adata_true.obs.Group)\n",
    "sil_corr = silhouette_score(total_ann.obsm.X_pca[:, :20], total_ann.obs['batch'])\n",
    "print(np.median(sil_corr))\n",
    "sns.barplot(x=['Filtered', 'Normalized'], y=[sil_orig, sil_corr])\n",
    "pl.title('Silhouette Coeff Batch Scanorama')\n",
    "save_images('scanorama_silhouette_coeff_batch_label') "
   ]
  },
  {
   "cell_type": "code",
   "execution_count": 103,
   "metadata": {},
   "outputs": [
    {
     "name": "stdout",
     "output_type": "stream",
     "text": [
      "Cell id: 10 in  Batch1 pDC_P10_S83\n",
      "Gene expression values before scanorama:\n",
      "[ 4.34  0.    7.49 ...  0.   98.93  0.  ]\n",
      "Cell id: 10 in  Batch1 pDC_P10_S83\n",
      "Gene expression values after scanorama:\n",
      "[ 1.02420045e-05  6.38164929e-05  3.20880557e-04 ... -7.40184696e-05\n",
      "  1.81876542e-03  8.92117314e-05]\n"
     ]
    }
   ],
   "source": [
    "# Check the changement of values before scGen and after batch correction using scGen \n",
    "import scipy.stats as st\n",
    "def describe_data(adata, ax, indx):    \n",
    "    desc = st.describe(adata.X[indx], axis=ax)\n",
    "    print('# of observations:', desc.nobs)\n",
    "    print('min: %d\\nmax: %d' % desc.minmax)\n",
    "    print('mean: %.1f' % desc.mean)\n",
    "    \n",
    "# Get one cell from batch 1, check the values before normalization and after   \n",
    "print(\"Cell id: 10 in \",adata.obs['batch'][10],adata.obs_names[10])\n",
    "print(\"Gene expression values before scanorama:\")\n",
    "# describe_data(adata, 0, 10) #cell id 10 in batch 1\n",
    "print(adata.X[10])\n",
    "print(\"Cell id: 10 in \",total_ann.obs['batch'][10],total_ann.obs_names[10])\n",
    "print(\"Gene expression values after scanorama:\")\n",
    "print(total_ann.X[10])\n",
    "# describe_data(total_ann, 0, 10) #cell id 10 in batch 1"
   ]
  },
  {
   "cell_type": "code",
   "execution_count": 105,
   "metadata": {},
   "outputs": [
    {
     "name": "stdout",
     "output_type": "stream",
     "text": [
      "Cell id: 500 in  Batch2 CD1C_P14_S78\n",
      "Gene expression values before scanorama:\n",
      "# of observations: 16594\n",
      "min: 0\n",
      "max: 135216\n",
      "mean: 60.2\n",
      "[0. 0. 0. ... 0. 0. 0.]\n",
      "Cell id: 500 in  Batch2 CD1C_P14_S78\n",
      "Gene expression values after scanorama:\n",
      "[0. 0. 0. ... 0. 0. 0.]\n",
      "# of observations: 16594\n",
      "min: 0\n",
      "max: 0\n",
      "mean: 0.0\n"
     ]
    }
   ],
   "source": [
    "# Get one cell from batch 1, check the values before normalization and after   \n",
    "print(\"Cell id: 500 in \",adata.obs['batch'][500],adata.obs_names[500])\n",
    "print(\"Gene expression values before scanorama:\")\n",
    "describe_data(adata, 0, 500) #cell id 10 in batch 1\n",
    "print(adata.X[500])\n",
    "print(\"Cell id: 500 in \",total_ann.obs['batch'][500],total_ann.obs_names[500])\n",
    "print(\"Gene expression values after scanorama:\")\n",
    "print(total_ann.X[500])\n",
    "describe_data(total_ann, 0, 500) #cell id 10 in batch "
   ]
  },
  {
   "cell_type": "code",
   "execution_count": 106,
   "metadata": {},
   "outputs": [
    {
     "data": {
      "text/plain": [
       "AnnData object with n_obs × n_vars = 565 × 16594 \n",
       "    obs: 'cell_type', 'batch', 'n_genes'\n",
       "    var: 'n_cells'\n",
       "    uns: 'batch_colors', 'cell_type_colors', 'neighbors'\n",
       "    obsm: 'X_pca', 'X_umap'"
      ]
     },
     "execution_count": 106,
     "metadata": {},
     "output_type": "execute_result"
    }
   ],
   "source": [
    "adata"
   ]
  },
  {
   "cell_type": "code",
   "execution_count": 113,
   "metadata": {},
   "outputs": [
    {
     "data": {
      "text/plain": [
       "(565, 20)"
      ]
     },
     "execution_count": 113,
     "metadata": {},
     "output_type": "execute_result"
    }
   ],
   "source": [
    "adata.obsm.X_pca[:,:20].shape"
   ]
  },
  {
   "cell_type": "code",
   "execution_count": 133,
   "metadata": {},
   "outputs": [
    {
     "name": "stdout",
     "output_type": "stream",
     "text": [
      "0.17667641\n",
      "0.007139875\n"
     ]
    }
   ],
   "source": []
  },
  {
   "cell_type": "code",
   "execution_count": 129,
   "metadata": {},
   "outputs": [],
   "source": [
    "pl.figure()\n",
    "pl.boxplot([ sil_orig, sil_corr], showmeans=True, whis='range')\n",
    "pl.title('Distributions of Silhouette Coefficients')\n",
    "pl.xticks(range(1, 4), [ 'Filtered data', 'Scanorama'])\n",
    "pl.ylabel('Silhouette Coefficient')\n",
    "save_images('test')"
   ]
  },
  {
   "cell_type": "code",
   "execution_count": null,
   "metadata": {},
   "outputs": [],
   "source": []
  }
 ],
 "metadata": {
  "kernelspec": {
   "display_name": "Python 3",
   "language": "python",
   "name": "python3"
  },
  "language_info": {
   "codemirror_mode": {
    "name": "ipython",
    "version": 3
   },
   "file_extension": ".py",
   "mimetype": "text/x-python",
   "name": "python",
   "nbconvert_exporter": "python",
   "pygments_lexer": "ipython3",
   "version": "3.6.6"
  }
 },
 "nbformat": 4,
 "nbformat_minor": 2
}
