{
 "cells": [
  {
   "cell_type": "code",
   "execution_count": 1,
   "metadata": {},
   "outputs": [],
   "source": [
    "# !pip install scanorama"
   ]
  },
  {
   "cell_type": "code",
   "execution_count": 2,
   "metadata": {},
   "outputs": [
    {
     "name": "stdout",
     "output_type": "stream",
     "text": [
      "scanpy==1.4+18.gaabe446 anndata==0.6.17 numpy==1.15.4 scipy==1.1.0 pandas==0.23.4 scikit-learn==0.20.2 statsmodels==0.9.0 python-igraph==0.7.1 louvain==0.6.1 \n"
     ]
    }
   ],
   "source": [
    "# !pip install scanorama\n",
    "import numpy as np\n",
    "import scanorama\n",
    "import pandas as pd\n",
    "import matplotlib.pyplot as pl\n",
    "from matplotlib import rcParams\n",
    "import scanpy as sc\n",
    "sc.settings.verbosity = 3  # verbosity: errors (0), warnings (1), info (2), hints (3)\n",
    "sc.logging.print_versions()"
   ]
  },
  {
   "cell_type": "code",
   "execution_count": 3,
   "metadata": {},
   "outputs": [],
   "source": [
    "import utils_viz"
   ]
  },
  {
   "cell_type": "code",
   "execution_count": 4,
   "metadata": {},
   "outputs": [
    {
     "name": "stdout",
     "output_type": "stream",
     "text": [
      "/acrc/jinmiao/CJM_lab/hoatran/python_workspace/batch_effect_manuscript\n"
     ]
    }
   ],
   "source": [
    "# Create folder to save the results \n",
    "import os\n",
    "dirname = os.getcwd()\n",
    "print(dirname)\n",
    "data_dir = os.path.join(dirname, './data/')\n",
    "# if not os.path.exists('./results_cellatlas/'): os.makedirs('./results_cellatlas/')\n",
    "\n",
    "if not os.path.exists('./results_cellatlas/scanorama_results/'): os.makedirs('./results_cellatlas/scanorama_results/')\n",
    "    \n",
    "save_dir = os.path.join(dirname, 'results_cellatlas/scanorama_results/')\n",
    "def save_images(basename):\n",
    "    if not os.path.exists('./figures_cellatlas/'): os.makedirs('./figures_cellatlas/')\n",
    "    \n",
    "    if not os.path.exists('./figures_cellatlas/scanorama_results/'): os.makedirs('./figures_cellatlas/scanorama_results/')\n",
    "    outname = './figures_cellatlas/scanorama_results/' + basename + '.png'\n",
    "    pl.savefig(outname, dpi=150)\n",
    "    pl.close()"
   ]
  },
  {
   "cell_type": "code",
   "execution_count": 5,
   "metadata": {},
   "outputs": [
    {
     "name": "stderr",
     "output_type": "stream",
     "text": [
      "... storing 'cell_type' as categorical\n",
      "... storing 'tissue' as categorical\n",
      "... storing 'organ' as categorical\n",
      "... storing 'batchlb' as categorical\n"
     ]
    },
    {
     "name": "stdout",
     "output_type": "stream",
     "text": [
      "AnnData object with n_obs × n_vars = 6954 × 15006 \n",
      "Index(['T-cell_Thymus_2.CGAGTATAGTCGGTCGGT', 'T-cell_Thymus_1.TGAAGCTCAAAGCGCTTG'], dtype='object')\n",
      "Index(['0610007N19Rik', '0610007P14Rik'], dtype='object')\n",
      "(6954, 10)\n",
      "Index(['nGene', 'nUMI', 'orig.ident', 'batch', 'ct', 'ct.orig', 'tissue',\n",
      "       'organ', 'percent.mito', 'batchlb'],\n",
      "      dtype='object')\n",
      "6954\n",
      "6954\n"
     ]
    }
   ],
   "source": [
    "# read data from read count text table, data from R: genes x cells\n",
    "# scale data by number of UMI first then load scaled data\n",
    "adata = sc.read_text(os.path.join(data_dir,'hvg_scaled_filtered_total_batch1_seqwell_batch2_10x_inverse.txt'),delimiter='\\t',first_column_names=True,dtype='float64')\n",
    "print(adata)  # 6954 x 15006\n",
    "print(adata.obs_names[1:3])\n",
    "print(adata.var_names[1:3])\n",
    "\n",
    "sample_adata = pd.read_csv(os.path.join(data_dir,'filtered_total_sample_ext_organ_celltype_batch.txt'),header=0, index_col=0, sep='\\t')\n",
    "print(sample_adata.values.shape)\n",
    "print(sample_adata.keys())\n",
    "\n",
    "adata.obs['cell_type'] = sample_adata.loc[adata.obs_names,['ct']]\n",
    "adata.obs['batch'] = sample_adata.loc[adata.obs_names,['batch']]\n",
    "adata.obs['tissue'] = sample_adata.loc[adata.obs_names,['tissue']]\n",
    "adata.obs['organ'] = sample_adata.loc[adata.obs_names,['organ']]\n",
    "adata.obs['batchlb'] = sample_adata.loc[adata.obs_names,['batchlb']]\n",
    "print(len(adata.obs['cell_type']))\n",
    "print(len(adata.obs['batch']))\n",
    "# Save output into h5ad, easy to access \n",
    "adata.write_h5ad(os.path.join(data_dir,'hvg_scaled_dataset2_cellatlas.h5ad'))"
   ]
  },
  {
   "cell_type": "code",
   "execution_count": 9,
   "metadata": {},
   "outputs": [
    {
     "name": "stdout",
     "output_type": "stream",
     "text": [
      "Read filtered data\n"
     ]
    },
    {
     "data": {
      "text/plain": [
       "AnnData object with n_obs × n_vars = 6954 × 15006 \n",
       "    obs: 'cell_type', 'batch', 'tissue', 'organ', 'batchlb'"
      ]
     },
     "execution_count": 9,
     "metadata": {},
     "output_type": "execute_result"
    }
   ],
   "source": [
    "print('Read filtered data')\n",
    "# adata = sc.read_h5ad(os.path.join(data_dir,'dataset12_cellatlas.h5ad'))\n",
    "import time\n",
    "from datetime import timedelta\n",
    "\n",
    "# Filtering data \n",
    "# sc.pp.filter_cells(adata, min_genes=300)\n",
    "# sc.pp.filter_genes(adata, min_cells=10)\n",
    "adata"
   ]
  },
  {
   "cell_type": "code",
   "execution_count": 10,
   "metadata": {},
   "outputs": [],
   "source": [
    "from scanorama import correct, visualize, process_data\n",
    "from scanorama import dimensionality_reduce"
   ]
  },
  {
   "cell_type": "code",
   "execution_count": 11,
   "metadata": {},
   "outputs": [
    {
     "name": "stderr",
     "output_type": "stream",
     "text": [
      "Up to anndata 0.6.12, `.copy()` cast a non-'float32' `.X` to 'float32'. Now, the dtype 'float64' is maintained. \n"
     ]
    },
    {
     "name": "stdout",
     "output_type": "stream",
     "text": [
      "AnnData object with n_obs × n_vars = 4239 × 15006 \n",
      "    obs: 'cell_type', 'batch', 'tissue', 'organ', 'batchlb'\n"
     ]
    },
    {
     "name": "stderr",
     "output_type": "stream",
     "text": [
      "Up to anndata 0.6.12, `.copy()` cast a non-'float32' `.X` to 'float32'. Now, the dtype 'float64' is maintained. \n"
     ]
    },
    {
     "name": "stdout",
     "output_type": "stream",
     "text": [
      "AnnData object with n_obs × n_vars = 2715 × 15006 \n",
      "    obs: 'cell_type', 'batch', 'tissue', 'organ', 'batchlb'\n"
     ]
    }
   ],
   "source": [
    "# df = pd.DataFrame(data=adata.X,\n",
    "#                   index=adata.obs_names,\n",
    "#                   columns=adata.var_names)\n",
    "\n",
    "# Input of scanorama is a list of AnnData\n",
    "# adata1 = adata[adata.obs['batch']=='Batch1',:].copy()\n",
    "# print(adata1)\n",
    "# adata2 = adata[adata.obs['batch']=='Batch2',:].copy()\n",
    "# print(adata2)\n",
    "\n",
    "adata1 = adata[adata.obs['batch']==1,:].copy()\n",
    "print(adata1)\n",
    "adata2 = adata[adata.obs['batch']==2,:].copy()\n",
    "print(adata2)\n"
   ]
  },
  {
   "cell_type": "code",
   "execution_count": 12,
   "metadata": {},
   "outputs": [],
   "source": [
    "adata_ls = [adata1, adata2]"
   ]
  },
  {
   "cell_type": "code",
   "execution_count": 13,
   "metadata": {},
   "outputs": [
    {
     "name": "stdout",
     "output_type": "stream",
     "text": [
      "Found 15006 genes among all datasets\n",
      "[[0.         0.60478821]\n",
      " [0.         0.        ]]\n",
      "Processing datasets (0, 1)\n",
      "Took 0:03:41.927960\n"
     ]
    }
   ],
   "source": [
    "# Batch correction.\n",
    "# datasets = [df.values]\n",
    "# List of datasets (matrices of cells-by-genes)\n",
    "t1 = time.time()\n",
    "corrected = scanorama.correct_scanpy(adata_ls,batch_size=50,return_dense=True, knn=20)\n",
    "# corrected, genes = scanorama.correct(adata_ls, adata1.var_names,batch_size=30)\n",
    "t2 = time.time()\n",
    "print('Took '+str(timedelta(seconds=t2-t1)))"
   ]
  },
  {
   "cell_type": "code",
   "execution_count": 14,
   "metadata": {},
   "outputs": [
    {
     "name": "stdout",
     "output_type": "stream",
     "text": [
      "AnnData object with n_obs × n_vars = 4239 × 15006 \n",
      "    obs: 'cell_type', 'batch', 'tissue', 'organ', 'batchlb'\n",
      "[ True  True  True  True  True  True  True  True  True  True]\n"
     ]
    }
   ],
   "source": [
    "print(corrected[0])\n",
    "print(corrected[0].obs_names[0:10]==adata1.obs_names[0:10])"
   ]
  },
  {
   "cell_type": "code",
   "execution_count": 15,
   "metadata": {},
   "outputs": [
    {
     "name": "stdout",
     "output_type": "stream",
     "text": [
      "AnnData object with n_obs × n_vars = 2715 × 15006 \n",
      "    obs: 'cell_type', 'batch', 'tissue', 'organ', 'batchlb'\n",
      "[ True  True  True  True  True  True  True  True  True  True]\n"
     ]
    }
   ],
   "source": [
    "print(corrected[1])\n",
    "print(corrected[1].obs_names[0:10]==adata2.obs_names[0:10])"
   ]
  },
  {
   "cell_type": "code",
   "execution_count": 16,
   "metadata": {},
   "outputs": [
    {
     "name": "stdout",
     "output_type": "stream",
     "text": [
      "AnnData object with n_obs × n_vars = 6954 × 15006 \n"
     ]
    }
   ],
   "source": [
    "total_ann = sc.AnnData(np.concatenate([corrected[0].X, corrected[1].X]))\n",
    "print(total_ann)\n",
    "# "
   ]
  },
  {
   "cell_type": "code",
   "execution_count": 17,
   "metadata": {},
   "outputs": [
    {
     "data": {
      "text/plain": [
       "AnnData object with n_obs × n_vars = 6954 × 15006 \n",
       "    obs: 'cell_type', 'batch', 'organ'"
      ]
     },
     "execution_count": 17,
     "metadata": {},
     "output_type": "execute_result"
    }
   ],
   "source": [
    "total_ann.var_names = corrected[0].var_names\n",
    "total_ann.obs_names = corrected[0].obs_names.tolist() + corrected[1].obs_names.tolist()\n",
    "total_ann.obs['cell_type'] = corrected[0].obs['cell_type'].tolist() + corrected[1].obs['cell_type'].tolist()\n",
    "total_ann.obs['batch'] = corrected[0].obs['batch'].tolist() + corrected[1].obs['batch'].tolist()\n",
    "total_ann.obs['organ'] = corrected[0].obs['organ'].tolist() + corrected[1].obs['organ'].tolist()\n",
    "total_ann\n"
   ]
  },
  {
   "cell_type": "code",
   "execution_count": 18,
   "metadata": {},
   "outputs": [
    {
     "name": "stdout",
     "output_type": "stream",
     "text": [
      "before:  [[-1.5910061e-01  8.2543064e-03 -1.7969729e-01  3.0537101e-02\n",
      "   2.3493743e-02  1.6812559e-03 -4.4159669e-02 -3.3346530e-02\n",
      "  -1.8137686e-02 -3.9725851e-02  2.3152097e-03 -4.1205850e-03\n",
      "   2.7589891e-02  6.4248610e-03  1.1727295e-02 -3.0916279e-05\n",
      "  -6.0791505e-04 -4.9377825e-02  1.0796484e-03  4.3901369e-02\n",
      "  -3.0145464e-03  2.6232991e-02 -2.3883017e-02 -4.6205181e-03\n",
      "   7.0703961e-02 -7.5599842e-04 -4.7847543e-02  5.0840728e-02\n",
      "  -2.0671509e-02  3.5236109e-02 -3.2553643e-02  9.6533056e-03\n",
      "   2.9866224e-02 -3.6137532e-02 -1.2154238e-03 -9.0826415e-03\n",
      "  -4.8011295e-03 -1.0851027e-02  1.6751131e-02  2.4429675e-02\n",
      "  -2.1757390e-02  6.3180365e-03  9.6022226e-03  2.5035439e-02\n",
      "  -4.4038682e-04  2.8487290e-03  3.5391316e-02 -3.7583537e-02\n",
      "   6.5146405e-03  1.5780855e-02]]\n",
      "after multiply:  [[ 1.5910061e-01 -8.2543064e-03  1.7969729e-01 -3.0537101e-02\n",
      "  -2.3493743e-02 -1.6812559e-03  4.4159669e-02  3.3346530e-02\n",
      "   1.8137686e-02  3.9725851e-02 -2.3152097e-03  4.1205850e-03\n",
      "  -2.7589891e-02 -6.4248610e-03 -1.1727295e-02  3.0916279e-05\n",
      "   6.0791505e-04  4.9377825e-02 -1.0796484e-03 -4.3901369e-02\n",
      "   3.0145464e-03 -2.6232991e-02  2.3883017e-02  4.6205181e-03\n",
      "  -7.0703961e-02  7.5599842e-04  4.7847543e-02 -5.0840728e-02\n",
      "   2.0671509e-02 -3.5236109e-02  3.2553643e-02 -9.6533056e-03\n",
      "  -2.9866224e-02  3.6137532e-02  1.2154238e-03  9.0826415e-03\n",
      "   4.8011295e-03  1.0851027e-02 -1.6751131e-02 -2.4429675e-02\n",
      "   2.1757390e-02 -6.3180365e-03 -9.6022226e-03 -2.5035439e-02\n",
      "   4.4038682e-04 -2.8487290e-03 -3.5391316e-02  3.7583537e-02\n",
      "  -6.5146405e-03 -1.5780855e-02]]\n"
     ]
    }
   ],
   "source": [
    "sc.tl.pca(total_ann, svd_solver='arpack') # n_comps=20\n",
    "print('before: ',total_ann.obsm['X_pca'][1:2])\n",
    "total_ann.obsm['X_pca'] *= -1  # multiply by -1 to match Seurat\n",
    "print('after multiply: ',total_ann.obsm['X_pca'][1:2])\n"
   ]
  },
  {
   "cell_type": "code",
   "execution_count": 30,
   "metadata": {},
   "outputs": [],
   "source": [
    "# save_dir = os.path.join(dirname, 'results_cellatlas/scanorama_results/')\n",
    "total_ann.write_h5ad(os.path.join(save_dir,'scanorama_corrected_dataset2.h5ad'))\n",
    "# total_ann.write_csvs(save_dir, skip_data=False)"
   ]
  },
  {
   "cell_type": "code",
   "execution_count": 20,
   "metadata": {},
   "outputs": [
    {
     "name": "stdout",
     "output_type": "stream",
     "text": [
      "1557803107.534985\n",
      "1557803329.462945\n",
      "Took seconds: 0:03:42\n",
      "Took minutes: (3.0, 41.92795991897583)\n",
      "Took hours_minutes_seconds:  0.0 3.0 41.92795991897583\n",
      "          use_case exetime_secs exetimehours exetimemins exetimesecs\n",
      "exetime  scanorama          222          0.0         3.0          42\n",
      "Save file into directory:  /acrc/jinmiao/CJM_lab/hoatran/python_workspace/batch_effect_manuscript/results_cellatlas/scanorama_results/\n"
     ]
    }
   ],
   "source": [
    "print(t1)\n",
    "print(t2)\n",
    "time_taken = t2 - t1\n",
    "time_taken_mins = divmod(time_taken, 60)\n",
    "time_taken_hours, rest = divmod( time_taken, 3600)\n",
    "hours_mins, hours_secs = divmod( rest, 60)\n",
    "print('Took seconds: '+str(timedelta(seconds=round(time_taken))))\n",
    "print('Took minutes: '+str(time_taken_mins))\n",
    "print('Took hours_minutes_seconds: ',str(time_taken_hours),str(hours_mins),str(hours_secs))\n",
    "usecase_name = 'scanorama'\n",
    "filename = 'scanorama_exetime.csv'\n",
    "\n",
    "data = {'use_case':usecase_name, 'exetime_secs':str(round(time_taken)),\n",
    "       'exetimehours': str(time_taken_hours),\n",
    "       'exetimemins': str(hours_mins),\n",
    "       'exetimesecs':str(round(hours_secs))} \n",
    "  \n",
    "# Creates pandas DataFrame. \n",
    "df = pd.DataFrame(data, index =['exetime'])\n",
    "print(df)\n",
    "print(\"Save file into directory: \",save_dir)\n",
    "df.to_csv(save_dir+filename) "
   ]
  },
  {
   "cell_type": "code",
   "execution_count": 21,
   "metadata": {},
   "outputs": [],
   "source": [
    "# Function to plot TSNE\n",
    "def plotTSNE(adata, color_group, n_pcs=20, perplexity=90, save_filename='tsne', use_repx = False):\n",
    "    #adata.var_names_make_unique()\n",
    "    if use_repx:\n",
    "        sc.tl.tsne(adata, random_state=0, n_pcs=n_pcs, perplexity=perplexity, use_rep='X')\n",
    "    else:    \n",
    "        sc.tl.tsne(adata, random_state=0, n_pcs=n_pcs, perplexity=perplexity)\n",
    "    sc.pl.tsne(adata, color = color_group, show=False, wspace=.3)\n",
    "    save_images(save_filename)     \n",
    "    \n",
    "    \n",
    "def plotUMAP(adata, color_group, save_filename, use_repx = False):\n",
    "    \n",
    "#     if use_repx:\n",
    "#         sc.pp.neighbors(adata, use_rep='X')\n",
    "#     else:    \n",
    "#         sc.pp.neighbors(adata,n_neighbors=10, n_pcs=20)\n",
    "        \n",
    "    sc.tl.umap(adata)\n",
    "    sc.pl.umap(adata, color = color_group, show=False)\n",
    "    save_images(save_filename) \n",
    "    \n",
    "   "
   ]
  },
  {
   "cell_type": "code",
   "execution_count": 22,
   "metadata": {},
   "outputs": [
    {
     "name": "stdout",
     "output_type": "stream",
     "text": [
      "computing neighbors\n",
      "    using 'X_pca' with n_pcs = 20\n",
      "    finished (0:00:09.79) --> added to `.uns['neighbors']`\n",
      "    'distances', distances for each pair of neighbors\n",
      "    'connectivities', weighted adjacency matrix\n",
      "scanorama - batch effect correction\n",
      "computing UMAP\n",
      "    finished (0:00:25.08) --> added\n",
      "    'X_umap', UMAP coordinates (adata.obsm)\n",
      "computing tSNE\n",
      "    using 'X_pca' with n_pcs = 20\n",
      "    using the 'MulticoreTSNE' package by Ulyanov (2017)\n",
      "    finished (0:00:58.74) --> added\n",
      "    'X_tsne', tSNE coordinates (adata.obsm)\n"
     ]
    }
   ],
   "source": [
    "# Visulization of normalized data\n",
    "# sc.tl.pca(total_ann, svd_solver='arpack')\n",
    "sc.pp.neighbors(total_ann,n_neighbors=15, n_pcs=20)\n",
    "print('scanorama - batch effect correction')\n",
    "color_group = [\"batch\",\"cell_type\",\"organ\"]\n",
    "plotUMAP(total_ann, color_group, 'umap_scanorama_corrected')\n",
    "plotTSNE(total_ann, color_group, 20, 90, 'tsne_scanorama_corrected')"
   ]
  },
  {
   "cell_type": "code",
   "execution_count": 23,
   "metadata": {},
   "outputs": [],
   "source": [
    "# scanorama_ann.obsm['X_umap'].__class__\n",
    "colnu = []\n",
    "for i in range(total_ann.obsm['X_umap'].shape[1]):\n",
    "    colnu.append(\"UMAP\"+str(i+1))\n",
    "df = pd.DataFrame(total_ann.obsm['X_umap'], columns=colnu, index=total_ann.obs_names)\n",
    "df['batch'] = pd.Series(total_ann.obs['batch'], index=total_ann.obs_names)\n",
    "df['celltype'] = pd.Series(total_ann.obs['cell_type'], index=total_ann.obs_names)\n",
    "df['organ'] = pd.Series(total_ann.obs['organ'], index=total_ann.obs_names)\n",
    "df.to_csv(save_dir+'scanorama_umap.csv')  "
   ]
  },
  {
   "cell_type": "code",
   "execution_count": 24,
   "metadata": {},
   "outputs": [],
   "source": [
    "colnt = []\n",
    "for i in range(total_ann.obsm['X_tsne'].shape[1]):\n",
    "    colnt.append(\"tSNE_\"+str(i+1))\n",
    "\n",
    "df = pd.DataFrame(total_ann.obsm['X_tsne'], columns=colnt, index=total_ann.obs_names)\n",
    "df['batch'] = pd.Series(total_ann.obs['batch'], index=total_ann.obs_names)\n",
    "df['celltype'] = pd.Series(total_ann.obs['cell_type'], index=total_ann.obs_names)\n",
    "df['organ'] = pd.Series(total_ann.obs['organ'], index=total_ann.obs_names)\n",
    "df.to_csv(save_dir+'scanorama_tsne.csv')  "
   ]
  },
  {
   "cell_type": "code",
   "execution_count": 25,
   "metadata": {},
   "outputs": [
    {
     "name": "stdout",
     "output_type": "stream",
     "text": [
      "[[ 1.59100607e-01 -8.25430639e-03  1.79697290e-01 -3.05371005e-02\n",
      "  -2.34937426e-02 -1.68125588e-03  4.41596694e-02  3.33465301e-02\n",
      "   1.81376860e-02  3.97258513e-02 -2.31520971e-03  4.12058504e-03\n",
      "  -2.75898911e-02 -6.42486103e-03 -1.17272949e-02  3.09162788e-05\n",
      "   6.07915048e-04  4.93778251e-02 -1.07964838e-03 -4.39013690e-02\n",
      "   3.01454635e-03 -2.62329914e-02  2.38830168e-02  4.62051807e-03\n",
      "  -7.07039610e-02  7.55998422e-04  4.78475429e-02 -5.08407280e-02\n",
      "   2.06715092e-02 -3.52361090e-02  3.25536430e-02 -9.65330563e-03\n",
      "  -2.98662242e-02  3.61375324e-02  1.21542381e-03  9.08264145e-03\n",
      "   4.80112946e-03  1.08510274e-02 -1.67511310e-02 -2.44296752e-02\n",
      "   2.17573904e-02 -6.31803647e-03 -9.60222259e-03 -2.50354391e-02\n",
      "   4.40386822e-04 -2.84872903e-03 -3.53913158e-02  3.75835374e-02\n",
      "  -6.51464052e-03 -1.57808550e-02]\n",
      " [ 2.63991624e-01 -5.29901721e-02  2.11852551e-01 -1.65866226e-01\n",
      "   4.98137884e-02 -1.81593508e-01  4.24777865e-02  2.63327677e-02\n",
      "   5.06838076e-02  6.08012155e-02 -3.58559117e-02 -7.61045562e-03\n",
      "  -7.66671915e-03  4.81053069e-02 -1.60879139e-02 -5.27768508e-02\n",
      "   6.94183866e-03  1.32393502e-02  1.50594525e-02  4.69216034e-02\n",
      "  -7.48401182e-03 -2.74268687e-02  5.76123372e-02 -1.03974696e-02\n",
      "  -2.91823298e-02 -2.53241584e-02  2.14562844e-03 -3.55326757e-02\n",
      "  -1.76011585e-02 -1.30143901e-02 -1.14200823e-02  3.34408862e-04\n",
      "   2.17355764e-03  1.06624514e-02  3.53532694e-02  2.23888047e-02\n",
      "   1.63655784e-02  1.04094762e-02 -1.11983167e-02 -4.43063560e-04\n",
      "  -1.64391974e-03  2.23198649e-03 -2.91278958e-02 -3.56245339e-02\n",
      "   2.48004086e-02 -1.94472186e-02  1.13860499e-02  2.32950202e-04\n",
      "  -7.26258801e-03  2.74394942e-03]\n",
      " [ 2.00727269e-01 -4.33897711e-02  1.30573362e-01 -8.93631503e-02\n",
      "   1.99141558e-02 -8.75934437e-02  4.10050415e-02  2.51434427e-02\n",
      "   4.30469476e-02  7.31990039e-02 -1.95109323e-02 -3.34130041e-02\n",
      "   1.04272796e-03  3.34643908e-02 -1.59046017e-02 -9.00789723e-03\n",
      "  -2.16088444e-03  1.57928839e-02  1.90942641e-03 -1.88295357e-02\n",
      "  -9.24014393e-03  5.99802518e-03  1.73016749e-02 -7.12497160e-03\n",
      "  -5.09302132e-03  2.52600829e-03  2.58911680e-02 -1.39330421e-03\n",
      "  -2.56443210e-03 -1.70814227e-02 -5.88067947e-03  1.54391350e-02\n",
      "   3.90663836e-03  1.04713608e-02  2.06188355e-02  1.92011409e-02\n",
      "  -3.91855184e-03  2.64641419e-02  8.41422100e-03  7.00861309e-03\n",
      "  -8.59563006e-04  9.69264016e-04 -1.87989045e-02 -2.78710723e-02\n",
      "   1.62026007e-03 -1.07427668e-02  6.23616297e-03  2.79257353e-03\n",
      "   8.36619362e-03 -1.00604445e-03]\n",
      " [ 1.36178270e-01  6.55981572e-03  1.29961558e-02 -1.11318305e-01\n",
      "   1.30199432e-01 -1.90296471e-01  1.20595381e-01 -1.22370683e-02\n",
      "   4.47290055e-02  5.04726321e-02 -1.36529878e-02 -2.98813879e-02\n",
      "   3.05032451e-02  2.11277604e-02  4.32951935e-03  2.72966512e-02\n",
      "  -1.85952857e-02  1.26061905e-02 -6.73494721e-03 -2.65456457e-02\n",
      "  -2.58470494e-02  5.46249561e-02  4.23554182e-02 -2.19894517e-02\n",
      "   3.15703265e-02 -2.19765631e-03 -3.96863790e-03 -8.20476003e-03\n",
      "  -1.01043917e-02 -2.74449326e-02 -5.03417058e-03  2.39807069e-02\n",
      "   9.52405483e-03 -3.38133378e-03 -1.43262781e-02  1.02386838e-02\n",
      "  -9.09549091e-03  5.02718007e-03  2.09889058e-02 -6.39133295e-03\n",
      "   1.29768357e-03 -1.24498056e-02 -4.66508884e-03 -1.18682636e-02\n",
      "   5.66345546e-03  2.27925810e-03  1.64883975e-02 -1.87099855e-02\n",
      "   1.13271568e-02  4.06727474e-03]]\n"
     ]
    }
   ],
   "source": [
    "# sdir_name = os.path.join(dirname, 'results/scanorama_results/')\n",
    "# scanorama_ann = sc.read_h5ad(os.path.join(sdir_name,'scanorama_dataset1_uc3.h5ad'))\n",
    "total_ann.obsm['X_pca'].shape\n",
    "print(total_ann.obsm['X_pca'][1:5])\n",
    "def write_to_csv(mat, genesname, cellsname, filename, save_dir):\n",
    "    if isinstance(mat, np.ndarray):\n",
    "        df = pd.DataFrame(mat, columns=genesname, index=cellsname)\n",
    "    else:\n",
    "        df = pd.DataFrame(mat.toarray(), columns=genesname, index=cellsname)        \n",
    "    \n",
    "    df.to_csv(save_dir+filename)  \n",
    "    \n",
    "filename = 'scanorama_pca.csv'\n",
    "coln_pca = []\n",
    "for i in range(total_ann.obsm['X_pca'].shape[1]):\n",
    "    coln_pca.append(\"X_pca\"+str(i+1))\n",
    "    \n",
    "\n",
    "write_to_csv(total_ann.obsm['X_pca'], coln_pca, total_ann.obs_names,filename, save_dir)"
   ]
  },
  {
   "cell_type": "code",
   "execution_count": 26,
   "metadata": {},
   "outputs": [
    {
     "name": "stdout",
     "output_type": "stream",
     "text": [
      "0.115240835\n",
      "0.05621321\n",
      "               use_case  sil_filtered  sil_corrected\n",
      "silscore  scanorama_asw      0.115241       0.056213\n",
      "Save data into directory:  /acrc/jinmiao/CJM_lab/hoatran/python_workspace/batch_effect_manuscript/results_cellatlas/scanorama_results/\n"
     ]
    }
   ],
   "source": [
    "# Compute the silhouette coefficient score, compare the batch mixing level of filtered data and normalized data\n",
    "from sklearn.metrics import silhouette_score\n",
    "import seaborn as sns\n",
    "sc.tl.pca(adata, svd_solver='arpack') #n_comps=20\n",
    "adata.obsm['X_pca'] *= -1 # multiply by -1 to match Seurat, same scale as total_ann\n",
    "sil_orig = silhouette_score(adata.obsm.X_pca[:, :20], adata.obs['batch'])\n",
    "print(np.median(sil_orig))\n",
    "# sil_true = silhouette_score(corrected_adata.obsm.X_pca[:, :2], adata_true.obs.Group)\n",
    "sil_corr = silhouette_score(total_ann.obsm.X_pca[:, :20], total_ann.obs['batch'])\n",
    "print(np.median(sil_corr))\n",
    "sns.barplot(x=['Filtered', 'Normalized'], y=[sil_orig, sil_corr])\n",
    "pl.title('Silhouette Coeff Batch Scanorama')\n",
    "save_images('scanorama_silhouette_coeff_batch_label')\n",
    "\n",
    "# # Creates pandas DataFrame. \n",
    "usecase_name = 'scanorama_asw'\n",
    "data_sil = {'use_case':usecase_name, 'sil_filtered':sil_orig,\n",
    "       'sil_corrected': sil_corr}\n",
    "df_score = pd.DataFrame(data_sil, index =['silscore'])\n",
    "print(df_score)\n",
    "print('Save data into directory: ',save_dir)\n",
    "df_score.to_csv(save_dir+usecase_name+'.csv') "
   ]
  },
  {
   "cell_type": "code",
   "execution_count": 27,
   "metadata": {},
   "outputs": [
    {
     "name": "stdout",
     "output_type": "stream",
     "text": [
      "Cell id: 10 in  1 T-cell_Thymus_2.GGTACAATGGCGTTTAGG\n",
      "Gene expression values before scanorama:\n",
      "[10.         -0.03701661 -0.2755073  ... -0.47979982 -0.1505914\n",
      " -0.15106844]\n",
      "Cell id: 10 in  1 T-cell_Thymus_2.GGTACAATGGCGTTTAGG\n",
      "Gene expression values after scanorama:\n",
      "[ 0.10049654 -0.000372   -0.00276875 ... -0.00151819 -0.00073508\n",
      " -0.00089895]\n"
     ]
    }
   ],
   "source": [
    "# Check the changement of values before scGen and after batch correction using scGen \n",
    "import scipy.stats as st\n",
    "def describe_data(adata, ax, indx):    \n",
    "    desc = st.describe(adata.X[indx], axis=ax)\n",
    "    print('# of observations:', desc.nobs)\n",
    "    print('min: %d\\nmax: %d' % desc.minmax)\n",
    "    print('mean: %.1f' % desc.mean)\n",
    "    \n",
    "# Get one cell from batch 1, check the values before normalization and after   \n",
    "print(\"Cell id: 10 in \",adata.obs['batch'][10],adata.obs_names[10])\n",
    "print(\"Gene expression values before scanorama:\")\n",
    "# describe_data(adata, 0, 10) #cell id 10 in batch 1\n",
    "print(adata.X[10])\n",
    "print(\"Cell id: 10 in \",total_ann.obs['batch'][10],total_ann.obs_names[10])\n",
    "print(\"Gene expression values after scanorama:\")\n",
    "print(total_ann.X[10])\n",
    "# describe_data(total_ann, 0, 10) #cell id 10 in batch 1"
   ]
  },
  {
   "cell_type": "code",
   "execution_count": 28,
   "metadata": {},
   "outputs": [
    {
     "name": "stdout",
     "output_type": "stream",
     "text": [
      "Cell id: 500 in  1 T-cell_Spleen_1.GTGGTACCATCTTAGAGA\n",
      "Gene expression values before scanorama:\n",
      "# of observations: 15006\n",
      "min: -1\n",
      "max: 10\n",
      "mean: -0.0\n",
      "[-0.038193   -0.03682071 -0.27553237 ... -0.47984665 -0.15050851\n",
      " -0.15106755]\n",
      "Cell id: 500 in  1 T-cell_Spleen_1.GTGGTACCATCTTAGAGA\n",
      "Gene expression values after scanorama:\n",
      "[-0.00039638 -0.00038214 -0.0028596  ... -0.00156785 -0.0007596\n",
      " -0.00092546]\n",
      "# of observations: 15006\n",
      "min: 0\n",
      "max: 0\n",
      "mean: -0.0\n"
     ]
    }
   ],
   "source": [
    "# Get one cell from batch 1, check the values before normalization and after   \n",
    "print(\"Cell id: 500 in \",adata.obs['batch'][500],adata.obs_names[500])\n",
    "print(\"Gene expression values before scanorama:\")\n",
    "describe_data(adata, 0, 500) #cell id 10 in batch 1\n",
    "print(adata.X[500])\n",
    "print(\"Cell id: 500 in \",total_ann.obs['batch'][500],total_ann.obs_names[500])\n",
    "print(\"Gene expression values after scanorama:\")\n",
    "print(total_ann.X[500])\n",
    "describe_data(total_ann, 0, 500) #cell id 10 in batch "
   ]
  },
  {
   "cell_type": "code",
   "execution_count": 29,
   "metadata": {},
   "outputs": [
    {
     "data": {
      "text/plain": [
       "AnnData object with n_obs × n_vars = 6954 × 15006 \n",
       "    obs: 'cell_type', 'batch', 'tissue', 'organ', 'batchlb'\n",
       "    uns: 'pca'\n",
       "    obsm: 'X_pca'\n",
       "    varm: 'PCs'"
      ]
     },
     "execution_count": 29,
     "metadata": {},
     "output_type": "execute_result"
    }
   ],
   "source": [
    "adata"
   ]
  },
  {
   "cell_type": "code",
   "execution_count": null,
   "metadata": {},
   "outputs": [],
   "source": []
  },
  {
   "cell_type": "code",
   "execution_count": null,
   "metadata": {},
   "outputs": [],
   "source": []
  },
  {
   "cell_type": "code",
   "execution_count": null,
   "metadata": {},
   "outputs": [],
   "source": []
  },
  {
   "cell_type": "code",
   "execution_count": null,
   "metadata": {},
   "outputs": [],
   "source": []
  }
 ],
 "metadata": {
  "kernelspec": {
   "display_name": "Python 3",
   "language": "python",
   "name": "python3"
  },
  "language_info": {
   "codemirror_mode": {
    "name": "ipython",
    "version": 3
   },
   "file_extension": ".py",
   "mimetype": "text/x-python",
   "name": "python",
   "nbconvert_exporter": "python",
   "pygments_lexer": "ipython3",
   "version": "3.6.7"
  }
 },
 "nbformat": 4,
 "nbformat_minor": 2
}
