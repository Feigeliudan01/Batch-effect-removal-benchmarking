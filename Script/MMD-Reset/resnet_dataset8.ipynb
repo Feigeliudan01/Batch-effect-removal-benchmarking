{
 "cells": [
  {
   "cell_type": "code",
   "execution_count": 1,
   "metadata": {},
   "outputs": [
    {
     "name": "stdout",
     "output_type": "stream",
     "text": [
      "scanpy==1.4+18.gaabe446 anndata==0.6.17 numpy==1.15.4 scipy==1.1.0 pandas==0.23.4 scikit-learn==0.20.2 statsmodels==0.9.0 python-igraph==0.7.1 louvain==0.6.1 \n"
     ]
    }
   ],
   "source": [
    "# Residual Network for batch effect correction\n",
    "# See more at: https://github.com/ushaham/BatchEffectRemoval\n",
    "# Hoa Tran\n",
    "# Update code from python version 2 to python version 3, Keras\n",
    "import numpy as np\n",
    "import pandas as pd\n",
    "import matplotlib.pyplot as pl\n",
    "from matplotlib import rcParams\n",
    "import time\n",
    "from datetime import timedelta\n",
    "import scanpy as sc\n",
    "sc.settings.verbosity = 3  # verbosity: errors (0), warnings (1), info (2), hints (3)\n",
    "sc.logging.print_versions()"
   ]
  },
  {
   "cell_type": "code",
   "execution_count": 2,
   "metadata": {},
   "outputs": [
    {
     "name": "stdout",
     "output_type": "stream",
     "text": [
      "/acrc/jinmiao/CJM_lab/hoatran/demo_normalization/demo_ResNet/resnet\n",
      "/acrc/jinmiao/CJM_lab/hoatran/demo_normalization/demo_ResNet/resnet/results/result_dataset8_mouse_brain/\n"
     ]
    }
   ],
   "source": [
    "# Create folder to save the results \n",
    "import os\n",
    "dirname = os.getcwd()\n",
    "print(dirname)\n",
    "\n",
    "\n",
    "if not os.path.exists('./results/'): os.makedirs('./results/')   \n",
    "if not os.path.exists('./results/result_dataset8_mouse_brain/'): os.makedirs('./results/result_dataset8_mouse_brain/')    \n",
    "save_dir = os.path.join(dirname, 'results/result_dataset8_mouse_brain/')\n",
    "print(save_dir)\n",
    "\n",
    "# Function to save figure as image in the figures folder\n",
    "save_fig_dir='./figures/dataset8_mouse_brain/'\n",
    "if not os.path.exists('./figures/'): os.makedirs('./figures/')\n",
    "if not os.path.exists(save_fig_dir): os.makedirs(save_fig_dir)\n",
    "def save_images(filename, save_fig_dir):    \n",
    "    outname = save_fig_dir + filename + '.png'\n",
    "    pl.savefig(outname, dpi=150)\n",
    "    pl.close()"
   ]
  },
  {
   "cell_type": "code",
   "execution_count": 3,
   "metadata": {},
   "outputs": [
    {
     "data": {
      "text/plain": [
       "AnnData object with n_obs × n_vars = 833206 × 17745 \n",
       "    obs: 'cell_type', 'batch'"
      ]
     },
     "execution_count": 3,
     "metadata": {},
     "output_type": "execute_result"
    }
   ],
   "source": [
    "data_dir = os.path.join('/home/hoa/hoatran/demo_normalization/dataset/dataset8_Mouse_brain/raw_data_python/')\n",
    "savefn = 'dataset8.h5ad'\n",
    "adata = sc.read_h5ad(os.path.join(data_dir,savefn))\n",
    "adata"
   ]
  },
  {
   "cell_type": "code",
   "execution_count": 4,
   "metadata": {},
   "outputs": [
    {
     "data": {
      "text/plain": [
       "AnnData object with n_obs × n_vars = 833206 × 17745 \n",
       "    obs: 'cell_type', 'batch'"
      ]
     },
     "execution_count": 4,
     "metadata": {},
     "output_type": "execute_result"
    }
   ],
   "source": [
    "# Already filtered\n",
    "# sc.pp.filter_cells(adata, min_genes=300)\n",
    "# sc.pp.filter_genes(adata, min_cells=10)\n",
    "sc.pp.log1p(adata)\n",
    "# sc.pp.scale(adata) \n",
    "# sc.pp.normalize_per_cell(adata, counts_per_cell_after=1e4)\n",
    "adata"
   ]
  },
  {
   "cell_type": "code",
   "execution_count": 5,
   "metadata": {},
   "outputs": [],
   "source": [
    "# Here authors extract 50 pca vectors to train the network model\n",
    "npcs_train = 50  \n",
    "sc.tl.pca(adata, svd_solver='arpack', n_comps=npcs_train)  # output save to adata.obsm['X_pca']\n"
   ]
  },
  {
   "cell_type": "code",
   "execution_count": 10,
   "metadata": {},
   "outputs": [
    {
     "data": {
      "text/plain": [
       "array(['batch1', 'batch2'], dtype=object)"
      ]
     },
     "execution_count": 10,
     "metadata": {},
     "output_type": "execute_result"
    }
   ],
   "source": [
    "np.unique(adata.obs['batch'])"
   ]
  },
  {
   "cell_type": "code",
   "execution_count": 12,
   "metadata": {},
   "outputs": [
    {
     "name": "stdout",
     "output_type": "stream",
     "text": [
      "View of AnnData object with n_obs × n_vars = 691600 × 17745 \n",
      "    obs: 'cell_type', 'batch'\n",
      "    uns: 'pca'\n",
      "    obsm: 'X_pca'\n",
      "    varm: 'PCs'\n",
      "View of AnnData object with n_obs × n_vars = 141606 × 17745 \n",
      "    obs: 'cell_type', 'batch'\n",
      "    uns: 'pca'\n",
      "    obsm: 'X_pca'\n",
      "    varm: 'PCs'\n",
      "50\n"
     ]
    }
   ],
   "source": [
    "# Extract data from batch 1 and batch 2\n",
    "adata1_filtered = adata[adata.obs['batch']=='batch1',:]  \n",
    "print(adata1_filtered)\n",
    "adata2_filtered = adata[adata.obs['batch']=='batch2',:]\n",
    "print(adata2_filtered)\n",
    "adata1_filtered.obsm['X_pca'] *= -1 # multiply by -1 to match Seurat, as suggestion from Scanpy\n",
    "adata2_filtered.obsm['X_pca'] *= -1 # multiply by -1 to match Seurat, as suggestion from Scanpy\n",
    "print(adata2_filtered.obsm['X_pca'].shape[1])"
   ]
  },
  {
   "cell_type": "code",
   "execution_count": 13,
   "metadata": {},
   "outputs": [],
   "source": [
    "import keras.optimizers\n",
    "from keras.layers import Input, Dense, merge, BatchNormalization, Activation\n",
    "from keras.models import Model\n",
    "from keras import callbacks as cb\n",
    "from keras.regularizers import l2\n",
    "from keras.callbacks import LearningRateScheduler\n",
    "import math\n",
    "from keras import backend as K\n",
    "import sklearn.preprocessing as prep\n",
    "from sklearn import decomposition\n",
    "from statsmodels.distributions.empirical_distribution import ECDF\n",
    "from keras import initializers\n",
    "from keras.layers import add\n",
    "from Calibration_Util import CostFunctions as cf  # author func\n",
    "from Calibration_Util import Monitoring as mn     # author func\n",
    "from Calibration_Util import utils_resnet as utils     # our func\n"
   ]
  },
  {
   "cell_type": "code",
   "execution_count": 14,
   "metadata": {},
   "outputs": [
    {
     "name": "stdout",
     "output_type": "stream",
     "text": [
      "(691600, 50)\n",
      "(141606, 50)\n"
     ]
    }
   ],
   "source": [
    "target1 = adata1_filtered.obsm['X_pca']\n",
    "source2 = adata2_filtered.obsm['X_pca']\n",
    "space_dim = 50\n",
    "batch_size = 1000\n",
    "penalty = 1e-2\n",
    "nbeps = 20\n",
    "val_split = 0.25\n",
    "savedfl = 'resnet_d8_target1_source2'\n",
    "print(target1.shape)\n",
    "print(source2.shape)"
   ]
  },
  {
   "cell_type": "code",
   "execution_count": 15,
   "metadata": {},
   "outputs": [
    {
     "name": "stdout",
     "output_type": "stream",
     "text": [
      "Create a training model: \n",
      "setting scales using KNN\n",
      "[3.089774835013216, 6.179549670026432, 12.359099340052865]\n",
      "setting all scale weights to 1\n"
     ]
    },
    {
     "data": {
      "image/png": "[encoded data removed]",
      "text/plain": [
       "<Figure size 432x288 with 1 Axes>"
      ]
     },
     "metadata": {
      "needs_background": "light"
     },
     "output_type": "display_data"
    },
    {
     "data": {
      "image/png": "[encoded data removed]",
      "text/plain": [
       "<Figure size 432x288 with 1 Axes>"
      ]
     },
     "metadata": {
      "needs_background": "light"
     },
     "output_type": "display_data"
    },
    {
     "data": {
      "text/plain": [
       "<Figure size 432x288 with 0 Axes>"
      ]
     },
     "metadata": {},
     "output_type": "display_data"
    },
    {
     "data": {
      "text/plain": [
       "<Figure size 432x288 with 0 Axes>"
      ]
     },
     "metadata": {},
     "output_type": "display_data"
    },
    {
     "data": {
      "text/plain": [
       "<Figure size 432x288 with 0 Axes>"
      ]
     },
     "metadata": {},
     "output_type": "display_data"
    },
    {
     "data": {
      "text/plain": [
       "<Figure size 432x288 with 0 Axes>"
      ]
     },
     "metadata": {},
     "output_type": "display_data"
    },
    {
     "data": {
      "text/plain": [
       "<Figure size 432x288 with 0 Axes>"
      ]
     },
     "metadata": {},
     "output_type": "display_data"
    },
    {
     "data": {
      "text/plain": [
       "<Figure size 432x288 with 0 Axes>"
      ]
     },
     "metadata": {},
     "output_type": "display_data"
    },
    {
     "data": {
      "text/plain": [
       "<Figure size 432x288 with 0 Axes>"
      ]
     },
     "metadata": {},
     "output_type": "display_data"
    },
    {
     "data": {
      "text/plain": [
       "<Figure size 432x288 with 0 Axes>"
      ]
     },
     "metadata": {},
     "output_type": "display_data"
    },
    {
     "data": {
      "text/plain": [
       "<Figure size 432x288 with 0 Axes>"
      ]
     },
     "metadata": {},
     "output_type": "display_data"
    },
    {
     "data": {
      "text/plain": [
       "<Figure size 432x288 with 0 Axes>"
      ]
     },
     "metadata": {},
     "output_type": "display_data"
    },
    {
     "data": {
      "text/plain": [
       "<Figure size 432x288 with 0 Axes>"
      ]
     },
     "metadata": {},
     "output_type": "display_data"
    },
    {
     "data": {
      "text/plain": [
       "<Figure size 432x288 with 0 Axes>"
      ]
     },
     "metadata": {},
     "output_type": "display_data"
    },
    {
     "data": {
      "text/plain": [
       "<Figure size 432x288 with 0 Axes>"
      ]
     },
     "metadata": {},
     "output_type": "display_data"
    },
    {
     "data": {
      "text/plain": [
       "<Figure size 432x288 with 0 Axes>"
      ]
     },
     "metadata": {},
     "output_type": "display_data"
    },
    {
     "data": {
      "text/plain": [
       "<Figure size 432x288 with 0 Axes>"
      ]
     },
     "metadata": {},
     "output_type": "display_data"
    },
    {
     "data": {
      "text/plain": [
       "<Figure size 432x288 with 0 Axes>"
      ]
     },
     "metadata": {},
     "output_type": "display_data"
    },
    {
     "data": {
      "text/plain": [
       "<Figure size 432x288 with 0 Axes>"
      ]
     },
     "metadata": {},
     "output_type": "display_data"
    },
    {
     "data": {
      "text/plain": [
       "<Figure size 432x288 with 0 Axes>"
      ]
     },
     "metadata": {},
     "output_type": "display_data"
    },
    {
     "data": {
      "text/plain": [
       "<Figure size 432x288 with 0 Axes>"
      ]
     },
     "metadata": {},
     "output_type": "display_data"
    },
    {
     "data": {
      "text/plain": [
       "<Figure size 432x288 with 0 Axes>"
      ]
     },
     "metadata": {},
     "output_type": "display_data"
    },
    {
     "data": {
      "text/plain": [
       "<Figure size 432x288 with 0 Axes>"
      ]
     },
     "metadata": {},
     "output_type": "display_data"
    },
    {
     "data": {
      "text/plain": [
       "<Figure size 432x288 with 0 Axes>"
      ]
     },
     "metadata": {},
     "output_type": "display_data"
    },
    {
     "data": {
      "text/plain": [
       "<Figure size 432x288 with 0 Axes>"
      ]
     },
     "metadata": {},
     "output_type": "display_data"
    },
    {
     "data": {
      "text/plain": [
       "<Figure size 432x288 with 0 Axes>"
      ]
     },
     "metadata": {},
     "output_type": "display_data"
    },
    {
     "data": {
      "text/plain": [
       "<Figure size 432x288 with 0 Axes>"
      ]
     },
     "metadata": {},
     "output_type": "display_data"
    },
    {
     "data": {
      "text/plain": [
       "<Figure size 432x288 with 0 Axes>"
      ]
     },
     "metadata": {},
     "output_type": "display_data"
    },
    {
     "data": {
      "text/plain": [
       "<Figure size 432x288 with 0 Axes>"
      ]
     },
     "metadata": {},
     "output_type": "display_data"
    },
    {
     "data": {
      "text/plain": [
       "<Figure size 432x288 with 0 Axes>"
      ]
     },
     "metadata": {},
     "output_type": "display_data"
    },
    {
     "data": {
      "text/plain": [
       "<Figure size 432x288 with 0 Axes>"
      ]
     },
     "metadata": {},
     "output_type": "display_data"
    },
    {
     "data": {
      "text/plain": [
       "<Figure size 432x288 with 0 Axes>"
      ]
     },
     "metadata": {},
     "output_type": "display_data"
    },
    {
     "data": {
      "text/plain": [
       "<Figure size 432x288 with 0 Axes>"
      ]
     },
     "metadata": {},
     "output_type": "display_data"
    },
    {
     "data": {
      "text/plain": [
       "<Figure size 432x288 with 0 Axes>"
      ]
     },
     "metadata": {},
     "output_type": "display_data"
    },
    {
     "data": {
      "text/plain": [
       "<Figure size 432x288 with 0 Axes>"
      ]
     },
     "metadata": {},
     "output_type": "display_data"
    },
    {
     "data": {
      "text/plain": [
       "<Figure size 432x288 with 0 Axes>"
      ]
     },
     "metadata": {},
     "output_type": "display_data"
    },
    {
     "data": {
      "text/plain": [
       "<Figure size 432x288 with 0 Axes>"
      ]
     },
     "metadata": {},
     "output_type": "display_data"
    },
    {
     "data": {
      "text/plain": [
       "<Figure size 432x288 with 0 Axes>"
      ]
     },
     "metadata": {},
     "output_type": "display_data"
    },
    {
     "data": {
      "text/plain": [
       "<Figure size 432x288 with 0 Axes>"
      ]
     },
     "metadata": {},
     "output_type": "display_data"
    },
    {
     "data": {
      "text/plain": [
       "<Figure size 432x288 with 0 Axes>"
      ]
     },
     "metadata": {},
     "output_type": "display_data"
    },
    {
     "data": {
      "text/plain": [
       "<Figure size 432x288 with 0 Axes>"
      ]
     },
     "metadata": {},
     "output_type": "display_data"
    },
    {
     "name": "stdout",
     "output_type": "stream",
     "text": [
      "(141606, 50)\n",
      "Took 0:31:14.018700\n"
     ]
    }
   ],
   "source": [
    "t1 = time.time()\n",
    "calibMMDNet,block2_output = utils.createMMDResNetModel(target1, source2, space_dim, batch_size, penalty, \n",
    "                                                   save_dir, nbeps, val_split, savedfl)\n",
    "afterCalib2 = calibMMDNet.predict(source2)   # align, calibrate source data to target data\n",
    "print(afterCalib2.shape)\n",
    "t2 = time.time()\n",
    "print('Took '+str(timedelta(seconds=t2-t1)))"
   ]
  },
  {
   "cell_type": "code",
   "execution_count": 16,
   "metadata": {},
   "outputs": [],
   "source": [
    "import matplotlib.pyplot as plt\n",
    "from matplotlib.ticker import NullFormatter\n",
    "# Plot distribution, see the change after train and predict source data, compared to target data\n",
    "# from Calibration_Util import ScatterDemo as sd\n",
    "\n",
    "save_file_bf2 = os.path.join(save_fig_dir,'d8_distribution_before_target1_source2.png')\n",
    "save_file_af2 = os.path.join(save_fig_dir, 'd8_distribution_after_target1_source2.png')\n",
    "\n",
    "# The PCs most correlated with the batch are {1 and 2} or {3 and 5}\n",
    "pc1 = 0\n",
    "pc2 = 1\n",
    "utils.myScatterHistDemo(target1[:,pc1], target1[:,pc2], source2[:,pc1], source2[:,pc2],save_file_bf2)\n",
    "utils.myScatterHistDemo(target1[:,pc1], target1[:,pc2], afterCalib2[:,pc1], afterCalib2[:,pc2],save_file_af2)"
   ]
  },
  {
   "cell_type": "code",
   "execution_count": 17,
   "metadata": {},
   "outputs": [
    {
     "name": "stdout",
     "output_type": "stream",
     "text": [
      "Distance b1 to b2\n",
      "setting scales using KNN\n",
      "[3.081099335794559, 6.162198671589118, 12.324397343178235]\n",
      "setting all scale weights to 1\n",
      "setting scales using KNN\n",
      "[3.1091603580846354, 6.218320716169271, 12.436641432338542]\n",
      "setting all scale weights to 1\n",
      "MMD before calibration: 1.2399145\n",
      "MMD after calibration: 0.21545753\n"
     ]
    },
    {
     "data": {
      "text/plain": [
       "(1.2399145, 0.21545753)"
      ]
     },
     "execution_count": 17,
     "metadata": {},
     "output_type": "execute_result"
    }
   ],
   "source": [
    "## quantitative evaluation: MMD ###\n",
    "# MMD with the scales used for training \n",
    "# Compute Maximum Mean Discrepancy Distance \n",
    "# between source data- before correction, source data-after correction, target data and Ground Truth - filter data, one layer in network \n",
    "# If MMD distance is smaller --> 2 distributions are shift closer, less of batch effect \n",
    "# If MMD distance is not many different --> this method can not remove batch effect\n",
    "def calculMMD(target, source, afterCalib, block2_output):\n",
    "    sourceInds = np.random.randint(low=0, high = source.shape[0], size = 1000)\n",
    "    targetInds = np.random.randint(low=0, high = target.shape[0], size = 1000)\n",
    "    mmd_before = K.eval(cf.MMD(block2_output,target).cost(K.variable(value=source[sourceInds]), K.variable(value=target[targetInds])))\n",
    "    mmd_after = K.eval(cf.MMD(block2_output,target).cost(K.variable(value=afterCalib[sourceInds]), K.variable(value=target[targetInds])))\n",
    "    print('MMD before calibration: ' + str(mmd_before))\n",
    "    print('MMD after calibration: ' + str(mmd_after))\n",
    "    return mmd_before,mmd_after\n",
    "        \n",
    "print('Distance b1 to b2')    \n",
    "calculMMD(target1, source2, afterCalib2, block2_output)"
   ]
  },
  {
   "cell_type": "code",
   "execution_count": 18,
   "metadata": {},
   "outputs": [
    {
     "name": "stdout",
     "output_type": "stream",
     "text": [
      "AnnData object with n_obs × n_vars = 833206 × 17745 \n",
      "    obs: 'cell_type', 'batch'\n",
      "    uns: 'pca'\n",
      "    obsm: 'X_pca'\n",
      "    varm: 'PCs'\n"
     ]
    }
   ],
   "source": [
    "pca_corrected = np.concatenate([target1,afterCalib2])\n",
    "adata.obsm['X_pca'] = pca_corrected\n",
    "# npcs = 20  # our pre-defined\n",
    "# perplex = 30  # our pre-defined\n",
    "# sc.pp.neighbors(adata,n_neighbors=15, n_pcs=npcs)\n",
    "# sc.tl.tsne(adata, random_state=0, n_pcs=npcs, perplexity=perplex)\n",
    "# sc.tl.umap(adata)\n",
    "print(adata)"
   ]
  },
  {
   "cell_type": "code",
   "execution_count": 29,
   "metadata": {},
   "outputs": [],
   "source": [
    "colnpc = []\n",
    "for i in range(50):\n",
    "    colnpc.append(\"X_pca\"+str(i+1))\n",
    "\n",
    "df = pd.DataFrame(pca_corrected, columns=colnpc, index=adata.obs_names)\n",
    "df['batch'] = pd.Series(adata.obs['batch'], index=adata.obs_names)\n",
    "df['celltype'] = pd.Series(adata.obs['cell_type'], index=adata.obs_names)\n",
    "df.to_csv(save_dir+'resnet_pca_predicted_50pcs.csv')"
   ]
  },
  {
   "cell_type": "code",
   "execution_count": 20,
   "metadata": {},
   "outputs": [
    {
     "name": "stdout",
     "output_type": "stream",
     "text": [
      "Took seconds: 0:31:14\n",
      "Took minutes: (31.0, 14.018700361251831)\n",
      "Took hours_minutes_seconds:  0.0 31.0 14.018700361251831\n",
      "               use_case exetime_secs exetimehours exetimemins exetimesecs\n",
      "exetime  resnet_exetime         1874          0.0        31.0          14\n"
     ]
    }
   ],
   "source": [
    "# Save execution time to file for evaluation   \n",
    "# Evaluation runtime of main batch effect removal function\n",
    "filename = 'resnet_exetime.csv'\n",
    "usecase_name = 'resnet_exetime' \n",
    "utils.getExecutionTime(t1, t2, save_dir, usecase_name, filename)  # t1: start time, t2: end time       "
   ]
  },
  {
   "cell_type": "code",
   "execution_count": 21,
   "metadata": {},
   "outputs": [
    {
     "name": "stdout",
     "output_type": "stream",
     "text": [
      "computing neighbors\n",
      "    using 'X_pca' with n_pcs = 20\n",
      "    finished (0:11:08.72) --> added to `.uns['neighbors']`\n",
      "    'distances', distances for each pair of neighbors\n",
      "    'connectivities', weighted adjacency matrix\n",
      "computing UMAP\n",
      "    finished (0:28:36.86) --> added\n",
      "    'X_umap', UMAP coordinates (adata.obsm)\n"
     ]
    }
   ],
   "source": [
    "\n",
    "npcs = 20  # our pre-defined\n",
    "perplex = 30  # our pre-defined\n",
    "nb_neighbors = 15\n",
    "color_group = [\"batchlb\",\"cell_type\"] \n",
    "save_fn_umap = 'resnet_umap'\n",
    "\n",
    "sc.pp.neighbors(adata,n_neighbors=nb_neighbors, n_pcs=npcs)\n",
    "sc.tl.umap(adata)\n",
    "# utils.plotUMAP(adata, color_group, save_fn_umap, save_fig_dir, npcs, nb_neighbors, False)\n"
   ]
  },
  {
   "cell_type": "code",
   "execution_count": 22,
   "metadata": {},
   "outputs": [
    {
     "name": "stdout",
     "output_type": "stream",
     "text": [
      "computing tSNE\n",
      "    using 'X_pca' with n_pcs = 20\n",
      "    using the 'MulticoreTSNE' package by Ulyanov (2017)\n",
      "    finished (3:42:21.28) --> added\n",
      "    'X_tsne', tSNE coordinates (adata.obsm)\n"
     ]
    }
   ],
   "source": [
    "sc.tl.tsne(adata, n_pcs=npcs, perplexity=perplex)"
   ]
  },
  {
   "cell_type": "code",
   "execution_count": 24,
   "metadata": {},
   "outputs": [],
   "source": [
    "color_group = [\"batch\",\"cell_type\"] \n",
    "sc.pl.umap(adata, color = color_group, show=False)\n",
    "save_images(save_fn_umap, save_fig_dir)"
   ]
  },
  {
   "cell_type": "code",
   "execution_count": 25,
   "metadata": {},
   "outputs": [],
   "source": [
    "# Function to plot TSNE\n",
    "save_fn_tsne = 'resnet_tsne'   \n",
    "sc.pl.tsne(adata, color = color_group, show=False, wspace=.3)\n",
    "save_images(save_fn_tsne, save_fig_dir) \n",
    "# utils.plotTSNE(adata, color_group, save_fn_tsne, save_fig_dir, npcs, perplex, False)    "
   ]
  },
  {
   "cell_type": "code",
   "execution_count": 27,
   "metadata": {},
   "outputs": [],
   "source": [
    "utils.save_output_txt(adata, save_dir)"
   ]
  },
  {
   "cell_type": "code",
   "execution_count": null,
   "metadata": {},
   "outputs": [],
   "source": [
    "savefn = 'resnet_corrected_adata.h5ad'\n",
    "adata.write_h5ad(os.path.join(save_dir,savefn))"
   ]
  }
 ],
 "metadata": {
  "kernelspec": {
   "display_name": "Python 3",
   "language": "python",
   "name": "python3"
  },
  "language_info": {
   "codemirror_mode": {
    "name": "ipython",
    "version": 3
   },
   "file_extension": ".py",
   "mimetype": "text/x-python",
   "name": "python",
   "nbconvert_exporter": "python",
   "pygments_lexer": "ipython3",
   "version": "3.6.7"
  }
 },
 "nbformat": 4,
 "nbformat_minor": 2
}
