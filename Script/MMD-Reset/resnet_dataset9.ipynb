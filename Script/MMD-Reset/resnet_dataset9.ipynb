{
 "cells": [
  {
   "cell_type": "code",
   "execution_count": null,
   "metadata": {},
   "outputs": [],
   "source": [
    "# Residual Network for batch effect correction\n",
    "# See more at: https://github.com/ushaham/BatchEffectRemoval\n",
    "# Hoa Tran\n",
    "# Update code from python version 2 to python version 3, Keras\n",
    "import numpy as np\n",
    "import pandas as pd\n",
    "import matplotlib.pyplot as pl\n",
    "from matplotlib import rcParams\n",
    "import time\n",
    "from datetime import timedelta\n",
    "import scanpy as sc\n",
    "sc.settings.verbosity = 3  # verbosity: errors (0), warnings (1), info (2), hints (3)\n",
    "sc.logging.print_versions()"
   ]
  },
  {
   "cell_type": "code",
   "execution_count": null,
   "metadata": {},
   "outputs": [],
   "source": [
    "# Create folder to save the results \n",
    "import os\n",
    "dirname = os.getcwd()\n",
    "print(dirname)\n",
    "data_dir = os.path.join('/home/hoa/hoatran/demo_normalization/dataset/dataset9_Human_cell_atlas/')\n",
    "\n",
    "if not os.path.exists('./results/'): os.makedirs('./results/')   \n",
    "if not os.path.exists('./results/results_dataset9_HCA/'): os.makedirs('./results/results_dataset9_HCA/')    \n",
    "save_dir = os.path.join(dirname, 'results/results_dataset9_HCA/')\n",
    "\n",
    "# Function to save figure as image in the figures folder\n",
    "save_fig_dir='./figures/dataset9_HCA/'\n",
    "if not os.path.exists('./figures/'): os.makedirs('./figures/')\n",
    "if not os.path.exists(save_fig_dir): os.makedirs(save_fig_dir)\n",
    "def save_images(filename, save_fig_dir):    \n",
    "    outname = save_fig_dir + filename + '.png'\n",
    "    pl.savefig(outname, dpi=150)\n",
    "    pl.close()"
   ]
  },
  {
   "cell_type": "code",
   "execution_count": null,
   "metadata": {},
   "outputs": [],
   "source": [
    "# myDataFn = 'filtered_genes_and_cells/HCA_genes_cells_filtered_filtered_UMI.txt'\n",
    "# mySampleFn = 'HCA_genes_cells_filtered_filtered_cell_info_correct.txt'\n",
    "# savefn = 'myRawData1.h5ad'\n",
    "# adata = load_data(data_dir, myDataFn, mySampleFn, save_dir, savefn,saveh5ad=False)\n",
    "# adata"
   ]
  },
  {
   "cell_type": "code",
   "execution_count": null,
   "metadata": {},
   "outputs": [],
   "source": [
    "# Load data using h5py package, only for big dataset\n",
    "# https://www.h5py.org/\n",
    "import h5py\n",
    "data_dir = os.path.join('/acrc/jinmiao/CJM_lab/hoatran/demo_normalization/dataset/dataset9_Human_cell_atlas/')\n",
    "myDataFn = 'filtered_genes_and_cells/HCA_genes_cells_filtered_filtered_UMI.h5'\n",
    "f = h5py.File(os.path.join(data_dir, myDataFn), 'r')\n",
    "keys = list(f.keys())\n",
    "k2 = [x for x in keys if x not in ['gene_names', 'cell_names']]\n",
    "print(k2[0])\n",
    "print(keys)\n"
   ]
  },
  {
   "cell_type": "code",
   "execution_count": null,
   "metadata": {},
   "outputs": [],
   "source": [
    "myData = np.array(f[k2[0]])\n",
    "print(myData.shape)\n",
    "gene_names = f['gene_names']\n",
    "cell_names = f['cell_names']\n",
    "print(gene_names.shape)\n",
    "print(cell_names.shape)\n",
    "gene_names = [x.decode() for x in gene_names]\n",
    "print(gene_names[1:3])"
   ]
  },
  {
   "cell_type": "code",
   "execution_count": null,
   "metadata": {},
   "outputs": [],
   "source": [
    "# cell_names = [x.decode() for x in cell_names]\n",
    "print(cell_names[1:3])\n",
    "mySample.index[1:3]"
   ]
  },
  {
   "cell_type": "code",
   "execution_count": null,
   "metadata": {},
   "outputs": [],
   "source": [
    "import pandas as pd\n",
    "# species vectors --> batch vector and batch label\n",
    "# keep only necessary infos in sample file\n",
    "\n",
    "mySampleFn = 'HCA_genes_cells_filtered_filtered_cell_info_correct.txt'  \n",
    "mySample = pd.read_csv(os.path.join(data_dir,mySampleFn),header=0, index_col=0, sep='\\t')\n",
    "\n",
    "mySample.values.shape"
   ]
  },
  {
   "cell_type": "code",
   "execution_count": null,
   "metadata": {},
   "outputs": [],
   "source": [
    "adata = sc.AnnData(np.transpose(myData))\n",
    "adata"
   ]
  },
  {
   "cell_type": "code",
   "execution_count": null,
   "metadata": {},
   "outputs": [],
   "source": [
    "adata.obs_names = mySample.index\n",
    "adata.var_names = gene_names\n",
    "#     adata.obs['cell_type'] = mySample.loc[adata.obs_names,['celltype']]\n",
    "adata.obs['batch'] = mySample.loc[adata.obs_names,['batch']]\n",
    "adata.obs['batchlb'] = mySample.loc[adata.obs_names,['batchlb']]"
   ]
  },
  {
   "cell_type": "code",
   "execution_count": null,
   "metadata": {},
   "outputs": [],
   "source": [
    "adata"
   ]
  },
  {
   "cell_type": "code",
   "execution_count": null,
   "metadata": {},
   "outputs": [],
   "source": [
    "savefn = 'HCA_genes_cells_filtered_filtered_UMI_adata.h5ad'\n",
    "adata.write_h5ad(os.path.join(save_dir,savefn))"
   ]
  },
  {
   "cell_type": "code",
   "execution_count": null,
   "metadata": {},
   "outputs": [],
   "source": [
    "# Already filtered\n",
    "# sc.pp.filter_cells(adata, min_genes=300)\n",
    "# sc.pp.filter_genes(adata, min_cells=10)\n",
    "# sc.pp.log1p(adata)\n",
    "# sc.pp.normalize_per_cell(adata, counts_per_cell_after=1e4)\n",
    "adata"
   ]
  },
  {
   "cell_type": "code",
   "execution_count": null,
   "metadata": {},
   "outputs": [],
   "source": [
    "# Here authors extract 50 pca vectors to train the network model\n",
    "npcs_train = 50  \n",
    "sc.tl.pca(adata, svd_solver='arpack', n_comps=npcs_train)  # output save to adata.obsm['X_pca']\n",
    "\n",
    "# Raw data visualization\n",
    "# Can not apply on this dataset, need to downsample data first\n",
    "npcs = 20  # our pre-defined\n",
    "perplex = 30  # our pre-defined\n",
    "# get_tsne_umap_raw(adata, perplex=30, npcs=20)\n",
    "adata"
   ]
  },
  {
   "cell_type": "code",
   "execution_count": null,
   "metadata": {},
   "outputs": [],
   "source": [
    "np.unique(adata.obs['batch'])"
   ]
  },
  {
   "cell_type": "code",
   "execution_count": null,
   "metadata": {},
   "outputs": [],
   "source": [
    "# Extract data from batch 1 and batch 2\n",
    "adata1_filtered = adata[adata.obs['batch']==1,:]  \n",
    "print(adata1_filtered)\n",
    "adata2_filtered = adata[adata.obs['batch']==2,:]\n",
    "print(adata2_filtered)\n",
    "adata1_filtered.obsm['X_pca'] *= -1 # multiply by -1 to match Seurat, as suggestion from Scanpy\n",
    "adata2_filtered.obsm['X_pca'] *= -1 # multiply by -1 to match Seurat, as suggestion from Scanpy\n",
    "print(adata2_filtered.obsm['X_pca'].shape[1])"
   ]
  },
  {
   "cell_type": "code",
   "execution_count": null,
   "metadata": {},
   "outputs": [],
   "source": [
    "import keras.optimizers\n",
    "from keras.layers import Input, Dense, merge, BatchNormalization, Activation\n",
    "from keras.models import Model\n",
    "from keras import callbacks as cb\n",
    "from keras.regularizers import l2\n",
    "from keras.callbacks import LearningRateScheduler\n",
    "import math\n",
    "from keras import backend as K\n",
    "import sklearn.preprocessing as prep\n",
    "from sklearn import decomposition\n",
    "from statsmodels.distributions.empirical_distribution import ECDF\n",
    "from keras import initializers\n",
    "from keras.layers import add\n",
    "from Calibration_Util import CostFunctions as cf  # author func\n",
    "from Calibration_Util import Monitoring as mn     # author func\n",
    "from Calibration_Util import utils_resnet as utils     # our func\n"
   ]
  },
  {
   "cell_type": "code",
   "execution_count": null,
   "metadata": {},
   "outputs": [],
   "source": [
    "target1 = adata1_filtered.obsm['X_pca']\n",
    "source2 = adata2_filtered.obsm['X_pca']\n",
    "space_dim = 50\n",
    "batch_size = 1000\n",
    "penalty = 1e-2\n",
    "nbeps = 20\n",
    "val_split = 0.25\n",
    "savedfl = 'resnet_d9_target1_source2'\n"
   ]
  },
  {
   "cell_type": "code",
   "execution_count": null,
   "metadata": {},
   "outputs": [],
   "source": [
    "print(target1.shape)\n",
    "print(source2.shape)"
   ]
  },
  {
   "cell_type": "code",
   "execution_count": null,
   "metadata": {},
   "outputs": [],
   "source": [
    "t1 = time.time()\n",
    "calibMMDNet,block2_output = utils.createMMDResNetModel(target1, source2, space_dim, batch_size, penalty, \n",
    "                                                   save_dir, nbeps, val_split, savedfl)\n",
    "afterCalib2 = calibMMDNet.predict(source2)   # align, calibrate source data to target data\n",
    "print(afterCalib2.shape)\n",
    "t2 = time.time()\n",
    "print('Took '+str(timedelta(seconds=t2-t1)))"
   ]
  },
  {
   "cell_type": "code",
   "execution_count": null,
   "metadata": {},
   "outputs": [],
   "source": [
    "import matplotlib.pyplot as plt\n",
    "from matplotlib.ticker import NullFormatter\n",
    "# Plot distribution, see the change after train and predict source data, compared to target data\n",
    "# from Calibration_Util import ScatterDemo as sd\n",
    "\n",
    "save_file_bf2 = os.path.join(save_fig_dir,'d12_distribution_before_target1_source2.png')\n",
    "save_file_af2 = os.path.join(save_fig_dir, 'd12_distribution_after_target1_source2.png')\n",
    "\n",
    "# The PCs most correlated with the batch are {1 and 2} or {3 and 5}\n",
    "pc1 = 0\n",
    "pc2 = 1\n",
    "utils.myScatterHistDemo(target1[:,pc1], target1[:,pc2], source2[:,pc1], source2[:,pc2],save_file_bf2)\n",
    "utils.myScatterHistDemo(target1[:,pc1], target1[:,pc2], afterCalib2[:,pc1], afterCalib2[:,pc2],save_file_af2)"
   ]
  },
  {
   "cell_type": "code",
   "execution_count": null,
   "metadata": {},
   "outputs": [],
   "source": [
    "## quantitative evaluation: MMD ###\n",
    "# MMD with the scales used for training \n",
    "# Compute Maximum Mean Discrepancy Distance \n",
    "# between source data- before correction, source data-after correction, target data and Ground Truth - filter data, one layer in network \n",
    "# If MMD distance is smaller --> 2 distributions are shift closer, less of batch effect \n",
    "# If MMD distance is not many different --> this method can not remove batch effect\n",
    "def calculMMD(target, source, afterCalib, block2_output):\n",
    "    sourceInds = np.random.randint(low=0, high = source.shape[0], size = 1000)\n",
    "    targetInds = np.random.randint(low=0, high = target.shape[0], size = 1000)\n",
    "    mmd_before = K.eval(cf.MMD(block2_output,target).cost(K.variable(value=source[sourceInds]), K.variable(value=target[targetInds])))\n",
    "    mmd_after = K.eval(cf.MMD(block2_output,target).cost(K.variable(value=afterCalib[sourceInds]), K.variable(value=target[targetInds])))\n",
    "    print('MMD before calibration: ' + str(mmd_before))\n",
    "    print('MMD after calibration: ' + str(mmd_after))\n",
    "    return mmd_before,mmd_after\n",
    "        \n",
    "print('Distance b1 to b2')    \n",
    "calculMMD(target1, source2, afterCalib2, block2_output)"
   ]
  },
  {
   "cell_type": "code",
   "execution_count": null,
   "metadata": {},
   "outputs": [],
   "source": [
    "pca_corrected = np.concatenate([target1,afterCalib2])\n",
    "adata.obsm['X_pca'] = pca_corrected\n",
    "# npcs = 20  # our pre-defined\n",
    "# perplex = 30  # our pre-defined\n",
    "# sc.pp.neighbors(adata,n_neighbors=15, n_pcs=npcs)\n",
    "# sc.tl.tsne(adata, random_state=0, n_pcs=npcs, perplexity=perplex)\n",
    "# sc.tl.umap(adata)\n",
    "print(adata)"
   ]
  },
  {
   "cell_type": "code",
   "execution_count": null,
   "metadata": {},
   "outputs": [],
   "source": [
    "colnpc = []\n",
    "for i in range(20):\n",
    "    colnpc.append(\"X_pca\"+str(i+1))\n",
    "\n",
    "df = pd.DataFrame(pca_corrected[:, :20], columns=colnpc, index=adata.obs_names)\n",
    "df['batch'] = pd.Series(adata.obs['batch'], index=adata.obs_names)\n",
    "# df['celltype'] = pd.Series(adata.obs['cell_type'], index=adata.obs_names)\n",
    "df.to_csv(save_dir+'resnet_pca_predicted.csv')"
   ]
  },
  {
   "cell_type": "code",
   "execution_count": null,
   "metadata": {},
   "outputs": [],
   "source": [
    "# Save execution time to file for evaluation   \n",
    "# Evaluation runtime of main batch effect removal function\n",
    "filename = 'resnet_exetime.csv'\n",
    "usecase_name = 'resnet_exetime' \n",
    "utils.getExecutionTime(t1, t2, save_dir, usecase_name, filename)  # t1: start time, t2: end time       "
   ]
  },
  {
   "cell_type": "code",
   "execution_count": null,
   "metadata": {},
   "outputs": [],
   "source": [
    "npcs = 20  # our pre-defined\n",
    "perplex = 30  # our pre-defined\n",
    "nb_neighbors = 15\n",
    "color_group = [\"batchlb\",\"cell_type\"] \n",
    "save_fn_tsne = 'resnet_tsne'\n",
    "save_fn_umap = 'resnet_umap'\n",
    "utils.plotUMAP(adata, color_group, save_fn_umap, save_fig_dir, npcs, nb_neighbors, False)\n",
    "# utils.plotTSNE(adata, color_group, save_fn_tsne, save_fig_dir, npcs, perplex, False)"
   ]
  },
  {
   "cell_type": "code",
   "execution_count": null,
   "metadata": {},
   "outputs": [],
   "source": [
    "adata.obs['batchlb'][1:5]"
   ]
  },
  {
   "cell_type": "code",
   "execution_count": null,
   "metadata": {},
   "outputs": [],
   "source": [
    "npcs = 20  # our pre-defined\n",
    "perplex = 30  # our pre-defined\n",
    "save_fn_tsne = 'resnet_tsne'\n",
    "color_group = [\"batchlb\"]\n",
    "utils.plotTSNE(adata, color_group, save_fn_tsne, save_fig_dir, npcs, perplex, False)"
   ]
  },
  {
   "cell_type": "code",
   "execution_count": null,
   "metadata": {},
   "outputs": [],
   "source": [
    "utils.save_output_txt(total_ann, save_dir)"
   ]
  },
  {
   "cell_type": "code",
   "execution_count": null,
   "metadata": {},
   "outputs": [],
   "source": []
  }
 ],
 "metadata": {
  "kernelspec": {
   "display_name": "Python 3",
   "language": "python",
   "name": "python3"
  },
  "language_info": {
   "codemirror_mode": {
    "name": "ipython",
    "version": 3
   },
   "file_extension": ".py",
   "mimetype": "text/x-python",
   "name": "python",
   "nbconvert_exporter": "python",
   "pygments_lexer": "ipython3",
   "version": "3.6.7"
  }
 },
 "nbformat": 4,
 "nbformat_minor": 2
}
