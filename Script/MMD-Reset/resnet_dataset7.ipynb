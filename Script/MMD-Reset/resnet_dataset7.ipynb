{
 "cells": [
  {
   "cell_type": "code",
   "execution_count": 1,
   "metadata": {},
   "outputs": [
    {
     "name": "stdout",
     "output_type": "stream",
     "text": [
      "scanpy==1.4+18.gaabe446 anndata==0.6.17 numpy==1.15.4 scipy==1.1.0 pandas==0.23.4 scikit-learn==0.20.2 statsmodels==0.9.0 python-igraph==0.7.1 louvain==0.6.1 \n"
     ]
    }
   ],
   "source": [
    "# Residual Network for batch effect correction\n",
    "# See more at: https://github.com/ushaham/BatchEffectRemoval\n",
    "# Hoa Tran\n",
    "# Update code from python version 2 to python version 3, Keras\n",
    "import numpy as np\n",
    "import pandas as pd\n",
    "import matplotlib.pyplot as pl\n",
    "from matplotlib import rcParams\n",
    "import time\n",
    "from datetime import timedelta\n",
    "import scanpy as sc\n",
    "from Calibration_Util import utils_resnet as utils     # our func\n",
    "sc.settings.verbosity = 3  # verbosity: errors (0), warnings (1), info (2), hints (3)\n",
    "sc.logging.print_versions()"
   ]
  },
  {
   "cell_type": "code",
   "execution_count": 2,
   "metadata": {},
   "outputs": [
    {
     "name": "stdout",
     "output_type": "stream",
     "text": [
      "/acrc/jinmiao/CJM_lab/hoatran/demo_normalization/demo_ResNet/resnet\n"
     ]
    }
   ],
   "source": [
    "# Create folder to save the results \n",
    "import os\n",
    "dirname = os.getcwd()\n",
    "print(dirname)\n",
    "data_dir = os.path.join('/acrc/jinmiao/CJM_lab/hoatran/demo_normalization/dataset/dataset7_Mouse_retina/final/')\n",
    "\n",
    "if not os.path.exists('./results/'): os.makedirs('./results/')   \n",
    "if not os.path.exists('./results/results_dataset7_MouseRetina/'): os.makedirs('./results/results_dataset7_MouseRetina/')    \n",
    "save_dir = os.path.join(dirname, 'results/results_dataset7_MouseRetina/')\n",
    "\n",
    "# Function to save figure as image in the figures folder\n",
    "save_fig_dir='./figures/dataset7_MouseRetina/'\n",
    "if not os.path.exists('./figures/'): os.makedirs('./figures/')\n",
    "if not os.path.exists(save_fig_dir): os.makedirs(save_fig_dir)\n",
    "def save_images(filename, save_fig_dir):    \n",
    "    outname = save_fig_dir + filename + '.png'\n",
    "    pl.savefig(outname, dpi=150)\n",
    "    pl.close()"
   ]
  },
  {
   "cell_type": "code",
   "execution_count": 4,
   "metadata": {},
   "outputs": [
    {
     "name": "stdout",
     "output_type": "stream",
     "text": [
      "(12333, 26830)\n",
      "Index(['Bipolar1_CAAAGCATTTGC', 'Bipolar1_CTTTTGATTGAC'], dtype='object')\n",
      "Index(['0610009B22Rik', '0610009E02Rik'], dtype='object')\n",
      "(26830, 1)\n",
      "Index(['CellType'], dtype='object')\n",
      "Index(['Bipolar1_CAAAGCATTTGC', 'Bipolar1_CTTTTGATTGAC',\n",
      "       'Bipolar1_GCTCCAATGACA', 'Bipolar1_AAATACCCTCAT'],\n",
      "      dtype='object', name='CellId')\n",
      "AnnData object with n_obs × n_vars = 26830 × 12333 \n",
      "    obs: 'cell_type', 'batch', 'batchlb'\n"
     ]
    }
   ],
   "source": [
    "myDataFn1 = 'b1_exprs.txt'\n",
    "mySampleFn1 = 'b1_celltype.txt'\n",
    "batchid1 = 1\n",
    "batchlb1 = 'batch1'\n",
    "savefn1 = 'myRawData1.h5ad'\n",
    "adata1 = utils.load_data(data_dir, myDataFn1, mySampleFn1, batchid1, batchlb1, save_dir, savefn1,saveh5ad=False)"
   ]
  },
  {
   "cell_type": "code",
   "execution_count": 5,
   "metadata": {},
   "outputs": [
    {
     "name": "stdout",
     "output_type": "stream",
     "text": [
      "(12333, 44808)\n",
      "Index(['p1_AAAAAAATGGTA', 'p1_AAAAACTCTTAG'], dtype='object')\n",
      "Index(['0610009B22Rik', '0610009E02Rik'], dtype='object')\n",
      "(44808, 1)\n",
      "Index(['CellType'], dtype='object')\n",
      "Index(['p1_AAAAAAATGGTA', 'p1_AAAAACTCTTAG', 'p1_AAAAAGTCGGCT',\n",
      "       'p1_AAAAATTTGTTC'],\n",
      "      dtype='object', name='CellId')\n",
      "AnnData object with n_obs × n_vars = 44808 × 12333 \n",
      "    obs: 'cell_type', 'batch', 'batchlb'\n"
     ]
    }
   ],
   "source": [
    "myDataFn2 = 'b2_exprs.txt'\n",
    "mySampleFn2 = 'b2_celltype.txt'\n",
    "batchid2 = 2\n",
    "batchlb2 = 'batch2'\n",
    "savefn2 = 'myRawData2.h5ad'\n",
    "adata2 = utils.load_data(data_dir, myDataFn2, mySampleFn2, batchid2, batchlb2, save_dir, savefn2,saveh5ad=False)"
   ]
  },
  {
   "cell_type": "code",
   "execution_count": 6,
   "metadata": {},
   "outputs": [
    {
     "data": {
      "text/plain": [
       "12333"
      ]
     },
     "execution_count": 6,
     "metadata": {},
     "output_type": "execute_result"
    }
   ],
   "source": [
    "sum(adata2.var_names==adata1.var_names)"
   ]
  },
  {
   "cell_type": "code",
   "execution_count": 7,
   "metadata": {},
   "outputs": [
    {
     "data": {
      "text/plain": [
       "AnnData object with n_obs × n_vars = 71638 × 12333 \n",
       "    obs: 'cell_type', 'batch', 'batchlb'"
      ]
     },
     "execution_count": 7,
     "metadata": {},
     "output_type": "execute_result"
    }
   ],
   "source": [
    "# Combine 2 dataframe to run PCA\n",
    "# adata = sc.AnnData(adata1, adata2, batch_key='batch')\n",
    "# adata\n",
    "adata = sc.AnnData(np.concatenate([adata1.X, adata2.X]))\n",
    "adata.obs_names = adata1.obs_names.tolist() + adata2.obs_names.tolist()\n",
    "adata.var_names = adata1.var_names.tolist()\n",
    "adata.obs['cell_type'] = adata1.obs['cell_type'].tolist() + adata2.obs['cell_type'].tolist()\n",
    "adata.obs['batch'] = adata1.obs['batch'].tolist() + adata2.obs['batch'].tolist()\n",
    "adata.obs['batchlb'] = adata1.obs['batchlb'].tolist() + adata2.obs['batchlb'].tolist()\n",
    "adata"
   ]
  },
  {
   "cell_type": "code",
   "execution_count": 8,
   "metadata": {},
   "outputs": [
    {
     "name": "stdout",
     "output_type": "stream",
     "text": [
      "(62732, 23)\n",
      "Index(['V2', 'V3'], dtype='object')\n",
      "Index(['Bipolar1_CAAAGCATTTGC', 'Bipolar1_CTTTTGATTGAC'], dtype='object')\n"
     ]
    },
    {
     "data": {
      "text/plain": [
       "AnnData object with n_obs × n_vars = 62732 × 12333 \n",
       "    obs: 'cell_type', 'batch', 'batchlb'"
      ]
     },
     "execution_count": 8,
     "metadata": {},
     "output_type": "execute_result"
    }
   ],
   "source": [
    "data_dir_1 = '/acrc/jinmiao/CJM_lab/hoatran/demo_normalization/xiaomeng/generate_PCA_tSNE_UMAP_v1.1/dataset7/'\n",
    "fn = 'dataset7_fastMNN_pca.csv'\n",
    "mypca = pd.read_csv(os.path.join(data_dir_1, fn),header=0, index_col=0, sep=',')\n",
    "print(mypca.values.shape)\n",
    "print(mypca.keys()[1:3])\n",
    "print(mypca.index[1:3])\n",
    "adata = adata[mypca.index,:].copy()\n",
    "adata"
   ]
  },
  {
   "cell_type": "code",
   "execution_count": 9,
   "metadata": {},
   "outputs": [
    {
     "data": {
      "text/plain": [
       "AnnData object with n_obs × n_vars = 62732 × 12333 \n",
       "    obs: 'cell_type', 'batch', 'batchlb'\n",
       "    var: 'n_cells'"
      ]
     },
     "execution_count": 9,
     "metadata": {},
     "output_type": "execute_result"
    }
   ],
   "source": [
    "# Ignore this step for this dataset\n",
    "# Filtering data \n",
    "# sc.pp.filter_cells(adata, min_genes=300)\n",
    "sc.pp.filter_genes(adata, min_cells=10)\n",
    "adata"
   ]
  },
  {
   "cell_type": "code",
   "execution_count": 10,
   "metadata": {},
   "outputs": [
    {
     "data": {
      "text/plain": [
       "AnnData object with n_obs × n_vars = 62732 × 12333 \n",
       "    obs: 'cell_type', 'batch', 'batchlb'\n",
       "    var: 'n_cells'\n",
       "    uns: 'pca'\n",
       "    obsm: 'X_pca'\n",
       "    varm: 'PCs'"
      ]
     },
     "execution_count": 10,
     "metadata": {},
     "output_type": "execute_result"
    }
   ],
   "source": [
    "# Here authors extract 50 pca vectors to train the network model\n",
    "npcs_train = 50  \n",
    "sc.tl.pca(adata, svd_solver='arpack', n_comps=npcs_train)  # output save to adata.obsm['X_pca']\n",
    "adata\n",
    "# Raw data visualization\n",
    "# utils.get_tsne_umap_raw(adata, perplex=30, npcs=20)\n"
   ]
  },
  {
   "cell_type": "code",
   "execution_count": 11,
   "metadata": {},
   "outputs": [
    {
     "name": "stdout",
     "output_type": "stream",
     "text": [
      "AnnData object with n_obs × n_vars = 26830 × 12333 \n",
      "    obs: 'cell_type', 'batch', 'batchlb'\n",
      "    var: 'n_cells'\n",
      "    uns: 'pca'\n",
      "    obsm: 'X_pca'\n",
      "    varm: 'PCs'\n",
      "AnnData object with n_obs × n_vars = 35902 × 12333 \n",
      "    obs: 'cell_type', 'batch', 'batchlb'\n",
      "    var: 'n_cells'\n",
      "    uns: 'pca'\n",
      "    obsm: 'X_pca'\n",
      "    varm: 'PCs'\n",
      "50\n"
     ]
    }
   ],
   "source": [
    "# Extract data from batch 1 and batch 2\n",
    "adata1 = adata[adata.obs['batch']==1,:].copy()  # after concatenate, the values change from 1 to 0, 2 to 1\n",
    "print(adata1)\n",
    "adata2 = adata[adata.obs['batch']==2,:].copy()\n",
    "print(adata2)\n",
    "adata1.obsm['X_pca'] *= -1 # multiply by -1 to match Seurat, as suggestion from Scanpy\n",
    "adata2.obsm['X_pca'] *= -1 # multiply by -1 to match Seurat, as suggestion from Scanpy\n",
    "print(adata2.obsm['X_pca'].shape[1])"
   ]
  },
  {
   "cell_type": "code",
   "execution_count": 12,
   "metadata": {},
   "outputs": [
    {
     "name": "stderr",
     "output_type": "stream",
     "text": [
      "Using TensorFlow backend.\n"
     ]
    }
   ],
   "source": [
    "import keras.optimizers\n",
    "from keras.layers import Input, Dense, merge, BatchNormalization, Activation\n",
    "from keras.models import Model\n",
    "from keras import callbacks as cb\n",
    "from keras.regularizers import l2\n",
    "from keras.callbacks import LearningRateScheduler\n",
    "import math\n",
    "from keras import backend as K\n",
    "import sklearn.preprocessing as prep\n",
    "from sklearn import decomposition\n",
    "from statsmodels.distributions.empirical_distribution import ECDF\n",
    "from keras import initializers\n",
    "from keras.layers import add\n",
    "from Calibration_Util import CostFunctions as cf  # author func\n",
    "from Calibration_Util import Monitoring as mn     # author func\n"
   ]
  },
  {
   "cell_type": "code",
   "execution_count": 13,
   "metadata": {},
   "outputs": [
    {
     "name": "stdout",
     "output_type": "stream",
     "text": [
      "Create a training model: \n",
      "setting scales using KNN\n",
      "[10.197967771555346, 20.395935543110692, 40.791871086221384]\n",
      "setting all scale weights to 1\n"
     ]
    },
    {
     "data": {
      "image/png": "[encoded data removed]",
      "text/plain": [
       "<Figure size 432x288 with 1 Axes>"
      ]
     },
     "metadata": {
      "needs_background": "light"
     },
     "output_type": "display_data"
    },
    {
     "data": {
      "image/png": "[encoded data removed]",
      "text/plain": [
       "<Figure size 432x288 with 1 Axes>"
      ]
     },
     "metadata": {
      "needs_background": "light"
     },
     "output_type": "display_data"
    },
    {
     "data": {
      "text/plain": [
       "<Figure size 432x288 with 0 Axes>"
      ]
     },
     "metadata": {},
     "output_type": "display_data"
    },
    {
     "data": {
      "text/plain": [
       "<Figure size 432x288 with 0 Axes>"
      ]
     },
     "metadata": {},
     "output_type": "display_data"
    },
    {
     "data": {
      "text/plain": [
       "<Figure size 432x288 with 0 Axes>"
      ]
     },
     "metadata": {},
     "output_type": "display_data"
    },
    {
     "data": {
      "text/plain": [
       "<Figure size 432x288 with 0 Axes>"
      ]
     },
     "metadata": {},
     "output_type": "display_data"
    },
    {
     "data": {
      "text/plain": [
       "<Figure size 432x288 with 0 Axes>"
      ]
     },
     "metadata": {},
     "output_type": "display_data"
    },
    {
     "data": {
      "text/plain": [
       "<Figure size 432x288 with 0 Axes>"
      ]
     },
     "metadata": {},
     "output_type": "display_data"
    },
    {
     "data": {
      "text/plain": [
       "<Figure size 432x288 with 0 Axes>"
      ]
     },
     "metadata": {},
     "output_type": "display_data"
    },
    {
     "data": {
      "text/plain": [
       "<Figure size 432x288 with 0 Axes>"
      ]
     },
     "metadata": {},
     "output_type": "display_data"
    },
    {
     "data": {
      "text/plain": [
       "<Figure size 432x288 with 0 Axes>"
      ]
     },
     "metadata": {},
     "output_type": "display_data"
    },
    {
     "data": {
      "text/plain": [
       "<Figure size 432x288 with 0 Axes>"
      ]
     },
     "metadata": {},
     "output_type": "display_data"
    },
    {
     "data": {
      "text/plain": [
       "<Figure size 432x288 with 0 Axes>"
      ]
     },
     "metadata": {},
     "output_type": "display_data"
    },
    {
     "data": {
      "text/plain": [
       "<Figure size 432x288 with 0 Axes>"
      ]
     },
     "metadata": {},
     "output_type": "display_data"
    },
    {
     "data": {
      "text/plain": [
       "<Figure size 432x288 with 0 Axes>"
      ]
     },
     "metadata": {},
     "output_type": "display_data"
    },
    {
     "data": {
      "text/plain": [
       "<Figure size 432x288 with 0 Axes>"
      ]
     },
     "metadata": {},
     "output_type": "display_data"
    },
    {
     "data": {
      "text/plain": [
       "<Figure size 432x288 with 0 Axes>"
      ]
     },
     "metadata": {},
     "output_type": "display_data"
    },
    {
     "data": {
      "text/plain": [
       "<Figure size 432x288 with 0 Axes>"
      ]
     },
     "metadata": {},
     "output_type": "display_data"
    },
    {
     "data": {
      "text/plain": [
       "<Figure size 432x288 with 0 Axes>"
      ]
     },
     "metadata": {},
     "output_type": "display_data"
    },
    {
     "data": {
      "text/plain": [
       "<Figure size 432x288 with 0 Axes>"
      ]
     },
     "metadata": {},
     "output_type": "display_data"
    },
    {
     "data": {
      "text/plain": [
       "<Figure size 432x288 with 0 Axes>"
      ]
     },
     "metadata": {},
     "output_type": "display_data"
    },
    {
     "data": {
      "text/plain": [
       "<Figure size 432x288 with 0 Axes>"
      ]
     },
     "metadata": {},
     "output_type": "display_data"
    },
    {
     "data": {
      "text/plain": [
       "<Figure size 432x288 with 0 Axes>"
      ]
     },
     "metadata": {},
     "output_type": "display_data"
    },
    {
     "data": {
      "text/plain": [
       "<Figure size 432x288 with 0 Axes>"
      ]
     },
     "metadata": {},
     "output_type": "display_data"
    },
    {
     "data": {
      "text/plain": [
       "<Figure size 432x288 with 0 Axes>"
      ]
     },
     "metadata": {},
     "output_type": "display_data"
    },
    {
     "data": {
      "text/plain": [
       "<Figure size 432x288 with 0 Axes>"
      ]
     },
     "metadata": {},
     "output_type": "display_data"
    },
    {
     "data": {
      "text/plain": [
       "<Figure size 432x288 with 0 Axes>"
      ]
     },
     "metadata": {},
     "output_type": "display_data"
    },
    {
     "data": {
      "text/plain": [
       "<Figure size 432x288 with 0 Axes>"
      ]
     },
     "metadata": {},
     "output_type": "display_data"
    },
    {
     "data": {
      "text/plain": [
       "<Figure size 432x288 with 0 Axes>"
      ]
     },
     "metadata": {},
     "output_type": "display_data"
    },
    {
     "data": {
      "text/plain": [
       "<Figure size 432x288 with 0 Axes>"
      ]
     },
     "metadata": {},
     "output_type": "display_data"
    },
    {
     "data": {
      "text/plain": [
       "<Figure size 432x288 with 0 Axes>"
      ]
     },
     "metadata": {},
     "output_type": "display_data"
    },
    {
     "data": {
      "text/plain": [
       "<Figure size 432x288 with 0 Axes>"
      ]
     },
     "metadata": {},
     "output_type": "display_data"
    },
    {
     "data": {
      "text/plain": [
       "<Figure size 432x288 with 0 Axes>"
      ]
     },
     "metadata": {},
     "output_type": "display_data"
    },
    {
     "data": {
      "text/plain": [
       "<Figure size 432x288 with 0 Axes>"
      ]
     },
     "metadata": {},
     "output_type": "display_data"
    },
    {
     "data": {
      "text/plain": [
       "<Figure size 432x288 with 0 Axes>"
      ]
     },
     "metadata": {},
     "output_type": "display_data"
    },
    {
     "data": {
      "text/plain": [
       "<Figure size 432x288 with 0 Axes>"
      ]
     },
     "metadata": {},
     "output_type": "display_data"
    },
    {
     "data": {
      "text/plain": [
       "<Figure size 432x288 with 0 Axes>"
      ]
     },
     "metadata": {},
     "output_type": "display_data"
    },
    {
     "data": {
      "text/plain": [
       "<Figure size 432x288 with 0 Axes>"
      ]
     },
     "metadata": {},
     "output_type": "display_data"
    },
    {
     "data": {
      "text/plain": [
       "<Figure size 432x288 with 0 Axes>"
      ]
     },
     "metadata": {},
     "output_type": "display_data"
    },
    {
     "data": {
      "text/plain": [
       "<Figure size 432x288 with 0 Axes>"
      ]
     },
     "metadata": {},
     "output_type": "display_data"
    },
    {
     "data": {
      "text/plain": [
       "<Figure size 432x288 with 0 Axes>"
      ]
     },
     "metadata": {},
     "output_type": "display_data"
    },
    {
     "data": {
      "text/plain": [
       "<Figure size 432x288 with 0 Axes>"
      ]
     },
     "metadata": {},
     "output_type": "display_data"
    },
    {
     "data": {
      "text/plain": [
       "<Figure size 432x288 with 0 Axes>"
      ]
     },
     "metadata": {},
     "output_type": "display_data"
    },
    {
     "data": {
      "text/plain": [
       "<Figure size 432x288 with 0 Axes>"
      ]
     },
     "metadata": {},
     "output_type": "display_data"
    },
    {
     "data": {
      "text/plain": [
       "<Figure size 432x288 with 0 Axes>"
      ]
     },
     "metadata": {},
     "output_type": "display_data"
    },
    {
     "data": {
      "text/plain": [
       "<Figure size 432x288 with 0 Axes>"
      ]
     },
     "metadata": {},
     "output_type": "display_data"
    },
    {
     "data": {
      "text/plain": [
       "<Figure size 432x288 with 0 Axes>"
      ]
     },
     "metadata": {},
     "output_type": "display_data"
    },
    {
     "data": {
      "text/plain": [
       "<Figure size 432x288 with 0 Axes>"
      ]
     },
     "metadata": {},
     "output_type": "display_data"
    },
    {
     "data": {
      "text/plain": [
       "<Figure size 432x288 with 0 Axes>"
      ]
     },
     "metadata": {},
     "output_type": "display_data"
    },
    {
     "data": {
      "text/plain": [
       "<Figure size 432x288 with 0 Axes>"
      ]
     },
     "metadata": {},
     "output_type": "display_data"
    },
    {
     "data": {
      "text/plain": [
       "<Figure size 432x288 with 0 Axes>"
      ]
     },
     "metadata": {},
     "output_type": "display_data"
    },
    {
     "data": {
      "text/plain": [
       "<Figure size 432x288 with 0 Axes>"
      ]
     },
     "metadata": {},
     "output_type": "display_data"
    },
    {
     "data": {
      "text/plain": [
       "<Figure size 432x288 with 0 Axes>"
      ]
     },
     "metadata": {},
     "output_type": "display_data"
    },
    {
     "data": {
      "text/plain": [
       "<Figure size 432x288 with 0 Axes>"
      ]
     },
     "metadata": {},
     "output_type": "display_data"
    },
    {
     "data": {
      "text/plain": [
       "<Figure size 432x288 with 0 Axes>"
      ]
     },
     "metadata": {},
     "output_type": "display_data"
    },
    {
     "data": {
      "text/plain": [
       "<Figure size 432x288 with 0 Axes>"
      ]
     },
     "metadata": {},
     "output_type": "display_data"
    },
    {
     "data": {
      "text/plain": [
       "<Figure size 432x288 with 0 Axes>"
      ]
     },
     "metadata": {},
     "output_type": "display_data"
    },
    {
     "data": {
      "text/plain": [
       "<Figure size 432x288 with 0 Axes>"
      ]
     },
     "metadata": {},
     "output_type": "display_data"
    },
    {
     "data": {
      "text/plain": [
       "<Figure size 432x288 with 0 Axes>"
      ]
     },
     "metadata": {},
     "output_type": "display_data"
    },
    {
     "data": {
      "text/plain": [
       "<Figure size 432x288 with 0 Axes>"
      ]
     },
     "metadata": {},
     "output_type": "display_data"
    },
    {
     "data": {
      "text/plain": [
       "<Figure size 432x288 with 0 Axes>"
      ]
     },
     "metadata": {},
     "output_type": "display_data"
    },
    {
     "name": "stdout",
     "output_type": "stream",
     "text": [
      "(35902, 50)\n",
      "Took 1:19:29.090985\n"
     ]
    }
   ],
   "source": [
    "target = adata1.obsm['X_pca']\n",
    "source = adata2.obsm['X_pca']\n",
    "space_dim = 50\n",
    "batch_size = 50\n",
    "penalty = 1e-2\n",
    "nbeps = 30\n",
    "val_split = 0.1\n",
    "savedfl = 'resnet_d7_target1_source2'\n",
    "t1 = time.time()\n",
    "calibMMDNet,block2_output = utils.createMMDResNetModel(target, source, space_dim, batch_size, penalty, save_dir, nbeps, val_split, savedfl)\n",
    "afterCalib = calibMMDNet.predict(source)   # align, calibrate source data to target data\n",
    "print(afterCalib.shape)\n",
    "t2 = time.time()\n",
    "print('Took '+str(timedelta(seconds=t2-t1)))"
   ]
  },
  {
   "cell_type": "code",
   "execution_count": 14,
   "metadata": {},
   "outputs": [],
   "source": [
    "import matplotlib.pyplot as plt\n",
    "from matplotlib.ticker import NullFormatter\n",
    "# Plot distribution, see the change after train and predict source data, compared to target data\n",
    "# from Calibration_Util import ScatterDemo as sd\n",
    "\n",
    "save_file_bf = os.path.join(save_fig_dir,'d7_distribution_before.png')\n",
    "save_file_af = os.path.join(save_fig_dir, 'd7_distribution_after.png')\n",
    "# The PCs most correlated with the batch are {1 and 2} or {3 and 5}\n",
    "pc1 = 0\n",
    "pc2 = 1\n",
    "utils.myScatterHistDemo(target[:,pc1], target[:,pc2], source[:,pc1], source[:,pc2],save_file_bf)\n",
    "utils.myScatterHistDemo(target[:,pc1], target[:,pc2], afterCalib[:,pc1], afterCalib[:,pc2],save_file_af)"
   ]
  },
  {
   "cell_type": "code",
   "execution_count": 15,
   "metadata": {},
   "outputs": [
    {
     "name": "stdout",
     "output_type": "stream",
     "text": [
      "setting scales using KNN\n",
      "[10.161748377448053, 20.323496754896105, 40.64699350979221]\n",
      "setting all scale weights to 1\n",
      "setting scales using KNN\n",
      "[10.120420496398154, 20.240840992796308, 40.481681985592616]\n",
      "setting all scale weights to 1\n",
      "MMD before calibration: 0.93101454\n",
      "MMD after calibration: 0.26090044\n"
     ]
    }
   ],
   "source": [
    "## quantitative evaluation: MMD ###\n",
    "# MMD with the scales used for training \n",
    "# Compute Maximum Mean Discrepancy Distance \n",
    "# between source data- before correction, source data-after correction, target data and Ground Truth - filter data, one layer in network \n",
    "# If MMD distance is smaller --> 2 distributions are shift closer, less of batch effect \n",
    "# If MMD distance is not many different --> this method can not remove batch effect\n",
    "sourceInds = np.random.randint(low=0, high = source.shape[0], size = 1000)\n",
    "targetInds = np.random.randint(low=0, high = target.shape[0], size = 1000)\n",
    "mmd_before = K.eval(cf.MMD(block2_output,target).cost(K.variable(value=source[sourceInds]), K.variable(value=target[targetInds])))\n",
    "mmd_after = K.eval(cf.MMD(block2_output,target).cost(K.variable(value=afterCalib[sourceInds]), K.variable(value=target[targetInds])))\n",
    "print('MMD before calibration: ' + str(mmd_before))\n",
    "print('MMD after calibration: ' + str(mmd_after))"
   ]
  },
  {
   "cell_type": "code",
   "execution_count": 16,
   "metadata": {},
   "outputs": [
    {
     "name": "stdout",
     "output_type": "stream",
     "text": [
      "(26830, 50)\n",
      "(35902, 50)\n",
      "AnnData object with n_obs × n_vars = 26830 × 12333 \n",
      "    obs: 'cell_type', 'batch', 'batchlb'\n",
      "    var: 'n_cells'\n",
      "    uns: 'pca'\n",
      "    obsm: 'X_pca'\n",
      "    varm: 'PCs'\n",
      "AnnData object with n_obs × n_vars = 35902 × 12333 \n",
      "    obs: 'cell_type', 'batch', 'batchlb'\n",
      "    var: 'n_cells'\n",
      "    uns: 'pca'\n",
      "    obsm: 'X_pca'\n",
      "    varm: 'PCs'\n",
      "computing neighbors\n",
      "    using 'X_pca' with n_pcs = 20\n",
      "    finished (0:00:47.29) --> added to `.uns['neighbors']`\n",
      "    'distances', distances for each pair of neighbors\n",
      "    'connectivities', weighted adjacency matrix\n",
      "computing tSNE\n",
      "    using 'X_pca' with n_pcs = 20\n",
      "    using the 'MulticoreTSNE' package by Ulyanov (2017)\n",
      "    finished (0:10:20.82) --> added\n",
      "    'X_tsne', tSNE coordinates (adata.obsm)\n",
      "computing UMAP\n"
     ]
    },
    {
     "name": "stderr",
     "output_type": "stream",
     "text": [
      "... storing 'cell_type' as categorical\n",
      "... storing 'batchlb' as categorical\n"
     ]
    },
    {
     "name": "stdout",
     "output_type": "stream",
     "text": [
      "    finished (0:01:19.27) --> added\n",
      "    'X_umap', UMAP coordinates (adata.obsm)\n",
      "AnnData object with n_obs × n_vars = 62732 × 12333 \n",
      "    obs: 'cell_type', 'batch', 'batchlb'\n",
      "    var: 'n_cells'\n",
      "    uns: 'pca', 'neighbors'\n",
      "    obsm: 'X_pca', 'X_tsne', 'X_umap'\n",
      "    varm: 'PCs'\n"
     ]
    }
   ],
   "source": [
    "print(target.shape)  #adata1\n",
    "print(afterCalib.shape) # adata2, output of prediction\n",
    "adata1.obsm['X_pca'] = target\n",
    "adata2.obsm['X_pca'] = afterCalib\n",
    "print(adata1)\n",
    "print(adata2)\n",
    "pca_corrected = np.concatenate([target,afterCalib])\n",
    "adata.obsm['X_pca'] = pca_corrected\n",
    "npcs = 20  # our pre-defined\n",
    "perplex = 30  # our pre-defined\n",
    "sc.pp.neighbors(adata,n_neighbors=15, n_pcs=npcs)\n",
    "sc.tl.tsne(adata, random_state=0, n_pcs=npcs, perplexity=perplex)\n",
    "sc.tl.umap(adata)\n",
    "print(adata)\n",
    "color_group = [\"batch\",\"cell_type\"]\n",
    "sc.pl.tsne(adata, color = color_group, show=False, wspace=.3)\n",
    "save_images('resnet_tsne_corrected',save_fig_dir) \n",
    "\n",
    "sc.pl.umap(adata, color = color_group, show=False)\n",
    "save_images('resnet_umap_corrected',save_fig_dir)"
   ]
  },
  {
   "cell_type": "code",
   "execution_count": 17,
   "metadata": {},
   "outputs": [
    {
     "name": "stdout",
     "output_type": "stream",
     "text": [
      "AnnData object with n_obs × n_vars = 62732 × 12333 \n",
      "    obs: 'cell_type', 'batch', 'batchlb'\n",
      "    var: 'n_cells'\n",
      "    uns: 'pca', 'neighbors', 'cell_type_colors'\n",
      "    obsm: 'X_pca', 'X_tsne', 'X_umap'\n",
      "    varm: 'PCs'\n"
     ]
    }
   ],
   "source": [
    "# Save output of umap for visualization\n",
    "import pandas as pd\n",
    "print(adata)\n",
    "# pca_corrected\n",
    "utils.save_output_txt(adata, save_dir)"
   ]
  },
  {
   "cell_type": "code",
   "execution_count": 18,
   "metadata": {},
   "outputs": [
    {
     "name": "stdout",
     "output_type": "stream",
     "text": [
      "Took seconds: 1:19:29\n",
      "Took minutes: (79.0, 29.09098482131958)\n",
      "Took hours_minutes_seconds:  1.0 19.0 29.09098482131958\n",
      "               use_case exetime_secs exetimehours exetimemins exetimesecs\n",
      "exetime  resnet_exetime         4769          1.0        19.0          29\n"
     ]
    }
   ],
   "source": [
    "# Save execution time to file for evaluation\n",
    "# Evaluation runtime of main batch effect removal function\n",
    "filename = 'resnet_exetime.csv'\n",
    "usecase_name = 'resnet_exetime' \n",
    "utils.getExecutionTime(t1, t2, save_dir, usecase_name, filename)  # t1: start time, t2: end time       "
   ]
  },
  {
   "cell_type": "code",
   "execution_count": 19,
   "metadata": {},
   "outputs": [
    {
     "name": "stdout",
     "output_type": "stream",
     "text": [
      "/acrc/jinmiao/CJM_lab/hoatran/demo_normalization/demo_ResNet/resnet/results/results_dataset7_MouseRetina/\n"
     ]
    }
   ],
   "source": [
    "print(save_dir)\n",
    "adata.write_h5ad(os.path.join(save_dir,'resnet_pca_corrected.h5ad'))"
   ]
  },
  {
   "cell_type": "code",
   "execution_count": null,
   "metadata": {},
   "outputs": [],
   "source": []
  }
 ],
 "metadata": {
  "kernelspec": {
   "display_name": "Python 3",
   "language": "python",
   "name": "python3"
  },
  "language_info": {
   "codemirror_mode": {
    "name": "ipython",
    "version": 3
   },
   "file_extension": ".py",
   "mimetype": "text/x-python",
   "name": "python",
   "nbconvert_exporter": "python",
   "pygments_lexer": "ipython3",
   "version": "3.6.7"
  }
 },
 "nbformat": 4,
 "nbformat_minor": 2
}
