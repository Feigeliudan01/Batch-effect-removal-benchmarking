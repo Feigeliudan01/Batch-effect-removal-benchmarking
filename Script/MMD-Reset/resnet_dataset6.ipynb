{
 "cells": [
  {
   "cell_type": "code",
   "execution_count": 1,
   "metadata": {},
   "outputs": [
    {
     "name": "stdout",
     "output_type": "stream",
     "text": [
      "scanpy==1.4+18.gaabe446 anndata==0.6.17 numpy==1.15.4 scipy==1.1.0 pandas==0.23.4 scikit-learn==0.20.2 statsmodels==0.9.0 python-igraph==0.7.1 louvain==0.6.1 \n"
     ]
    }
   ],
   "source": [
    "# Residual Network for batch effect correction\n",
    "# See more at: https://github.com/ushaham/BatchEffectRemoval\n",
    "# Hoa Tran\n",
    "# Update code from python version 2 to python version 3, Keras\n",
    "import numpy as np\n",
    "import pandas as pd\n",
    "import matplotlib.pyplot as pl\n",
    "from matplotlib import rcParams\n",
    "import time\n",
    "from datetime import timedelta\n",
    "import scanpy as sc\n",
    "from Calibration_Util import utils_resnet as utils     # our func\n",
    "sc.settings.verbosity = 3  # verbosity: errors (0), warnings (1), info (2), hints (3)\n",
    "sc.logging.print_versions()"
   ]
  },
  {
   "cell_type": "code",
   "execution_count": 2,
   "metadata": {},
   "outputs": [
    {
     "name": "stdout",
     "output_type": "stream",
     "text": [
      "/acrc/jinmiao/CJM_lab/hoatran/demo_normalization/demo_ResNet/resnet\n"
     ]
    }
   ],
   "source": [
    "# Create folder to save the results \n",
    "import os\n",
    "dirname = os.getcwd()\n",
    "print(dirname)\n",
    "data_dir = os.path.join('/acrc/jinmiao/CJM_lab/hoatran/demo_normalization/dataset/dataset12_cell_line/final/')\n",
    "# if not os.path.exists('./results_cellatlas/'): os.makedirs('./results_cellatlas/')\n",
    "\n",
    "if not os.path.exists('./results/'): os.makedirs('./results/')   \n",
    "if not os.path.exists('./results/results_dataset12_cellline/'): os.makedirs('./results/results_dataset12_cellline/')    \n",
    "save_dir = os.path.join(dirname, 'results/results_dataset12_cellline/')\n",
    "\n",
    "# Function to save figure as image in the figures folder\n",
    "save_fig_dir='./figures/dataset12_cellline/'\n",
    "if not os.path.exists('./figures/'): os.makedirs('./figures/')\n",
    "if not os.path.exists(save_fig_dir): os.makedirs(save_fig_dir)\n",
    "def save_images(filename, save_fig_dir):    \n",
    "    outname = save_fig_dir + filename + '.png'\n",
    "    pl.savefig(outname, dpi=150)\n",
    "    pl.close()"
   ]
  },
  {
   "cell_type": "code",
   "execution_count": 4,
   "metadata": {},
   "outputs": [
    {
     "name": "stdout",
     "output_type": "stream",
     "text": [
      "(32738, 2885)\n",
      "Index(['293t_AAACATACAGACTC', '293t_AAACATTGACCAAC'], dtype='object')\n",
      "Index(['FAM138A', 'OR4F5'], dtype='object')\n",
      "(2885, 1)\n",
      "Index(['CellType'], dtype='object')\n",
      "Index(['293t_AAACATACAGACTC', '293t_AAACATTGACCAAC', '293t_AAACATTGAGGCGA',\n",
      "       '293t_AAACATTGGGACTT'],\n",
      "      dtype='object', name='CellId')\n"
     ]
    },
    {
     "name": "stderr",
     "output_type": "stream",
     "text": [
      "... storing 'cell_type' as categorical\n",
      "... storing 'batchlb' as categorical\n"
     ]
    },
    {
     "name": "stdout",
     "output_type": "stream",
     "text": [
      "AnnData object with n_obs × n_vars = 2885 × 32738 \n",
      "    obs: 'cell_type', 'batch', 'batchlb'\n"
     ]
    }
   ],
   "source": [
    "myDataFn1 = 'b1_exprs.txt'\n",
    "mySampleFn1 = 'b1_celltype.txt'\n",
    "batchid1 = 1\n",
    "batchlb1 = 'batch1'\n",
    "savefn1 = 'myRawData1.h5ad'\n",
    "adata1 = load_data(data_dir, myDataFn1, mySampleFn1, batchid1, batchlb1, save_dir, savefn1,saveh5ad=True)"
   ]
  },
  {
   "cell_type": "code",
   "execution_count": 5,
   "metadata": {},
   "outputs": [
    {
     "name": "stdout",
     "output_type": "stream",
     "text": [
      "(32738, 3258)\n",
      "Index(['jurkat_AAACCGTGACCACA', 'jurkat_AAACCGTGCACTTT'], dtype='object')\n",
      "Index(['FAM138A', 'OR4F5'], dtype='object')\n",
      "(3258, 1)\n",
      "Index(['CellType'], dtype='object')\n",
      "Index(['jurkat_AAACCGTGACCACA', 'jurkat_AAACCGTGCACTTT',\n",
      "       'jurkat_AAACCGTGGCGTTA', 'jurkat_AAACCGTGTGAGAA'],\n",
      "      dtype='object', name='CellId')\n"
     ]
    },
    {
     "name": "stderr",
     "output_type": "stream",
     "text": [
      "... storing 'cell_type' as categorical\n",
      "... storing 'batchlb' as categorical\n"
     ]
    },
    {
     "name": "stdout",
     "output_type": "stream",
     "text": [
      "AnnData object with n_obs × n_vars = 3258 × 32738 \n",
      "    obs: 'cell_type', 'batch', 'batchlb'\n"
     ]
    }
   ],
   "source": [
    "myDataFn2 = 'b2_exprs.txt'\n",
    "mySampleFn2 = 'b2_celltype.txt'\n",
    "batchid2 = 2\n",
    "batchlb2 = 'batch2'\n",
    "savefn2 = 'myRawData2.h5ad'\n",
    "adata2 = utils.load_data(data_dir, myDataFn2, mySampleFn2, batchid2, batchlb2, save_dir, savefn2,saveh5ad=True)"
   ]
  },
  {
   "cell_type": "code",
   "execution_count": 6,
   "metadata": {},
   "outputs": [
    {
     "name": "stdout",
     "output_type": "stream",
     "text": [
      "(32738, 3388)\n",
      "Index(['mixed_AAACATTGTAAGGA', 'mixed_AAACCGTGGCGTAT'], dtype='object')\n",
      "Index(['FAM138A', 'OR4F5'], dtype='object')\n",
      "(3388, 1)\n",
      "Index(['CellType'], dtype='object')\n",
      "Index(['mixed_AAACATTGTAAGGA', 'mixed_AAACCGTGGCGTAT', 'mixed_AAACGCACTACTGG',\n",
      "       'mixed_AAACGCTGAAGATG'],\n",
      "      dtype='object', name='CellId')\n"
     ]
    },
    {
     "name": "stderr",
     "output_type": "stream",
     "text": [
      "... storing 'cell_type' as categorical\n",
      "... storing 'batchlb' as categorical\n"
     ]
    },
    {
     "name": "stdout",
     "output_type": "stream",
     "text": [
      "AnnData object with n_obs × n_vars = 3388 × 32738 \n",
      "    obs: 'cell_type', 'batch', 'batchlb'\n"
     ]
    }
   ],
   "source": [
    "myDataFn3 = 'b3_exprs.txt'\n",
    "mySampleFn3 = 'b3_celltype.txt'\n",
    "batchid3 = 3\n",
    "batchlb3 = 'batch3'\n",
    "savefn3 = 'myRawData3.h5ad'\n",
    "adata3 = utils.load_data(data_dir, myDataFn3, mySampleFn3, batchid3, batchlb3, save_dir, savefn3,saveh5ad=True)"
   ]
  },
  {
   "cell_type": "code",
   "execution_count": 7,
   "metadata": {},
   "outputs": [
    {
     "data": {
      "text/plain": [
       "32738"
      ]
     },
     "execution_count": 7,
     "metadata": {},
     "output_type": "execute_result"
    }
   ],
   "source": [
    "sum(adata2.var_names==adata1.var_names)\n",
    "sum(adata2.var_names==adata3.var_names)"
   ]
  },
  {
   "cell_type": "code",
   "execution_count": 8,
   "metadata": {},
   "outputs": [
    {
     "data": {
      "text/plain": [
       "AnnData object with n_obs × n_vars = 9531 × 32738 \n",
       "    obs: 'cell_type', 'batch', 'batchlb'"
      ]
     },
     "execution_count": 8,
     "metadata": {},
     "output_type": "execute_result"
    }
   ],
   "source": [
    "# Combine 2 dataframe to run PCA\n",
    "# adata = sc.AnnData(adata1, adata2, batch_key='batch')\n",
    "# adata\n",
    "adata = sc.AnnData(np.concatenate([adata1.X, adata2.X, adata3.X]))\n",
    "adata.obs_names = adata1.obs_names.tolist() + adata2.obs_names.tolist() + adata3.obs_names.tolist()\n",
    "adata.var_names = adata1.var_names.tolist()\n",
    "adata.obs['cell_type'] = adata1.obs['cell_type'].tolist() + adata2.obs['cell_type'].tolist()+ adata3.obs['cell_type'].tolist()\n",
    "adata.obs['batch'] = adata1.obs['batch'].tolist() + adata2.obs['batch'].tolist() + adata3.obs['batch'].tolist()\n",
    "adata.obs['batchlb'] = adata1.obs['batchlb'].tolist() + adata2.obs['batchlb'].tolist()+ adata3.obs['batchlb'].tolist()\n",
    "adata"
   ]
  },
  {
   "cell_type": "code",
   "execution_count": null,
   "metadata": {},
   "outputs": [],
   "source": [
    "print('blah blah')"
   ]
  },
  {
   "cell_type": "code",
   "execution_count": 9,
   "metadata": {},
   "outputs": [
    {
     "name": "stdout",
     "output_type": "stream",
     "text": [
      "filtered out 16136 genes that are detected in less than 10 cells\n"
     ]
    },
    {
     "data": {
      "text/plain": [
       "AnnData object with n_obs × n_vars = 9531 × 16602 \n",
       "    obs: 'cell_type', 'batch', 'batchlb', 'n_genes'\n",
       "    var: 'n_cells'"
      ]
     },
     "execution_count": 9,
     "metadata": {},
     "output_type": "execute_result"
    }
   ],
   "source": [
    "# Ignore this step for this dataset\n",
    "# Filtering data \n",
    "sc.pp.filter_cells(adata, min_genes=300)\n",
    "sc.pp.filter_genes(adata, min_cells=10)\n",
    "adata"
   ]
  },
  {
   "cell_type": "code",
   "execution_count": 10,
   "metadata": {},
   "outputs": [],
   "source": [
    "# Here authors extract 50 pca vectors to train the network model\n",
    "npcs_train = 50  \n",
    "sc.tl.pca(adata, svd_solver='arpack', n_comps=npcs_train)  # output save to adata.obsm['X_pca']\n",
    "\n",
    "# Raw data visualization\n",
    "# utils.get_tsne_umap_raw(adata, perplex=30, npcs=20)"
   ]
  },
  {
   "cell_type": "code",
   "execution_count": 11,
   "metadata": {},
   "outputs": [
    {
     "name": "stdout",
     "output_type": "stream",
     "text": [
      "AnnData object with n_obs × n_vars = 2885 × 16602 \n",
      "    obs: 'cell_type', 'batch', 'batchlb', 'n_genes'\n",
      "    var: 'n_cells'\n",
      "    uns: 'pca'\n",
      "    obsm: 'X_pca'\n",
      "    varm: 'PCs'\n",
      "AnnData object with n_obs × n_vars = 3258 × 16602 \n",
      "    obs: 'cell_type', 'batch', 'batchlb', 'n_genes'\n",
      "    var: 'n_cells'\n",
      "    uns: 'pca'\n",
      "    obsm: 'X_pca'\n",
      "    varm: 'PCs'\n",
      "AnnData object with n_obs × n_vars = 3388 × 16602 \n",
      "    obs: 'cell_type', 'batch', 'batchlb', 'n_genes'\n",
      "    var: 'n_cells'\n",
      "    uns: 'pca'\n",
      "    obsm: 'X_pca'\n",
      "    varm: 'PCs'\n",
      "50\n"
     ]
    }
   ],
   "source": [
    "# Extract data from batch 1 and batch 2\n",
    "adata1_filtered = adata[adata.obs['batch']==1,:].copy()  # after concatenate, the values change from 1 to 0, 2 to 1\n",
    "print(adata1_filtered)\n",
    "adata2_filtered = adata[adata.obs['batch']==2,:].copy()\n",
    "print(adata2_filtered)\n",
    "adata3_filtered = adata[adata.obs['batch']==3,:].copy()\n",
    "print(adata3_filtered)\n",
    "adata1_filtered.obsm['X_pca'] *= -1 # multiply by -1 to match Seurat, as suggestion from Scanpy\n",
    "adata2_filtered.obsm['X_pca'] *= -1 # multiply by -1 to match Seurat, as suggestion from Scanpy\n",
    "adata3_filtered.obsm['X_pca'] *= -1 # multiply by -1 to match Seurat, as suggestion from Scanpy\n",
    "print(adata2_filtered.obsm['X_pca'].shape[1])"
   ]
  },
  {
   "cell_type": "code",
   "execution_count": 12,
   "metadata": {},
   "outputs": [
    {
     "name": "stderr",
     "output_type": "stream",
     "text": [
      "Using TensorFlow backend.\n"
     ]
    }
   ],
   "source": [
    "import keras.optimizers\n",
    "from keras.layers import Input, Dense, merge, BatchNormalization, Activation\n",
    "from keras.models import Model\n",
    "from keras import callbacks as cb\n",
    "from keras.regularizers import l2\n",
    "from keras.callbacks import LearningRateScheduler\n",
    "import math\n",
    "from keras import backend as K\n",
    "import sklearn.preprocessing as prep\n",
    "from sklearn import decomposition\n",
    "from statsmodels.distributions.empirical_distribution import ECDF\n",
    "from keras import initializers\n",
    "from keras.layers import add\n",
    "from Calibration_Util import CostFunctions as cf  # author func\n",
    "from Calibration_Util import Monitoring as mn     # author func\n",
    "\n"
   ]
  },
  {
   "cell_type": "code",
   "execution_count": 13,
   "metadata": {},
   "outputs": [
    {
     "name": "stdout",
     "output_type": "stream",
     "text": [
      "Create a training model: \n",
      "setting scales using KNN\n",
      "[69.84798333932997, 139.69596667865994, 279.3919333573199]\n",
      "setting all scale weights to 1\n"
     ]
    },
    {
     "data": {
      "image/png": "[encoded data removed]",
      "text/plain": [
       "<Figure size 432x288 with 1 Axes>"
      ]
     },
     "metadata": {
      "needs_background": "light"
     },
     "output_type": "display_data"
    },
    {
     "data": {
      "image/png": "[encoded data removed]",
      "text/plain": [
       "<Figure size 432x288 with 1 Axes>"
      ]
     },
     "metadata": {
      "needs_background": "light"
     },
     "output_type": "display_data"
    },
    {
     "data": {
      "text/plain": [
       "<Figure size 432x288 with 0 Axes>"
      ]
     },
     "metadata": {},
     "output_type": "display_data"
    },
    {
     "data": {
      "text/plain": [
       "<Figure size 432x288 with 0 Axes>"
      ]
     },
     "metadata": {},
     "output_type": "display_data"
    },
    {
     "data": {
      "text/plain": [
       "<Figure size 432x288 with 0 Axes>"
      ]
     },
     "metadata": {},
     "output_type": "display_data"
    },
    {
     "data": {
      "text/plain": [
       "<Figure size 432x288 with 0 Axes>"
      ]
     },
     "metadata": {},
     "output_type": "display_data"
    },
    {
     "data": {
      "text/plain": [
       "<Figure size 432x288 with 0 Axes>"
      ]
     },
     "metadata": {},
     "output_type": "display_data"
    },
    {
     "data": {
      "text/plain": [
       "<Figure size 432x288 with 0 Axes>"
      ]
     },
     "metadata": {},
     "output_type": "display_data"
    },
    {
     "data": {
      "text/plain": [
       "<Figure size 432x288 with 0 Axes>"
      ]
     },
     "metadata": {},
     "output_type": "display_data"
    },
    {
     "data": {
      "text/plain": [
       "<Figure size 432x288 with 0 Axes>"
      ]
     },
     "metadata": {},
     "output_type": "display_data"
    },
    {
     "data": {
      "text/plain": [
       "<Figure size 432x288 with 0 Axes>"
      ]
     },
     "metadata": {},
     "output_type": "display_data"
    },
    {
     "data": {
      "text/plain": [
       "<Figure size 432x288 with 0 Axes>"
      ]
     },
     "metadata": {},
     "output_type": "display_data"
    },
    {
     "data": {
      "text/plain": [
       "<Figure size 432x288 with 0 Axes>"
      ]
     },
     "metadata": {},
     "output_type": "display_data"
    },
    {
     "data": {
      "text/plain": [
       "<Figure size 432x288 with 0 Axes>"
      ]
     },
     "metadata": {},
     "output_type": "display_data"
    },
    {
     "data": {
      "text/plain": [
       "<Figure size 432x288 with 0 Axes>"
      ]
     },
     "metadata": {},
     "output_type": "display_data"
    },
    {
     "data": {
      "text/plain": [
       "<Figure size 432x288 with 0 Axes>"
      ]
     },
     "metadata": {},
     "output_type": "display_data"
    },
    {
     "data": {
      "text/plain": [
       "<Figure size 432x288 with 0 Axes>"
      ]
     },
     "metadata": {},
     "output_type": "display_data"
    },
    {
     "data": {
      "text/plain": [
       "<Figure size 432x288 with 0 Axes>"
      ]
     },
     "metadata": {},
     "output_type": "display_data"
    },
    {
     "data": {
      "text/plain": [
       "<Figure size 432x288 with 0 Axes>"
      ]
     },
     "metadata": {},
     "output_type": "display_data"
    },
    {
     "data": {
      "text/plain": [
       "<Figure size 432x288 with 0 Axes>"
      ]
     },
     "metadata": {},
     "output_type": "display_data"
    },
    {
     "data": {
      "text/plain": [
       "<Figure size 432x288 with 0 Axes>"
      ]
     },
     "metadata": {},
     "output_type": "display_data"
    },
    {
     "data": {
      "text/plain": [
       "<Figure size 432x288 with 0 Axes>"
      ]
     },
     "metadata": {},
     "output_type": "display_data"
    },
    {
     "data": {
      "text/plain": [
       "<Figure size 432x288 with 0 Axes>"
      ]
     },
     "metadata": {},
     "output_type": "display_data"
    },
    {
     "data": {
      "text/plain": [
       "<Figure size 432x288 with 0 Axes>"
      ]
     },
     "metadata": {},
     "output_type": "display_data"
    },
    {
     "data": {
      "text/plain": [
       "<Figure size 432x288 with 0 Axes>"
      ]
     },
     "metadata": {},
     "output_type": "display_data"
    },
    {
     "data": {
      "text/plain": [
       "<Figure size 432x288 with 0 Axes>"
      ]
     },
     "metadata": {},
     "output_type": "display_data"
    },
    {
     "data": {
      "text/plain": [
       "<Figure size 432x288 with 0 Axes>"
      ]
     },
     "metadata": {},
     "output_type": "display_data"
    },
    {
     "data": {
      "text/plain": [
       "<Figure size 432x288 with 0 Axes>"
      ]
     },
     "metadata": {},
     "output_type": "display_data"
    },
    {
     "data": {
      "text/plain": [
       "<Figure size 432x288 with 0 Axes>"
      ]
     },
     "metadata": {},
     "output_type": "display_data"
    },
    {
     "data": {
      "text/plain": [
       "<Figure size 432x288 with 0 Axes>"
      ]
     },
     "metadata": {},
     "output_type": "display_data"
    },
    {
     "data": {
      "text/plain": [
       "<Figure size 432x288 with 0 Axes>"
      ]
     },
     "metadata": {},
     "output_type": "display_data"
    },
    {
     "data": {
      "text/plain": [
       "<Figure size 432x288 with 0 Axes>"
      ]
     },
     "metadata": {},
     "output_type": "display_data"
    },
    {
     "data": {
      "text/plain": [
       "<Figure size 432x288 with 0 Axes>"
      ]
     },
     "metadata": {},
     "output_type": "display_data"
    },
    {
     "data": {
      "text/plain": [
       "<Figure size 432x288 with 0 Axes>"
      ]
     },
     "metadata": {},
     "output_type": "display_data"
    },
    {
     "data": {
      "text/plain": [
       "<Figure size 432x288 with 0 Axes>"
      ]
     },
     "metadata": {},
     "output_type": "display_data"
    },
    {
     "data": {
      "text/plain": [
       "<Figure size 432x288 with 0 Axes>"
      ]
     },
     "metadata": {},
     "output_type": "display_data"
    },
    {
     "data": {
      "text/plain": [
       "<Figure size 432x288 with 0 Axes>"
      ]
     },
     "metadata": {},
     "output_type": "display_data"
    },
    {
     "data": {
      "text/plain": [
       "<Figure size 432x288 with 0 Axes>"
      ]
     },
     "metadata": {},
     "output_type": "display_data"
    },
    {
     "data": {
      "text/plain": [
       "<Figure size 432x288 with 0 Axes>"
      ]
     },
     "metadata": {},
     "output_type": "display_data"
    },
    {
     "data": {
      "text/plain": [
       "<Figure size 432x288 with 0 Axes>"
      ]
     },
     "metadata": {},
     "output_type": "display_data"
    },
    {
     "data": {
      "text/plain": [
       "<Figure size 432x288 with 0 Axes>"
      ]
     },
     "metadata": {},
     "output_type": "display_data"
    },
    {
     "ename": "NameError",
     "evalue": "name 'calibMMDNet' is not defined",
     "output_type": "error",
     "traceback": [
      "\u001b[0;31m---------------------------------------------------------------------------\u001b[0m",
      "\u001b[0;31mNameError\u001b[0m                                 Traceback (most recent call last)",
      "\u001b[0;32m<ipython-input-13-795a926a0f0e>\u001b[0m in \u001b[0;36m<module>\u001b[0;34m\u001b[0m\n\u001b[1;32m      9\u001b[0m \u001b[0mt1\u001b[0m \u001b[0;34m=\u001b[0m \u001b[0mtime\u001b[0m\u001b[0;34m.\u001b[0m\u001b[0mtime\u001b[0m\u001b[0;34m(\u001b[0m\u001b[0;34m)\u001b[0m\u001b[0;34m\u001b[0m\u001b[0;34m\u001b[0m\u001b[0m\n\u001b[1;32m     10\u001b[0m \u001b[0mcalibMMDNet1\u001b[0m\u001b[0;34m,\u001b[0m\u001b[0mblock2_output1\u001b[0m \u001b[0;34m=\u001b[0m \u001b[0mcreateMMDResNetModel\u001b[0m\u001b[0;34m(\u001b[0m\u001b[0mtarget1\u001b[0m\u001b[0;34m,\u001b[0m \u001b[0msource2\u001b[0m\u001b[0;34m,\u001b[0m \u001b[0mspace_dim\u001b[0m\u001b[0;34m,\u001b[0m \u001b[0mbatch_size\u001b[0m\u001b[0;34m,\u001b[0m \u001b[0mpenalty\u001b[0m\u001b[0;34m,\u001b[0m \u001b[0msave_dir\u001b[0m\u001b[0;34m,\u001b[0m \u001b[0mnbeps\u001b[0m\u001b[0;34m,\u001b[0m \u001b[0mval_split\u001b[0m\u001b[0;34m,\u001b[0m \u001b[0msavedfl1\u001b[0m\u001b[0;34m)\u001b[0m\u001b[0;34m\u001b[0m\u001b[0;34m\u001b[0m\u001b[0m\n\u001b[0;32m---> 11\u001b[0;31m \u001b[0mafterCalib2\u001b[0m \u001b[0;34m=\u001b[0m \u001b[0mcalibMMDNet\u001b[0m\u001b[0;34m.\u001b[0m\u001b[0mpredict\u001b[0m\u001b[0;34m(\u001b[0m\u001b[0msource2\u001b[0m\u001b[0;34m)\u001b[0m   \u001b[0;31m# align, calibrate source data to target data\u001b[0m\u001b[0;34m\u001b[0m\u001b[0;34m\u001b[0m\u001b[0m\n\u001b[0m\u001b[1;32m     12\u001b[0m \u001b[0mprint\u001b[0m\u001b[0;34m(\u001b[0m\u001b[0mafterCalib2\u001b[0m\u001b[0;34m.\u001b[0m\u001b[0mshape\u001b[0m\u001b[0;34m)\u001b[0m\u001b[0;34m\u001b[0m\u001b[0;34m\u001b[0m\u001b[0m\n\u001b[1;32m     13\u001b[0m \u001b[0mt2\u001b[0m \u001b[0;34m=\u001b[0m \u001b[0mtime\u001b[0m\u001b[0;34m.\u001b[0m\u001b[0mtime\u001b[0m\u001b[0;34m(\u001b[0m\u001b[0;34m)\u001b[0m\u001b[0;34m\u001b[0m\u001b[0;34m\u001b[0m\u001b[0m\n",
      "\u001b[0;31mNameError\u001b[0m: name 'calibMMDNet' is not defined"
     ]
    }
   ],
   "source": [
    "target1 = adata1_filtered.obsm['X_pca']\n",
    "source2 = adata2_filtered.obsm['X_pca']\n",
    "space_dim = 50\n",
    "batch_size = 50\n",
    "penalty = 1e-2\n",
    "nbeps = 20\n",
    "val_split = 0.1\n",
    "savedfl1 = 'resnet_d12_target1_source2'\n",
    "t1 = time.time()\n",
    "calibMMDNet1,block2_output1 = utils.createMMDResNetModel(target1, source2, space_dim, batch_size, penalty, save_dir, nbeps, val_split, savedfl1)\n"
   ]
  },
  {
   "cell_type": "code",
   "execution_count": 15,
   "metadata": {},
   "outputs": [
    {
     "name": "stdout",
     "output_type": "stream",
     "text": [
      "(3258, 50)\n",
      "Took 0:11:59.983964\n"
     ]
    }
   ],
   "source": [
    "afterCalib2 = calibMMDNet1.predict(source2)   # align, calibrate source data to target data\n",
    "print(afterCalib2.shape)\n",
    "t2 = time.time()\n",
    "# t2 = t3\n",
    "print('Took '+str(timedelta(seconds=t2-t1)))"
   ]
  },
  {
   "cell_type": "code",
   "execution_count": 14,
   "metadata": {},
   "outputs": [
    {
     "name": "stdout",
     "output_type": "stream",
     "text": [
      "Create a training model: \n",
      "setting scales using KNN\n",
      "[69.6578539862883, 139.3157079725766, 278.6314159451532]\n",
      "setting all scale weights to 1\n"
     ]
    },
    {
     "data": {
      "image/png": "[encoded data removed]",
      "text/plain": [
       "<Figure size 432x288 with 1 Axes>"
      ]
     },
     "metadata": {
      "needs_background": "light"
     },
     "output_type": "display_data"
    },
    {
     "data": {
      "image/png": "[encoded data removed]",
      "text/plain": [
       "<Figure size 432x288 with 1 Axes>"
      ]
     },
     "metadata": {
      "needs_background": "light"
     },
     "output_type": "display_data"
    },
    {
     "data": {
      "text/plain": [
       "<Figure size 432x288 with 0 Axes>"
      ]
     },
     "metadata": {},
     "output_type": "display_data"
    },
    {
     "data": {
      "text/plain": [
       "<Figure size 432x288 with 0 Axes>"
      ]
     },
     "metadata": {},
     "output_type": "display_data"
    },
    {
     "data": {
      "text/plain": [
       "<Figure size 432x288 with 0 Axes>"
      ]
     },
     "metadata": {},
     "output_type": "display_data"
    },
    {
     "data": {
      "text/plain": [
       "<Figure size 432x288 with 0 Axes>"
      ]
     },
     "metadata": {},
     "output_type": "display_data"
    },
    {
     "data": {
      "text/plain": [
       "<Figure size 432x288 with 0 Axes>"
      ]
     },
     "metadata": {},
     "output_type": "display_data"
    },
    {
     "data": {
      "text/plain": [
       "<Figure size 432x288 with 0 Axes>"
      ]
     },
     "metadata": {},
     "output_type": "display_data"
    },
    {
     "data": {
      "text/plain": [
       "<Figure size 432x288 with 0 Axes>"
      ]
     },
     "metadata": {},
     "output_type": "display_data"
    },
    {
     "data": {
      "text/plain": [
       "<Figure size 432x288 with 0 Axes>"
      ]
     },
     "metadata": {},
     "output_type": "display_data"
    },
    {
     "data": {
      "text/plain": [
       "<Figure size 432x288 with 0 Axes>"
      ]
     },
     "metadata": {},
     "output_type": "display_data"
    },
    {
     "data": {
      "text/plain": [
       "<Figure size 432x288 with 0 Axes>"
      ]
     },
     "metadata": {},
     "output_type": "display_data"
    },
    {
     "data": {
      "text/plain": [
       "<Figure size 432x288 with 0 Axes>"
      ]
     },
     "metadata": {},
     "output_type": "display_data"
    },
    {
     "data": {
      "text/plain": [
       "<Figure size 432x288 with 0 Axes>"
      ]
     },
     "metadata": {},
     "output_type": "display_data"
    },
    {
     "data": {
      "text/plain": [
       "<Figure size 432x288 with 0 Axes>"
      ]
     },
     "metadata": {},
     "output_type": "display_data"
    },
    {
     "data": {
      "text/plain": [
       "<Figure size 432x288 with 0 Axes>"
      ]
     },
     "metadata": {},
     "output_type": "display_data"
    },
    {
     "data": {
      "text/plain": [
       "<Figure size 432x288 with 0 Axes>"
      ]
     },
     "metadata": {},
     "output_type": "display_data"
    },
    {
     "data": {
      "text/plain": [
       "<Figure size 432x288 with 0 Axes>"
      ]
     },
     "metadata": {},
     "output_type": "display_data"
    },
    {
     "data": {
      "text/plain": [
       "<Figure size 432x288 with 0 Axes>"
      ]
     },
     "metadata": {},
     "output_type": "display_data"
    },
    {
     "data": {
      "text/plain": [
       "<Figure size 432x288 with 0 Axes>"
      ]
     },
     "metadata": {},
     "output_type": "display_data"
    },
    {
     "data": {
      "text/plain": [
       "<Figure size 432x288 with 0 Axes>"
      ]
     },
     "metadata": {},
     "output_type": "display_data"
    },
    {
     "data": {
      "text/plain": [
       "<Figure size 432x288 with 0 Axes>"
      ]
     },
     "metadata": {},
     "output_type": "display_data"
    },
    {
     "data": {
      "text/plain": [
       "<Figure size 432x288 with 0 Axes>"
      ]
     },
     "metadata": {},
     "output_type": "display_data"
    },
    {
     "data": {
      "text/plain": [
       "<Figure size 432x288 with 0 Axes>"
      ]
     },
     "metadata": {},
     "output_type": "display_data"
    },
    {
     "data": {
      "text/plain": [
       "<Figure size 432x288 with 0 Axes>"
      ]
     },
     "metadata": {},
     "output_type": "display_data"
    },
    {
     "data": {
      "text/plain": [
       "<Figure size 432x288 with 0 Axes>"
      ]
     },
     "metadata": {},
     "output_type": "display_data"
    },
    {
     "data": {
      "text/plain": [
       "<Figure size 432x288 with 0 Axes>"
      ]
     },
     "metadata": {},
     "output_type": "display_data"
    },
    {
     "data": {
      "text/plain": [
       "<Figure size 432x288 with 0 Axes>"
      ]
     },
     "metadata": {},
     "output_type": "display_data"
    },
    {
     "data": {
      "text/plain": [
       "<Figure size 432x288 with 0 Axes>"
      ]
     },
     "metadata": {},
     "output_type": "display_data"
    },
    {
     "data": {
      "text/plain": [
       "<Figure size 432x288 with 0 Axes>"
      ]
     },
     "metadata": {},
     "output_type": "display_data"
    },
    {
     "data": {
      "text/plain": [
       "<Figure size 432x288 with 0 Axes>"
      ]
     },
     "metadata": {},
     "output_type": "display_data"
    },
    {
     "data": {
      "text/plain": [
       "<Figure size 432x288 with 0 Axes>"
      ]
     },
     "metadata": {},
     "output_type": "display_data"
    },
    {
     "data": {
      "text/plain": [
       "<Figure size 432x288 with 0 Axes>"
      ]
     },
     "metadata": {},
     "output_type": "display_data"
    },
    {
     "data": {
      "text/plain": [
       "<Figure size 432x288 with 0 Axes>"
      ]
     },
     "metadata": {},
     "output_type": "display_data"
    },
    {
     "data": {
      "text/plain": [
       "<Figure size 432x288 with 0 Axes>"
      ]
     },
     "metadata": {},
     "output_type": "display_data"
    },
    {
     "data": {
      "text/plain": [
       "<Figure size 432x288 with 0 Axes>"
      ]
     },
     "metadata": {},
     "output_type": "display_data"
    },
    {
     "data": {
      "text/plain": [
       "<Figure size 432x288 with 0 Axes>"
      ]
     },
     "metadata": {},
     "output_type": "display_data"
    },
    {
     "data": {
      "text/plain": [
       "<Figure size 432x288 with 0 Axes>"
      ]
     },
     "metadata": {},
     "output_type": "display_data"
    },
    {
     "data": {
      "text/plain": [
       "<Figure size 432x288 with 0 Axes>"
      ]
     },
     "metadata": {},
     "output_type": "display_data"
    },
    {
     "data": {
      "text/plain": [
       "<Figure size 432x288 with 0 Axes>"
      ]
     },
     "metadata": {},
     "output_type": "display_data"
    },
    {
     "data": {
      "text/plain": [
       "<Figure size 432x288 with 0 Axes>"
      ]
     },
     "metadata": {},
     "output_type": "display_data"
    },
    {
     "ename": "NameError",
     "evalue": "name 'calibMMDNet' is not defined",
     "output_type": "error",
     "traceback": [
      "\u001b[0;31m---------------------------------------------------------------------------\u001b[0m",
      "\u001b[0;31mNameError\u001b[0m                                 Traceback (most recent call last)",
      "\u001b[0;32m<ipython-input-14-6ae7b5432cf7>\u001b[0m in \u001b[0;36m<module>\u001b[0;34m\u001b[0m\n\u001b[1;32m      4\u001b[0m \u001b[0mt3\u001b[0m \u001b[0;34m=\u001b[0m \u001b[0mtime\u001b[0m\u001b[0;34m.\u001b[0m\u001b[0mtime\u001b[0m\u001b[0;34m(\u001b[0m\u001b[0;34m)\u001b[0m\u001b[0;34m\u001b[0m\u001b[0;34m\u001b[0m\u001b[0m\n\u001b[1;32m      5\u001b[0m \u001b[0mcalibMMDNet2\u001b[0m\u001b[0;34m,\u001b[0m\u001b[0mblock2_output2\u001b[0m \u001b[0;34m=\u001b[0m \u001b[0mcreateMMDResNetModel\u001b[0m\u001b[0;34m(\u001b[0m\u001b[0mtarget1\u001b[0m\u001b[0;34m,\u001b[0m \u001b[0msource3\u001b[0m\u001b[0;34m,\u001b[0m \u001b[0mspace_dim\u001b[0m\u001b[0;34m,\u001b[0m \u001b[0mbatch_size\u001b[0m\u001b[0;34m,\u001b[0m \u001b[0mpenalty\u001b[0m\u001b[0;34m,\u001b[0m \u001b[0msave_dir\u001b[0m\u001b[0;34m,\u001b[0m \u001b[0mnbeps\u001b[0m\u001b[0;34m,\u001b[0m \u001b[0mval_split\u001b[0m\u001b[0;34m,\u001b[0m \u001b[0msavedfl2\u001b[0m\u001b[0;34m)\u001b[0m\u001b[0;34m\u001b[0m\u001b[0;34m\u001b[0m\u001b[0m\n\u001b[0;32m----> 6\u001b[0;31m \u001b[0mafterCalib3\u001b[0m \u001b[0;34m=\u001b[0m \u001b[0mcalibMMDNet\u001b[0m\u001b[0;34m.\u001b[0m\u001b[0mpredict\u001b[0m\u001b[0;34m(\u001b[0m\u001b[0msource3\u001b[0m\u001b[0;34m)\u001b[0m   \u001b[0;31m# align, calibrate source data to target data\u001b[0m\u001b[0;34m\u001b[0m\u001b[0;34m\u001b[0m\u001b[0m\n\u001b[0m\u001b[1;32m      7\u001b[0m \u001b[0mprint\u001b[0m\u001b[0;34m(\u001b[0m\u001b[0mafterCalib3\u001b[0m\u001b[0;34m.\u001b[0m\u001b[0mshape\u001b[0m\u001b[0;34m)\u001b[0m\u001b[0;34m\u001b[0m\u001b[0;34m\u001b[0m\u001b[0m\n\u001b[1;32m      8\u001b[0m \u001b[0mt4\u001b[0m \u001b[0;34m=\u001b[0m \u001b[0mtime\u001b[0m\u001b[0;34m.\u001b[0m\u001b[0mtime\u001b[0m\u001b[0;34m(\u001b[0m\u001b[0;34m)\u001b[0m\u001b[0;34m\u001b[0m\u001b[0;34m\u001b[0m\u001b[0m\n",
      "\u001b[0;31mNameError\u001b[0m: name 'calibMMDNet' is not defined"
     ]
    }
   ],
   "source": [
    "# target1 = adata1.obsm['X_pca']\n",
    "source3 = adata3_filtered.obsm['X_pca']\n",
    "savedfl2 = 'resnet_d12_target1_source3'\n",
    "t3 = time.time()\n",
    "calibMMDNet2,block2_output2 = utils.createMMDResNetModel(target1, source3, space_dim, batch_size, penalty, save_dir, nbeps, val_split, savedfl2)\n",
    "afterCalib3 = calibMMDNet2.predict(source3)   # align, calibrate source data to target data\n",
    "print(afterCalib3.shape)\n",
    "t4 = time.time()\n",
    "print('Took '+str(timedelta(seconds=t4-t3)))"
   ]
  },
  {
   "cell_type": "code",
   "execution_count": 16,
   "metadata": {},
   "outputs": [
    {
     "name": "stdout",
     "output_type": "stream",
     "text": [
      "(3388, 50)\n"
     ]
    }
   ],
   "source": [
    "afterCalib3 = calibMMDNet2.predict(source3)   # align, calibrate source data to target data\n",
    "print(afterCalib3.shape)"
   ]
  },
  {
   "cell_type": "code",
   "execution_count": 18,
   "metadata": {},
   "outputs": [],
   "source": [
    "import matplotlib.pyplot as plt\n",
    "from matplotlib.ticker import NullFormatter\n",
    "# Plot distribution, see the change after train and predict source data, compared to target data\n",
    "# from Calibration_Util import ScatterDemo as sd\n",
    "\n",
    "save_file_bf2 = os.path.join(save_fig_dir,'d12_distribution_before_target1_source2.png')\n",
    "save_file_af2 = os.path.join(save_fig_dir, 'd12_distribution_after_target1_source2.png')\n",
    "\n",
    "save_file_bf3 = os.path.join(save_fig_dir,'d12_distribution_before_target1_source3.png')\n",
    "save_file_af3 = os.path.join(save_fig_dir, 'd12_distribution_after_target1_source3.png')\n",
    "# The PCs most correlated with the batch are {1 and 2} or {3 and 5}\n",
    "pc1 = 0\n",
    "pc2 = 1\n",
    "utils.myScatterHistDemo(target1[:,pc1], target1[:,pc2], source2[:,pc1], source2[:,pc2],save_file_bf2)\n",
    "utils.myScatterHistDemo(target1[:,pc1], target1[:,pc2], afterCalib2[:,pc1], afterCalib2[:,pc2],save_file_af2)\n",
    "utils.myScatterHistDemo(target1[:,pc1], target1[:,pc2], source3[:,pc1], source3[:,pc2],save_file_bf3)\n",
    "utils.myScatterHistDemo(target1[:,pc1], target1[:,pc2], afterCalib3[:,pc1], afterCalib3[:,pc2],save_file_af3)"
   ]
  },
  {
   "cell_type": "code",
   "execution_count": 19,
   "metadata": {},
   "outputs": [
    {
     "name": "stdout",
     "output_type": "stream",
     "text": [
      "setting scales using KNN\n",
      "[69.96168118447918, 139.92336236895835, 279.8467247379167]\n",
      "setting all scale weights to 1\n",
      "setting scales using KNN\n",
      "[69.84580204420055, 139.6916040884011, 279.3832081768022]\n",
      "setting all scale weights to 1\n",
      "MMD before calibration: 1.2197238\n",
      "MMD after calibration: 1.1201022\n"
     ]
    }
   ],
   "source": [
    "## quantitative evaluation: MMD ###\n",
    "# MMD with the scales used for training \n",
    "# Compute Maximum Mean Discrepancy Distance \n",
    "# between source data- before correction, source data-after correction, target data and Ground Truth - filter data, one layer in network \n",
    "# If MMD distance is smaller --> 2 distributions are shift closer, less of batch effect \n",
    "# If MMD distance is not many different --> this method can not remove batch effect\n",
    "sourceInds = np.random.randint(low=0, high = source2.shape[0], size = 1000)\n",
    "targetInds = np.random.randint(low=0, high = target1.shape[0], size = 1000)\n",
    "mmd_before = K.eval(cf.MMD(block2_output1,target1).cost(K.variable(value=source2[sourceInds]), K.variable(value=target1[targetInds])))\n",
    "mmd_after = K.eval(cf.MMD(block2_output1,target1).cost(K.variable(value=afterCalib2[sourceInds]), K.variable(value=target1[targetInds])))\n",
    "print('MMD before calibration: ' + str(mmd_before))\n",
    "print('MMD after calibration: ' + str(mmd_after))"
   ]
  },
  {
   "cell_type": "code",
   "execution_count": 20,
   "metadata": {},
   "outputs": [
    {
     "name": "stdout",
     "output_type": "stream",
     "text": [
      "setting scales using KNN\n",
      "[70.06647201590249, 140.13294403180498, 280.26588806360996]\n",
      "setting all scale weights to 1\n",
      "setting scales using KNN\n",
      "[70.23707755442817, 140.47415510885634, 280.9483102177127]\n",
      "setting all scale weights to 1\n",
      "MMD before calibration: 0.743351\n",
      "MMD after calibration: 0.5805071\n"
     ]
    }
   ],
   "source": [
    "sourceInds = np.random.randint(low=0, high = source3.shape[0], size = 1000)\n",
    "targetInds = np.random.randint(low=0, high = target1.shape[0], size = 1000)\n",
    "mmd_before = K.eval(cf.MMD(block2_output2,target1).cost(K.variable(value=source3[sourceInds]), K.variable(value=target1[targetInds])))\n",
    "mmd_after = K.eval(cf.MMD(block2_output2,target1).cost(K.variable(value=afterCalib3[sourceInds]), K.variable(value=target1[targetInds])))\n",
    "print('MMD before calibration: ' + str(mmd_before))\n",
    "print('MMD after calibration: ' + str(mmd_after))"
   ]
  },
  {
   "cell_type": "code",
   "execution_count": 22,
   "metadata": {},
   "outputs": [
    {
     "name": "stdout",
     "output_type": "stream",
     "text": [
      "(2885, 50)\n",
      "(3258, 50)\n",
      "(3388, 50)\n",
      "AnnData object with n_obs × n_vars = 2885 × 16602 \n",
      "    obs: 'cell_type', 'batch', 'batchlb', 'n_genes'\n",
      "    var: 'n_cells'\n",
      "    uns: 'pca'\n",
      "    obsm: 'X_pca'\n",
      "    varm: 'PCs'\n",
      "AnnData object with n_obs × n_vars = 3258 × 16602 \n",
      "    obs: 'cell_type', 'batch', 'batchlb', 'n_genes'\n",
      "    var: 'n_cells'\n",
      "    uns: 'pca'\n",
      "    obsm: 'X_pca'\n",
      "    varm: 'PCs'\n",
      "AnnData object with n_obs × n_vars = 3388 × 16602 \n",
      "    obs: 'cell_type', 'batch', 'batchlb', 'n_genes'\n",
      "    var: 'n_cells'\n",
      "    uns: 'pca'\n",
      "    obsm: 'X_pca'\n",
      "    varm: 'PCs'\n",
      "computing neighbors\n",
      "    using 'X_pca' with n_pcs = 20\n",
      "    finished (0:00:14.15) --> added to `.uns['neighbors']`\n",
      "    'distances', distances for each pair of neighbors\n",
      "    'connectivities', weighted adjacency matrix\n",
      "computing tSNE\n",
      "    using 'X_pca' with n_pcs = 20\n",
      "    using the 'MulticoreTSNE' package by Ulyanov (2017)\n",
      "    finished (0:01:06.60) --> added\n",
      "    'X_tsne', tSNE coordinates (adata.obsm)\n",
      "computing UMAP\n",
      "    finished (0:00:31.78) --> added\n",
      "    'X_umap', UMAP coordinates (adata.obsm)\n",
      "AnnData object with n_obs × n_vars = 9531 × 16602 \n",
      "    obs: 'cell_type', 'batch', 'batchlb', 'n_genes'\n",
      "    var: 'n_cells'\n",
      "    uns: 'pca', 'neighbors'\n",
      "    obsm: 'X_pca', 'X_tsne', 'X_umap'\n",
      "    varm: 'PCs'\n"
     ]
    }
   ],
   "source": [
    "print(target1.shape)  #adata1\n",
    "print(afterCalib2.shape) # adata2, output of prediction\n",
    "print(afterCalib3.shape) # adata2, output of prediction\n",
    "adata1_filtered.obsm['X_pca'] = target1\n",
    "adata2_filtered.obsm['X_pca'] = afterCalib2\n",
    "adata3_filtered.obsm['X_pca'] = afterCalib3\n",
    "print(adata1_filtered)\n",
    "print(adata2_filtered)\n",
    "print(adata3_filtered)\n",
    "pca_corrected = np.concatenate([target1,afterCalib2,afterCalib3])\n",
    "adata.obsm['X_pca'] = pca_corrected\n",
    "npcs = 20  # our pre-defined\n",
    "perplex = 30  # our pre-defined\n",
    "sc.pp.neighbors(adata,n_neighbors=15, n_pcs=npcs)\n",
    "sc.tl.tsne(adata, random_state=0, n_pcs=npcs, perplexity=perplex)\n",
    "sc.tl.umap(adata)\n",
    "print(adata)\n"
   ]
  },
  {
   "cell_type": "code",
   "execution_count": 25,
   "metadata": {},
   "outputs": [
    {
     "name": "stderr",
     "output_type": "stream",
     "text": [
      "... storing 'batchlb' as categorical\n"
     ]
    }
   ],
   "source": [
    "adata.obs['batchlb'] = adata1.obs['batchlb'].tolist() + adata2.obs['batchlb'].tolist()+ adata3.obs['batchlb'].tolist()\n",
    "color_group = [\"batchlb\",\"cell_type\"]\n",
    "sc.pl.tsne(adata, color = color_group, show=False, wspace=.3)\n",
    "save_images('resnet_tsne_corrected',save_fig_dir) \n",
    "\n",
    "sc.pl.umap(adata, color = color_group, show=False)\n",
    "save_images('resnet_umap_corrected',save_fig_dir)"
   ]
  },
  {
   "cell_type": "code",
   "execution_count": 26,
   "metadata": {},
   "outputs": [
    {
     "name": "stdout",
     "output_type": "stream",
     "text": [
      "/acrc/jinmiao/CJM_lab/hoatran/demo_normalization/demo_ResNet/resnet/results/results_dataset12_cellline/\n"
     ]
    }
   ],
   "source": [
    "print(save_dir)\n",
    "adata.write_h5ad(os.path.join(save_dir,'resnet_pca_corrected.h5ad'))"
   ]
  },
  {
   "cell_type": "code",
   "execution_count": 27,
   "metadata": {},
   "outputs": [
    {
     "name": "stdout",
     "output_type": "stream",
     "text": [
      "AnnData object with n_obs × n_vars = 9531 × 16602 \n",
      "    obs: 'cell_type', 'batch', 'batchlb', 'n_genes'\n",
      "    var: 'n_cells'\n",
      "    uns: 'pca', 'neighbors', 'batchlb_colors', 'cell_type_colors'\n",
      "    obsm: 'X_pca', 'X_tsne', 'X_umap'\n",
      "    varm: 'PCs'\n"
     ]
    }
   ],
   "source": [
    "# Save output of umap for visualization\n",
    "import pandas as pd\n",
    "print(adata)\n",
    "# pca_corrected\n",
    "utils.save_output_txt(adata, save_dir)"
   ]
  },
  {
   "cell_type": "code",
   "execution_count": 30,
   "metadata": {},
   "outputs": [
    {
     "name": "stdout",
     "output_type": "stream",
     "text": [
      "Took seconds: 0:38:18\n",
      "Took minutes: (38.0, 17.79325270652771)\n",
      "Took hours_minutes_seconds:  0.0 38.0 17.79325270652771\n",
      "               use_case exetime_secs exetimehours exetimemins exetimesecs\n",
      "exetime  resnet_exetime         2298          0.0        38.0          18\n"
     ]
    }
   ],
   "source": [
    "# Save execution time to file for evaluation\n",
    "# Evaluation runtime of main batch effect removal function\n",
    "filename = 'resnet_exetime.csv'\n",
    "usecase_name = 'resnet_exetime' \n",
    "utils.getExecutionTime(t1, t2, save_dir, usecase_name, filename)  # t1: start time, t2: end time       "
   ]
  },
  {
   "cell_type": "code",
   "execution_count": null,
   "metadata": {},
   "outputs": [],
   "source": []
  }
 ],
 "metadata": {
  "kernelspec": {
   "display_name": "Python 3",
   "language": "python",
   "name": "python3"
  },
  "language_info": {
   "codemirror_mode": {
    "name": "ipython",
    "version": 3
   },
   "file_extension": ".py",
   "mimetype": "text/x-python",
   "name": "python",
   "nbconvert_exporter": "python",
   "pygments_lexer": "ipython3",
   "version": "3.6.7"
  }
 },
 "nbformat": 4,
 "nbformat_minor": 2
}
