{
 "cells": [
  {
   "cell_type": "code",
   "execution_count": 57,
   "metadata": {},
   "outputs": [
    {
     "name": "stdout",
     "output_type": "stream",
     "text": [
      "scanpy==1.4+18.gaabe446 anndata==0.6.17 numpy==1.15.4 scipy==1.1.0 pandas==0.23.4 scikit-learn==0.20.2 statsmodels==0.9.0 python-igraph==0.7.1 louvain==0.6.1 \n"
     ]
    }
   ],
   "source": [
    "# Residual Network for batch effect correction\n",
    "# See more at: https://github.com/ushaham/BatchEffectRemoval\n",
    "# Hoa Tran\n",
    "# Update code from python version 2 to python version 3, Keras\n",
    "import numpy as np\n",
    "import pandas as pd\n",
    "import matplotlib.pyplot as pl\n",
    "from matplotlib import rcParams\n",
    "import time\n",
    "from datetime import timedelta\n",
    "import scanpy as sc\n",
    "from Calibration_Util import utils_resnet as utils     # our func\n",
    "sc.settings.verbosity = 3  # verbosity: errors (0), warnings (1), info (2), hints (3)\n",
    "sc.logging.print_versions()"
   ]
  },
  {
   "cell_type": "code",
   "execution_count": 58,
   "metadata": {},
   "outputs": [
    {
     "name": "stdout",
     "output_type": "stream",
     "text": [
      "/acrc/jinmiao/CJM_lab/hoatran/demo_normalization/demo_ResNet/resnet\n"
     ]
    }
   ],
   "source": [
    "# Create folder to save the results \n",
    "import os\n",
    "dirname = os.getcwd()\n",
    "print(dirname)\n",
    "data_dir = os.path.join('/home/hoa/hoatran/demo_normalization/dataset/dataset4_human_pancreatic/filter_data_Hoa/')\n",
    "# if not os.path.exists('./results_cellatlas/'): os.makedirs('./results_cellatlas/')\n",
    "\n",
    "if not os.path.exists('./results/'): os.makedirs('./results/')   \n",
    "if not os.path.exists('./results/results_dataset4_pancreatic/'): os.makedirs('./results/results_dataset4_pancreatic/')    \n",
    "save_dir = os.path.join(dirname, 'results/results_dataset4_pancreatic/')\n",
    "\n",
    "# Function to save figure as image in the figures folder\n",
    "save_fig_dir='./figures/dataset4_pancreatic/'\n",
    "if not os.path.exists('./figures/'): os.makedirs('./figures/')\n",
    "if not os.path.exists(save_fig_dir): os.makedirs(save_fig_dir)\n",
    "def save_images(filename, save_fig_dir):    \n",
    "    outname = save_fig_dir + filename + '.png'\n",
    "    pl.savefig(outname, dpi=150)\n",
    "    pl.close()"
   ]
  },
  {
   "cell_type": "code",
   "execution_count": 60,
   "metadata": {},
   "outputs": [],
   "source": [
    "myDataFn = 'myData_pancreatic_5batches.txt'\n",
    "mySampleFn = 'mySample_pancreatic_5batches.txt'\n",
    "savefn = 'myRawData1.h5ad'\n",
    "adata = utils.load_data(data_dir, myDataFn, mySampleFn, save_dir, savefn,saveh5ad=True)"
   ]
  },
  {
   "cell_type": "code",
   "execution_count": 62,
   "metadata": {},
   "outputs": [
    {
     "name": "stdout",
     "output_type": "stream",
     "text": [
      "Read and filter data\n"
     ]
    }
   ],
   "source": [
    "print('Read and filter data')\n",
    "savefn = 'myRawData1.h5ad'\n",
    "adata = sc.read_h5ad(os.path.join(save_dir,savefn))\n"
   ]
  },
  {
   "cell_type": "code",
   "execution_count": 68,
   "metadata": {},
   "outputs": [
    {
     "data": {
      "text/plain": [
       "AnnData object with n_obs × n_vars = 14767 × 15558 \n",
       "    obs: 'cell_type', 'batch', 'batchlb', 'n_genes', 'n_counts'\n",
       "    var: 'n_cells'"
      ]
     },
     "execution_count": 68,
     "metadata": {},
     "output_type": "execute_result"
    }
   ],
   "source": [
    "# Ignore this step for this dataset\n",
    "# Filtering data \n",
    "adata\n",
    "sc.pp.filter_cells(adata, min_genes=300)\n",
    "sc.pp.filter_genes(adata, min_cells=10)\n",
    "sc.pp.log1p(adata)\n",
    "sc.pp.normalize_per_cell(adata, counts_per_cell_after=1e4)\n",
    "adata"
   ]
  },
  {
   "cell_type": "code",
   "execution_count": 69,
   "metadata": {},
   "outputs": [
    {
     "name": "stdout",
     "output_type": "stream",
     "text": [
      "computing neighbors\n",
      "    using 'X_pca' with n_pcs = 20\n",
      "    finished (0:00:10.60) --> added to `.uns['neighbors']`\n",
      "    'distances', distances for each pair of neighbors\n",
      "    'connectivities', weighted adjacency matrix\n",
      "computing tSNE\n",
      "    using 'X_pca' with n_pcs = 20\n",
      "    using the 'MulticoreTSNE' package by Ulyanov (2017)\n",
      "    finished (0:01:44.96) --> added\n",
      "    'X_tsne', tSNE coordinates (adata.obsm)\n",
      "computing UMAP\n",
      "    finished (0:00:19.02) --> added\n",
      "    'X_umap', UMAP coordinates (adata.obsm)\n"
     ]
    },
    {
     "data": {
      "text/plain": [
       "AnnData object with n_obs × n_vars = 14767 × 15558 \n",
       "    obs: 'cell_type', 'batch', 'batchlb', 'n_genes', 'n_counts'\n",
       "    var: 'n_cells'\n",
       "    uns: 'pca', 'neighbors', 'batchlb_colors', 'cell_type_colors'\n",
       "    obsm: 'X_pca', 'X_tsne', 'X_umap'\n",
       "    varm: 'PCs'"
      ]
     },
     "execution_count": 69,
     "metadata": {},
     "output_type": "execute_result"
    }
   ],
   "source": [
    "# Here authors extract 50 pca vectors to train the network model\n",
    "npcs_train = 50  \n",
    "sc.tl.pca(adata, svd_solver='arpack', n_comps=npcs_train)  # output save to adata.obsm['X_pca']\n",
    "\n",
    "# Raw data visualization\n",
    "utils.get_tsne_umap_raw(adata, perplex=30, npcs=20)"
   ]
  },
  {
   "cell_type": "code",
   "execution_count": 70,
   "metadata": {},
   "outputs": [
    {
     "name": "stdout",
     "output_type": "stream",
     "text": [
      "AnnData object with n_obs × n_vars = 8569 × 15558 \n",
      "    obs: 'cell_type', 'batch', 'batchlb', 'n_genes', 'n_counts'\n",
      "    var: 'n_cells'\n",
      "    uns: 'pca', 'neighbors', 'batchlb_colors', 'cell_type_colors'\n",
      "    obsm: 'X_pca', 'X_tsne', 'X_umap'\n",
      "    varm: 'PCs'\n",
      "AnnData object with n_obs × n_vars = 2122 × 15558 \n",
      "    obs: 'cell_type', 'batch', 'batchlb', 'n_genes', 'n_counts'\n",
      "    var: 'n_cells'\n",
      "    uns: 'pca', 'neighbors', 'batchlb_colors', 'cell_type_colors'\n",
      "    obsm: 'X_pca', 'X_tsne', 'X_umap'\n",
      "    varm: 'PCs'\n",
      "AnnData object with n_obs × n_vars = 2127 × 15558 \n",
      "    obs: 'cell_type', 'batch', 'batchlb', 'n_genes', 'n_counts'\n",
      "    var: 'n_cells'\n",
      "    uns: 'pca', 'neighbors', 'batchlb_colors', 'cell_type_colors'\n",
      "    obsm: 'X_pca', 'X_tsne', 'X_umap'\n",
      "    varm: 'PCs'\n",
      "AnnData object with n_obs × n_vars = 457 × 15558 \n",
      "    obs: 'cell_type', 'batch', 'batchlb', 'n_genes', 'n_counts'\n",
      "    var: 'n_cells'\n",
      "    uns: 'pca', 'neighbors', 'batchlb_colors', 'cell_type_colors'\n",
      "    obsm: 'X_pca', 'X_tsne', 'X_umap'\n",
      "    varm: 'PCs'\n",
      "AnnData object with n_obs × n_vars = 1492 × 15558 \n",
      "    obs: 'cell_type', 'batch', 'batchlb', 'n_genes', 'n_counts'\n",
      "    var: 'n_cells'\n",
      "    uns: 'pca', 'neighbors', 'batchlb_colors', 'cell_type_colors'\n",
      "    obsm: 'X_pca', 'X_tsne', 'X_umap'\n",
      "    varm: 'PCs'\n",
      "50\n"
     ]
    }
   ],
   "source": [
    "# Extract data from batch 1 and batch 2\n",
    "adata1_filtered = adata[adata.obs['batch']==1,:].copy()  # after concatenate, the values change from 1 to 0, 2 to 1\n",
    "print(adata1_filtered)\n",
    "adata2_filtered = adata[adata.obs['batch']==2,:].copy()\n",
    "print(adata2_filtered)\n",
    "adata3_filtered = adata[adata.obs['batch']==3,:].copy()\n",
    "print(adata3_filtered)\n",
    "adata4_filtered = adata[adata.obs['batch']==4,:].copy()\n",
    "print(adata4_filtered)\n",
    "adata5_filtered = adata[adata.obs['batch']==5,:].copy()\n",
    "print(adata5_filtered)\n",
    "adata1_filtered.obsm['X_pca'] *= -1 # multiply by -1 to match Seurat, as suggestion from Scanpy\n",
    "adata2_filtered.obsm['X_pca'] *= -1 # multiply by -1 to match Seurat, as suggestion from Scanpy\n",
    "adata3_filtered.obsm['X_pca'] *= -1 # multiply by -1 to match Seurat, as suggestion from Scanpy\n",
    "adata4_filtered.obsm['X_pca'] *= -1 # multiply by -1 to match Seurat, as suggestion from Scanpy\n",
    "adata5_filtered.obsm['X_pca'] *= -1 # multiply by -1 to match Seurat, as suggestion from Scanpy\n",
    "print(adata2_filtered.obsm['X_pca'].shape[1])"
   ]
  },
  {
   "cell_type": "code",
   "execution_count": 71,
   "metadata": {},
   "outputs": [],
   "source": [
    "import keras.optimizers\n",
    "from keras.layers import Input, Dense, merge, BatchNormalization, Activation\n",
    "from keras.models import Model\n",
    "from keras import callbacks as cb\n",
    "from keras.regularizers import l2\n",
    "from keras.callbacks import LearningRateScheduler\n",
    "import math\n",
    "from keras import backend as K\n",
    "import sklearn.preprocessing as prep\n",
    "from sklearn import decomposition\n",
    "from statsmodels.distributions.empirical_distribution import ECDF\n",
    "from keras import initializers\n",
    "from keras.layers import add\n",
    "from Calibration_Util import CostFunctions as cf  # author func\n",
    "from Calibration_Util import Monitoring as mn     # author func\n",
    "\n"
   ]
  },
  {
   "cell_type": "code",
   "execution_count": 72,
   "metadata": {},
   "outputs": [],
   "source": [
    "target1 = adata1_filtered.obsm['X_pca']\n",
    "source2 = adata2_filtered.obsm['X_pca']\n",
    "source3 = adata3_filtered.obsm['X_pca']\n",
    "source4 = adata4_filtered.obsm['X_pca']\n",
    "source5 = adata5_filtered.obsm['X_pca']\n",
    "space_dim = 50\n",
    "batch_size = 50\n",
    "penalty = 1e-2\n",
    "nbeps = 20\n",
    "val_split = 0.1\n"
   ]
  },
  {
   "cell_type": "code",
   "execution_count": 73,
   "metadata": {},
   "outputs": [
    {
     "name": "stdout",
     "output_type": "stream",
     "text": [
      "Create a training model: \n",
      "setting scales using KNN\n",
      "[21.638855003373244, 43.27771000674649, 86.55542001349298]\n",
      "setting all scale weights to 1\n"
     ]
    },
    {
     "data": {
      "image/png": "[encoded data removed]",
      "text/plain": [
       "<Figure size 432x288 with 1 Axes>"
      ]
     },
     "metadata": {
      "needs_background": "light"
     },
     "output_type": "display_data"
    },
    {
     "data": {
      "image/png": "[encoded data removed]",
      "text/plain": [
       "<Figure size 432x288 with 1 Axes>"
      ]
     },
     "metadata": {
      "needs_background": "light"
     },
     "output_type": "display_data"
    },
    {
     "data": {
      "text/plain": [
       "<Figure size 432x288 with 0 Axes>"
      ]
     },
     "metadata": {},
     "output_type": "display_data"
    },
    {
     "data": {
      "text/plain": [
       "<Figure size 432x288 with 0 Axes>"
      ]
     },
     "metadata": {},
     "output_type": "display_data"
    },
    {
     "data": {
      "text/plain": [
       "<Figure size 432x288 with 0 Axes>"
      ]
     },
     "metadata": {},
     "output_type": "display_data"
    },
    {
     "data": {
      "text/plain": [
       "<Figure size 432x288 with 0 Axes>"
      ]
     },
     "metadata": {},
     "output_type": "display_data"
    },
    {
     "data": {
      "text/plain": [
       "<Figure size 432x288 with 0 Axes>"
      ]
     },
     "metadata": {},
     "output_type": "display_data"
    },
    {
     "data": {
      "text/plain": [
       "<Figure size 432x288 with 0 Axes>"
      ]
     },
     "metadata": {},
     "output_type": "display_data"
    },
    {
     "data": {
      "text/plain": [
       "<Figure size 432x288 with 0 Axes>"
      ]
     },
     "metadata": {},
     "output_type": "display_data"
    },
    {
     "data": {
      "text/plain": [
       "<Figure size 432x288 with 0 Axes>"
      ]
     },
     "metadata": {},
     "output_type": "display_data"
    },
    {
     "data": {
      "text/plain": [
       "<Figure size 432x288 with 0 Axes>"
      ]
     },
     "metadata": {},
     "output_type": "display_data"
    },
    {
     "data": {
      "text/plain": [
       "<Figure size 432x288 with 0 Axes>"
      ]
     },
     "metadata": {},
     "output_type": "display_data"
    },
    {
     "data": {
      "text/plain": [
       "<Figure size 432x288 with 0 Axes>"
      ]
     },
     "metadata": {},
     "output_type": "display_data"
    },
    {
     "data": {
      "text/plain": [
       "<Figure size 432x288 with 0 Axes>"
      ]
     },
     "metadata": {},
     "output_type": "display_data"
    },
    {
     "data": {
      "text/plain": [
       "<Figure size 432x288 with 0 Axes>"
      ]
     },
     "metadata": {},
     "output_type": "display_data"
    },
    {
     "data": {
      "text/plain": [
       "<Figure size 432x288 with 0 Axes>"
      ]
     },
     "metadata": {},
     "output_type": "display_data"
    },
    {
     "data": {
      "text/plain": [
       "<Figure size 432x288 with 0 Axes>"
      ]
     },
     "metadata": {},
     "output_type": "display_data"
    },
    {
     "data": {
      "text/plain": [
       "<Figure size 432x288 with 0 Axes>"
      ]
     },
     "metadata": {},
     "output_type": "display_data"
    },
    {
     "data": {
      "text/plain": [
       "<Figure size 432x288 with 0 Axes>"
      ]
     },
     "metadata": {},
     "output_type": "display_data"
    },
    {
     "data": {
      "text/plain": [
       "<Figure size 432x288 with 0 Axes>"
      ]
     },
     "metadata": {},
     "output_type": "display_data"
    },
    {
     "data": {
      "text/plain": [
       "<Figure size 432x288 with 0 Axes>"
      ]
     },
     "metadata": {},
     "output_type": "display_data"
    },
    {
     "data": {
      "text/plain": [
       "<Figure size 432x288 with 0 Axes>"
      ]
     },
     "metadata": {},
     "output_type": "display_data"
    },
    {
     "data": {
      "text/plain": [
       "<Figure size 432x288 with 0 Axes>"
      ]
     },
     "metadata": {},
     "output_type": "display_data"
    },
    {
     "data": {
      "text/plain": [
       "<Figure size 432x288 with 0 Axes>"
      ]
     },
     "metadata": {},
     "output_type": "display_data"
    },
    {
     "data": {
      "text/plain": [
       "<Figure size 432x288 with 0 Axes>"
      ]
     },
     "metadata": {},
     "output_type": "display_data"
    },
    {
     "data": {
      "text/plain": [
       "<Figure size 432x288 with 0 Axes>"
      ]
     },
     "metadata": {},
     "output_type": "display_data"
    },
    {
     "data": {
      "text/plain": [
       "<Figure size 432x288 with 0 Axes>"
      ]
     },
     "metadata": {},
     "output_type": "display_data"
    },
    {
     "data": {
      "text/plain": [
       "<Figure size 432x288 with 0 Axes>"
      ]
     },
     "metadata": {},
     "output_type": "display_data"
    },
    {
     "data": {
      "text/plain": [
       "<Figure size 432x288 with 0 Axes>"
      ]
     },
     "metadata": {},
     "output_type": "display_data"
    },
    {
     "data": {
      "text/plain": [
       "<Figure size 432x288 with 0 Axes>"
      ]
     },
     "metadata": {},
     "output_type": "display_data"
    },
    {
     "data": {
      "text/plain": [
       "<Figure size 432x288 with 0 Axes>"
      ]
     },
     "metadata": {},
     "output_type": "display_data"
    },
    {
     "data": {
      "text/plain": [
       "<Figure size 432x288 with 0 Axes>"
      ]
     },
     "metadata": {},
     "output_type": "display_data"
    },
    {
     "data": {
      "text/plain": [
       "<Figure size 432x288 with 0 Axes>"
      ]
     },
     "metadata": {},
     "output_type": "display_data"
    },
    {
     "data": {
      "text/plain": [
       "<Figure size 432x288 with 0 Axes>"
      ]
     },
     "metadata": {},
     "output_type": "display_data"
    },
    {
     "data": {
      "text/plain": [
       "<Figure size 432x288 with 0 Axes>"
      ]
     },
     "metadata": {},
     "output_type": "display_data"
    },
    {
     "data": {
      "text/plain": [
       "<Figure size 432x288 with 0 Axes>"
      ]
     },
     "metadata": {},
     "output_type": "display_data"
    },
    {
     "data": {
      "text/plain": [
       "<Figure size 432x288 with 0 Axes>"
      ]
     },
     "metadata": {},
     "output_type": "display_data"
    },
    {
     "data": {
      "text/plain": [
       "<Figure size 432x288 with 0 Axes>"
      ]
     },
     "metadata": {},
     "output_type": "display_data"
    },
    {
     "data": {
      "text/plain": [
       "<Figure size 432x288 with 0 Axes>"
      ]
     },
     "metadata": {},
     "output_type": "display_data"
    },
    {
     "data": {
      "text/plain": [
       "<Figure size 432x288 with 0 Axes>"
      ]
     },
     "metadata": {},
     "output_type": "display_data"
    },
    {
     "data": {
      "text/plain": [
       "<Figure size 432x288 with 0 Axes>"
      ]
     },
     "metadata": {},
     "output_type": "display_data"
    },
    {
     "name": "stdout",
     "output_type": "stream",
     "text": [
      "(2122, 50)\n",
      "Took 0:05:00.136907\n"
     ]
    }
   ],
   "source": [
    "savedfl2 = 'resnet_d4_target1_source2'\n",
    "t21 = time.time()\n",
    "calibMMDNet2,block2_output2 = utils.createMMDResNetModel(target1, source2, space_dim, batch_size, penalty, \n",
    "                                                   save_dir, nbeps, val_split, savedfl2)\n",
    "afterCalib2 = calibMMDNet2.predict(source2)   # align, calibrate source data to target data\n",
    "print(afterCalib2.shape)\n",
    "t22 = time.time()\n",
    "print('Took '+str(timedelta(seconds=t22-t21)))"
   ]
  },
  {
   "cell_type": "code",
   "execution_count": 74,
   "metadata": {},
   "outputs": [
    {
     "name": "stdout",
     "output_type": "stream",
     "text": [
      "Create a training model: \n",
      "setting scales using KNN\n",
      "[21.708966851537845, 43.41793370307569, 86.83586740615138]\n",
      "setting all scale weights to 1\n"
     ]
    },
    {
     "data": {
      "image/png": "[encoded data removed]",
      "text/plain": [
       "<Figure size 432x288 with 1 Axes>"
      ]
     },
     "metadata": {
      "needs_background": "light"
     },
     "output_type": "display_data"
    },
    {
     "data": {
      "image/png": "[encoded data removed]",
      "text/plain": [
       "<Figure size 432x288 with 1 Axes>"
      ]
     },
     "metadata": {
      "needs_background": "light"
     },
     "output_type": "display_data"
    },
    {
     "data": {
      "text/plain": [
       "<Figure size 432x288 with 0 Axes>"
      ]
     },
     "metadata": {},
     "output_type": "display_data"
    },
    {
     "data": {
      "text/plain": [
       "<Figure size 432x288 with 0 Axes>"
      ]
     },
     "metadata": {},
     "output_type": "display_data"
    },
    {
     "data": {
      "text/plain": [
       "<Figure size 432x288 with 0 Axes>"
      ]
     },
     "metadata": {},
     "output_type": "display_data"
    },
    {
     "data": {
      "text/plain": [
       "<Figure size 432x288 with 0 Axes>"
      ]
     },
     "metadata": {},
     "output_type": "display_data"
    },
    {
     "data": {
      "text/plain": [
       "<Figure size 432x288 with 0 Axes>"
      ]
     },
     "metadata": {},
     "output_type": "display_data"
    },
    {
     "data": {
      "text/plain": [
       "<Figure size 432x288 with 0 Axes>"
      ]
     },
     "metadata": {},
     "output_type": "display_data"
    },
    {
     "data": {
      "text/plain": [
       "<Figure size 432x288 with 0 Axes>"
      ]
     },
     "metadata": {},
     "output_type": "display_data"
    },
    {
     "data": {
      "text/plain": [
       "<Figure size 432x288 with 0 Axes>"
      ]
     },
     "metadata": {},
     "output_type": "display_data"
    },
    {
     "data": {
      "text/plain": [
       "<Figure size 432x288 with 0 Axes>"
      ]
     },
     "metadata": {},
     "output_type": "display_data"
    },
    {
     "data": {
      "text/plain": [
       "<Figure size 432x288 with 0 Axes>"
      ]
     },
     "metadata": {},
     "output_type": "display_data"
    },
    {
     "data": {
      "text/plain": [
       "<Figure size 432x288 with 0 Axes>"
      ]
     },
     "metadata": {},
     "output_type": "display_data"
    },
    {
     "data": {
      "text/plain": [
       "<Figure size 432x288 with 0 Axes>"
      ]
     },
     "metadata": {},
     "output_type": "display_data"
    },
    {
     "data": {
      "text/plain": [
       "<Figure size 432x288 with 0 Axes>"
      ]
     },
     "metadata": {},
     "output_type": "display_data"
    },
    {
     "data": {
      "text/plain": [
       "<Figure size 432x288 with 0 Axes>"
      ]
     },
     "metadata": {},
     "output_type": "display_data"
    },
    {
     "data": {
      "text/plain": [
       "<Figure size 432x288 with 0 Axes>"
      ]
     },
     "metadata": {},
     "output_type": "display_data"
    },
    {
     "data": {
      "text/plain": [
       "<Figure size 432x288 with 0 Axes>"
      ]
     },
     "metadata": {},
     "output_type": "display_data"
    },
    {
     "data": {
      "text/plain": [
       "<Figure size 432x288 with 0 Axes>"
      ]
     },
     "metadata": {},
     "output_type": "display_data"
    },
    {
     "data": {
      "text/plain": [
       "<Figure size 432x288 with 0 Axes>"
      ]
     },
     "metadata": {},
     "output_type": "display_data"
    },
    {
     "data": {
      "text/plain": [
       "<Figure size 432x288 with 0 Axes>"
      ]
     },
     "metadata": {},
     "output_type": "display_data"
    },
    {
     "data": {
      "text/plain": [
       "<Figure size 432x288 with 0 Axes>"
      ]
     },
     "metadata": {},
     "output_type": "display_data"
    },
    {
     "data": {
      "text/plain": [
       "<Figure size 432x288 with 0 Axes>"
      ]
     },
     "metadata": {},
     "output_type": "display_data"
    },
    {
     "data": {
      "text/plain": [
       "<Figure size 432x288 with 0 Axes>"
      ]
     },
     "metadata": {},
     "output_type": "display_data"
    },
    {
     "data": {
      "text/plain": [
       "<Figure size 432x288 with 0 Axes>"
      ]
     },
     "metadata": {},
     "output_type": "display_data"
    },
    {
     "data": {
      "text/plain": [
       "<Figure size 432x288 with 0 Axes>"
      ]
     },
     "metadata": {},
     "output_type": "display_data"
    },
    {
     "data": {
      "text/plain": [
       "<Figure size 432x288 with 0 Axes>"
      ]
     },
     "metadata": {},
     "output_type": "display_data"
    },
    {
     "data": {
      "text/plain": [
       "<Figure size 432x288 with 0 Axes>"
      ]
     },
     "metadata": {},
     "output_type": "display_data"
    },
    {
     "data": {
      "text/plain": [
       "<Figure size 432x288 with 0 Axes>"
      ]
     },
     "metadata": {},
     "output_type": "display_data"
    },
    {
     "data": {
      "text/plain": [
       "<Figure size 432x288 with 0 Axes>"
      ]
     },
     "metadata": {},
     "output_type": "display_data"
    },
    {
     "data": {
      "text/plain": [
       "<Figure size 432x288 with 0 Axes>"
      ]
     },
     "metadata": {},
     "output_type": "display_data"
    },
    {
     "data": {
      "text/plain": [
       "<Figure size 432x288 with 0 Axes>"
      ]
     },
     "metadata": {},
     "output_type": "display_data"
    },
    {
     "data": {
      "text/plain": [
       "<Figure size 432x288 with 0 Axes>"
      ]
     },
     "metadata": {},
     "output_type": "display_data"
    },
    {
     "data": {
      "text/plain": [
       "<Figure size 432x288 with 0 Axes>"
      ]
     },
     "metadata": {},
     "output_type": "display_data"
    },
    {
     "data": {
      "text/plain": [
       "<Figure size 432x288 with 0 Axes>"
      ]
     },
     "metadata": {},
     "output_type": "display_data"
    },
    {
     "data": {
      "text/plain": [
       "<Figure size 432x288 with 0 Axes>"
      ]
     },
     "metadata": {},
     "output_type": "display_data"
    },
    {
     "data": {
      "text/plain": [
       "<Figure size 432x288 with 0 Axes>"
      ]
     },
     "metadata": {},
     "output_type": "display_data"
    },
    {
     "data": {
      "text/plain": [
       "<Figure size 432x288 with 0 Axes>"
      ]
     },
     "metadata": {},
     "output_type": "display_data"
    },
    {
     "data": {
      "text/plain": [
       "<Figure size 432x288 with 0 Axes>"
      ]
     },
     "metadata": {},
     "output_type": "display_data"
    },
    {
     "data": {
      "text/plain": [
       "<Figure size 432x288 with 0 Axes>"
      ]
     },
     "metadata": {},
     "output_type": "display_data"
    },
    {
     "data": {
      "text/plain": [
       "<Figure size 432x288 with 0 Axes>"
      ]
     },
     "metadata": {},
     "output_type": "display_data"
    },
    {
     "name": "stdout",
     "output_type": "stream",
     "text": [
      "(2127, 50)\n",
      "Took 0:04:47.098988\n"
     ]
    }
   ],
   "source": [
    "savedfl3 = 'resnet_d4_target1_source3'\n",
    "t31 = time.time()\n",
    "calibMMDNet3,block2_output3 = utils.createMMDResNetModel(target1, source3, space_dim, batch_size, penalty, \n",
    "                                                   save_dir, nbeps, val_split, savedfl3)\n",
    "afterCalib3 = calibMMDNet3.predict(source3)   # align, calibrate source data to target data\n",
    "print(afterCalib3.shape)\n",
    "t32 = time.time()\n",
    "print('Took '+str(timedelta(seconds=t32-t31)))"
   ]
  },
  {
   "cell_type": "code",
   "execution_count": 75,
   "metadata": {},
   "outputs": [
    {
     "name": "stdout",
     "output_type": "stream",
     "text": [
      "Create a training model: \n",
      "setting scales using KNN\n",
      "[21.577988963669334, 43.15597792733867, 86.31195585467734]\n",
      "setting all scale weights to 1\n"
     ]
    },
    {
     "data": {
      "image/png": "[encoded data removed]",
      "text/plain": [
       "<Figure size 432x288 with 1 Axes>"
      ]
     },
     "metadata": {
      "needs_background": "light"
     },
     "output_type": "display_data"
    },
    {
     "data": {
      "image/png": "[encoded data removed]",
      "text/plain": [
       "<Figure size 432x288 with 1 Axes>"
      ]
     },
     "metadata": {
      "needs_background": "light"
     },
     "output_type": "display_data"
    },
    {
     "data": {
      "text/plain": [
       "<Figure size 432x288 with 0 Axes>"
      ]
     },
     "metadata": {},
     "output_type": "display_data"
    },
    {
     "data": {
      "text/plain": [
       "<Figure size 432x288 with 0 Axes>"
      ]
     },
     "metadata": {},
     "output_type": "display_data"
    },
    {
     "data": {
      "text/plain": [
       "<Figure size 432x288 with 0 Axes>"
      ]
     },
     "metadata": {},
     "output_type": "display_data"
    },
    {
     "data": {
      "text/plain": [
       "<Figure size 432x288 with 0 Axes>"
      ]
     },
     "metadata": {},
     "output_type": "display_data"
    },
    {
     "data": {
      "text/plain": [
       "<Figure size 432x288 with 0 Axes>"
      ]
     },
     "metadata": {},
     "output_type": "display_data"
    },
    {
     "data": {
      "text/plain": [
       "<Figure size 432x288 with 0 Axes>"
      ]
     },
     "metadata": {},
     "output_type": "display_data"
    },
    {
     "data": {
      "text/plain": [
       "<Figure size 432x288 with 0 Axes>"
      ]
     },
     "metadata": {},
     "output_type": "display_data"
    },
    {
     "data": {
      "text/plain": [
       "<Figure size 432x288 with 0 Axes>"
      ]
     },
     "metadata": {},
     "output_type": "display_data"
    },
    {
     "data": {
      "text/plain": [
       "<Figure size 432x288 with 0 Axes>"
      ]
     },
     "metadata": {},
     "output_type": "display_data"
    },
    {
     "data": {
      "text/plain": [
       "<Figure size 432x288 with 0 Axes>"
      ]
     },
     "metadata": {},
     "output_type": "display_data"
    },
    {
     "data": {
      "text/plain": [
       "<Figure size 432x288 with 0 Axes>"
      ]
     },
     "metadata": {},
     "output_type": "display_data"
    },
    {
     "data": {
      "text/plain": [
       "<Figure size 432x288 with 0 Axes>"
      ]
     },
     "metadata": {},
     "output_type": "display_data"
    },
    {
     "data": {
      "text/plain": [
       "<Figure size 432x288 with 0 Axes>"
      ]
     },
     "metadata": {},
     "output_type": "display_data"
    },
    {
     "data": {
      "text/plain": [
       "<Figure size 432x288 with 0 Axes>"
      ]
     },
     "metadata": {},
     "output_type": "display_data"
    },
    {
     "data": {
      "text/plain": [
       "<Figure size 432x288 with 0 Axes>"
      ]
     },
     "metadata": {},
     "output_type": "display_data"
    },
    {
     "data": {
      "text/plain": [
       "<Figure size 432x288 with 0 Axes>"
      ]
     },
     "metadata": {},
     "output_type": "display_data"
    },
    {
     "data": {
      "text/plain": [
       "<Figure size 432x288 with 0 Axes>"
      ]
     },
     "metadata": {},
     "output_type": "display_data"
    },
    {
     "data": {
      "text/plain": [
       "<Figure size 432x288 with 0 Axes>"
      ]
     },
     "metadata": {},
     "output_type": "display_data"
    },
    {
     "data": {
      "text/plain": [
       "<Figure size 432x288 with 0 Axes>"
      ]
     },
     "metadata": {},
     "output_type": "display_data"
    },
    {
     "data": {
      "text/plain": [
       "<Figure size 432x288 with 0 Axes>"
      ]
     },
     "metadata": {},
     "output_type": "display_data"
    },
    {
     "data": {
      "text/plain": [
       "<Figure size 432x288 with 0 Axes>"
      ]
     },
     "metadata": {},
     "output_type": "display_data"
    },
    {
     "data": {
      "text/plain": [
       "<Figure size 432x288 with 0 Axes>"
      ]
     },
     "metadata": {},
     "output_type": "display_data"
    },
    {
     "data": {
      "text/plain": [
       "<Figure size 432x288 with 0 Axes>"
      ]
     },
     "metadata": {},
     "output_type": "display_data"
    },
    {
     "data": {
      "text/plain": [
       "<Figure size 432x288 with 0 Axes>"
      ]
     },
     "metadata": {},
     "output_type": "display_data"
    },
    {
     "data": {
      "text/plain": [
       "<Figure size 432x288 with 0 Axes>"
      ]
     },
     "metadata": {},
     "output_type": "display_data"
    },
    {
     "data": {
      "text/plain": [
       "<Figure size 432x288 with 0 Axes>"
      ]
     },
     "metadata": {},
     "output_type": "display_data"
    },
    {
     "data": {
      "text/plain": [
       "<Figure size 432x288 with 0 Axes>"
      ]
     },
     "metadata": {},
     "output_type": "display_data"
    },
    {
     "data": {
      "text/plain": [
       "<Figure size 432x288 with 0 Axes>"
      ]
     },
     "metadata": {},
     "output_type": "display_data"
    },
    {
     "data": {
      "text/plain": [
       "<Figure size 432x288 with 0 Axes>"
      ]
     },
     "metadata": {},
     "output_type": "display_data"
    },
    {
     "data": {
      "text/plain": [
       "<Figure size 432x288 with 0 Axes>"
      ]
     },
     "metadata": {},
     "output_type": "display_data"
    },
    {
     "data": {
      "text/plain": [
       "<Figure size 432x288 with 0 Axes>"
      ]
     },
     "metadata": {},
     "output_type": "display_data"
    },
    {
     "data": {
      "text/plain": [
       "<Figure size 432x288 with 0 Axes>"
      ]
     },
     "metadata": {},
     "output_type": "display_data"
    },
    {
     "data": {
      "text/plain": [
       "<Figure size 432x288 with 0 Axes>"
      ]
     },
     "metadata": {},
     "output_type": "display_data"
    },
    {
     "data": {
      "text/plain": [
       "<Figure size 432x288 with 0 Axes>"
      ]
     },
     "metadata": {},
     "output_type": "display_data"
    },
    {
     "data": {
      "text/plain": [
       "<Figure size 432x288 with 0 Axes>"
      ]
     },
     "metadata": {},
     "output_type": "display_data"
    },
    {
     "data": {
      "text/plain": [
       "<Figure size 432x288 with 0 Axes>"
      ]
     },
     "metadata": {},
     "output_type": "display_data"
    },
    {
     "data": {
      "text/plain": [
       "<Figure size 432x288 with 0 Axes>"
      ]
     },
     "metadata": {},
     "output_type": "display_data"
    },
    {
     "data": {
      "text/plain": [
       "<Figure size 432x288 with 0 Axes>"
      ]
     },
     "metadata": {},
     "output_type": "display_data"
    },
    {
     "data": {
      "text/plain": [
       "<Figure size 432x288 with 0 Axes>"
      ]
     },
     "metadata": {},
     "output_type": "display_data"
    },
    {
     "name": "stdout",
     "output_type": "stream",
     "text": [
      "(457, 50)\n",
      "Took 0:01:54.367792\n"
     ]
    }
   ],
   "source": [
    "savedfl4 = 'resnet_d4_target1_source4'\n",
    "t41 = time.time()\n",
    "calibMMDNet4,block2_output4 = utils.createMMDResNetModel(target1, source4, space_dim, batch_size, penalty, \n",
    "                                                   save_dir, nbeps, val_split, savedfl4)\n",
    "afterCalib4 = calibMMDNet4.predict(source4)   # align, calibrate source data to target data\n",
    "print(afterCalib4.shape)\n",
    "t42 = time.time()\n",
    "print('Took '+str(timedelta(seconds=t42-t41)))"
   ]
  },
  {
   "cell_type": "code",
   "execution_count": 76,
   "metadata": {},
   "outputs": [
    {
     "name": "stdout",
     "output_type": "stream",
     "text": [
      "Create a training model: \n",
      "setting scales using KNN\n",
      "[21.617269499803633, 43.23453899960727, 86.46907799921453]\n",
      "setting all scale weights to 1\n"
     ]
    },
    {
     "data": {
      "image/png": "[encoded data removed]",
      "text/plain": [
       "<Figure size 432x288 with 1 Axes>"
      ]
     },
     "metadata": {
      "needs_background": "light"
     },
     "output_type": "display_data"
    },
    {
     "data": {
      "image/png": "[encoded data removed]",
      "text/plain": [
       "<Figure size 432x288 with 1 Axes>"
      ]
     },
     "metadata": {
      "needs_background": "light"
     },
     "output_type": "display_data"
    },
    {
     "data": {
      "text/plain": [
       "<Figure size 432x288 with 0 Axes>"
      ]
     },
     "metadata": {},
     "output_type": "display_data"
    },
    {
     "data": {
      "text/plain": [
       "<Figure size 432x288 with 0 Axes>"
      ]
     },
     "metadata": {},
     "output_type": "display_data"
    },
    {
     "data": {
      "text/plain": [
       "<Figure size 432x288 with 0 Axes>"
      ]
     },
     "metadata": {},
     "output_type": "display_data"
    },
    {
     "data": {
      "text/plain": [
       "<Figure size 432x288 with 0 Axes>"
      ]
     },
     "metadata": {},
     "output_type": "display_data"
    },
    {
     "data": {
      "text/plain": [
       "<Figure size 432x288 with 0 Axes>"
      ]
     },
     "metadata": {},
     "output_type": "display_data"
    },
    {
     "data": {
      "text/plain": [
       "<Figure size 432x288 with 0 Axes>"
      ]
     },
     "metadata": {},
     "output_type": "display_data"
    },
    {
     "data": {
      "text/plain": [
       "<Figure size 432x288 with 0 Axes>"
      ]
     },
     "metadata": {},
     "output_type": "display_data"
    },
    {
     "data": {
      "text/plain": [
       "<Figure size 432x288 with 0 Axes>"
      ]
     },
     "metadata": {},
     "output_type": "display_data"
    },
    {
     "data": {
      "text/plain": [
       "<Figure size 432x288 with 0 Axes>"
      ]
     },
     "metadata": {},
     "output_type": "display_data"
    },
    {
     "data": {
      "text/plain": [
       "<Figure size 432x288 with 0 Axes>"
      ]
     },
     "metadata": {},
     "output_type": "display_data"
    },
    {
     "data": {
      "text/plain": [
       "<Figure size 432x288 with 0 Axes>"
      ]
     },
     "metadata": {},
     "output_type": "display_data"
    },
    {
     "data": {
      "text/plain": [
       "<Figure size 432x288 with 0 Axes>"
      ]
     },
     "metadata": {},
     "output_type": "display_data"
    },
    {
     "data": {
      "text/plain": [
       "<Figure size 432x288 with 0 Axes>"
      ]
     },
     "metadata": {},
     "output_type": "display_data"
    },
    {
     "data": {
      "text/plain": [
       "<Figure size 432x288 with 0 Axes>"
      ]
     },
     "metadata": {},
     "output_type": "display_data"
    },
    {
     "data": {
      "text/plain": [
       "<Figure size 432x288 with 0 Axes>"
      ]
     },
     "metadata": {},
     "output_type": "display_data"
    },
    {
     "data": {
      "text/plain": [
       "<Figure size 432x288 with 0 Axes>"
      ]
     },
     "metadata": {},
     "output_type": "display_data"
    },
    {
     "data": {
      "text/plain": [
       "<Figure size 432x288 with 0 Axes>"
      ]
     },
     "metadata": {},
     "output_type": "display_data"
    },
    {
     "data": {
      "text/plain": [
       "<Figure size 432x288 with 0 Axes>"
      ]
     },
     "metadata": {},
     "output_type": "display_data"
    },
    {
     "data": {
      "text/plain": [
       "<Figure size 432x288 with 0 Axes>"
      ]
     },
     "metadata": {},
     "output_type": "display_data"
    },
    {
     "data": {
      "text/plain": [
       "<Figure size 432x288 with 0 Axes>"
      ]
     },
     "metadata": {},
     "output_type": "display_data"
    },
    {
     "data": {
      "text/plain": [
       "<Figure size 432x288 with 0 Axes>"
      ]
     },
     "metadata": {},
     "output_type": "display_data"
    },
    {
     "data": {
      "text/plain": [
       "<Figure size 432x288 with 0 Axes>"
      ]
     },
     "metadata": {},
     "output_type": "display_data"
    },
    {
     "data": {
      "text/plain": [
       "<Figure size 432x288 with 0 Axes>"
      ]
     },
     "metadata": {},
     "output_type": "display_data"
    },
    {
     "data": {
      "text/plain": [
       "<Figure size 432x288 with 0 Axes>"
      ]
     },
     "metadata": {},
     "output_type": "display_data"
    },
    {
     "data": {
      "text/plain": [
       "<Figure size 432x288 with 0 Axes>"
      ]
     },
     "metadata": {},
     "output_type": "display_data"
    },
    {
     "data": {
      "text/plain": [
       "<Figure size 432x288 with 0 Axes>"
      ]
     },
     "metadata": {},
     "output_type": "display_data"
    },
    {
     "data": {
      "text/plain": [
       "<Figure size 432x288 with 0 Axes>"
      ]
     },
     "metadata": {},
     "output_type": "display_data"
    },
    {
     "data": {
      "text/plain": [
       "<Figure size 432x288 with 0 Axes>"
      ]
     },
     "metadata": {},
     "output_type": "display_data"
    },
    {
     "data": {
      "text/plain": [
       "<Figure size 432x288 with 0 Axes>"
      ]
     },
     "metadata": {},
     "output_type": "display_data"
    },
    {
     "data": {
      "text/plain": [
       "<Figure size 432x288 with 0 Axes>"
      ]
     },
     "metadata": {},
     "output_type": "display_data"
    },
    {
     "data": {
      "text/plain": [
       "<Figure size 432x288 with 0 Axes>"
      ]
     },
     "metadata": {},
     "output_type": "display_data"
    },
    {
     "data": {
      "text/plain": [
       "<Figure size 432x288 with 0 Axes>"
      ]
     },
     "metadata": {},
     "output_type": "display_data"
    },
    {
     "data": {
      "text/plain": [
       "<Figure size 432x288 with 0 Axes>"
      ]
     },
     "metadata": {},
     "output_type": "display_data"
    },
    {
     "data": {
      "text/plain": [
       "<Figure size 432x288 with 0 Axes>"
      ]
     },
     "metadata": {},
     "output_type": "display_data"
    },
    {
     "data": {
      "text/plain": [
       "<Figure size 432x288 with 0 Axes>"
      ]
     },
     "metadata": {},
     "output_type": "display_data"
    },
    {
     "data": {
      "text/plain": [
       "<Figure size 432x288 with 0 Axes>"
      ]
     },
     "metadata": {},
     "output_type": "display_data"
    },
    {
     "data": {
      "text/plain": [
       "<Figure size 432x288 with 0 Axes>"
      ]
     },
     "metadata": {},
     "output_type": "display_data"
    },
    {
     "data": {
      "text/plain": [
       "<Figure size 432x288 with 0 Axes>"
      ]
     },
     "metadata": {},
     "output_type": "display_data"
    },
    {
     "data": {
      "text/plain": [
       "<Figure size 432x288 with 0 Axes>"
      ]
     },
     "metadata": {},
     "output_type": "display_data"
    },
    {
     "name": "stdout",
     "output_type": "stream",
     "text": [
      "(1492, 50)\n",
      "Took 0:03:51.425795\n"
     ]
    }
   ],
   "source": [
    "savedfl5 = 'resnet_d4_target1_source5'\n",
    "t51 = time.time()\n",
    "calibMMDNet5,block2_output5 = createMMDResNetModel(target1, source5, space_dim, batch_size, penalty, \n",
    "                                                   save_dir, nbeps, val_split, savedfl5)\n",
    "afterCalib5 = calibMMDNet5.predict(source5)   # align, calibrate source data to target data\n",
    "print(afterCalib5.shape)\n",
    "t52 = time.time()\n",
    "print('Took '+str(timedelta(seconds=t52-t51)))"
   ]
  },
  {
   "cell_type": "code",
   "execution_count": 77,
   "metadata": {},
   "outputs": [],
   "source": [
    "import matplotlib.pyplot as plt\n",
    "from matplotlib.ticker import NullFormatter\n",
    "# Plot distribution, see the change after train and predict source data, compared to target data\n",
    "# from Calibration_Util import ScatterDemo as sd\n",
    "\n",
    "save_file_bf2 = os.path.join(save_fig_dir,'d12_distribution_before_target1_source2.png')\n",
    "save_file_af2 = os.path.join(save_fig_dir, 'd12_distribution_after_target1_source2.png')\n",
    "\n",
    "save_file_bf3 = os.path.join(save_fig_dir,'d12_distribution_before_target1_source3.png')\n",
    "save_file_af3 = os.path.join(save_fig_dir, 'd12_distribution_after_target1_source3.png')\n",
    "\n",
    "save_file_bf4 = os.path.join(save_fig_dir,'d12_distribution_before_target1_source4.png')\n",
    "save_file_af4 = os.path.join(save_fig_dir, 'd12_distribution_after_target1_source4.png')\n",
    "\n",
    "save_file_bf5 = os.path.join(save_fig_dir,'d12_distribution_before_target1_source5.png')\n",
    "save_file_af5 = os.path.join(save_fig_dir, 'd12_distribution_after_target1_source5.png')\n",
    "\n",
    "# The PCs most correlated with the batch are {1 and 2} or {3 and 5}\n",
    "pc1 = 0\n",
    "pc2 = 1\n",
    "utils.myScatterHistDemo(target1[:,pc1], target1[:,pc2], source2[:,pc1], source2[:,pc2],save_file_bf2)\n",
    "utils.myScatterHistDemo(target1[:,pc1], target1[:,pc2], afterCalib2[:,pc1], afterCalib2[:,pc2],save_file_af2)\n",
    "utils.myScatterHistDemo(target1[:,pc1], target1[:,pc2], source3[:,pc1], source3[:,pc2],save_file_bf3)\n",
    "utils.myScatterHistDemo(target1[:,pc1], target1[:,pc2], afterCalib3[:,pc1], afterCalib3[:,pc2],save_file_af3)\n",
    "utils.myScatterHistDemo(target1[:,pc1], target1[:,pc2], source4[:,pc1], source4[:,pc2],save_file_bf4)\n",
    "utils.myScatterHistDemo(target1[:,pc1], target1[:,pc2], afterCalib4[:,pc1], afterCalib4[:,pc2],save_file_af4)\n",
    "utils.myScatterHistDemo(target1[:,pc1], target1[:,pc2], source5[:,pc1], source5[:,pc2],save_file_bf5)\n",
    "utils.myScatterHistDemo(target1[:,pc1], target1[:,pc2], afterCalib5[:,pc1], afterCalib5[:,pc2],save_file_af5)"
   ]
  },
  {
   "cell_type": "code",
   "execution_count": 78,
   "metadata": {},
   "outputs": [
    {
     "name": "stdout",
     "output_type": "stream",
     "text": [
      "Distance b1 to b2\n",
      "setting scales using KNN\n",
      "[21.497552102108585, 42.99510420421717, 85.99020840843434]\n",
      "setting all scale weights to 1\n",
      "setting scales using KNN\n",
      "[21.63669006071912, 43.27338012143824, 86.54676024287647]\n",
      "setting all scale weights to 1\n",
      "MMD before calibration: 1.8611388\n",
      "MMD after calibration: 0.8945813\n",
      "Distance b1 to b3\n",
      "setting scales using KNN\n",
      "[21.60422646806635, 43.2084529361327, 86.4169058722654]\n",
      "setting all scale weights to 1\n",
      "setting scales using KNN\n",
      "[21.572697762582123, 43.14539552516425, 86.2907910503285]\n",
      "setting all scale weights to 1\n",
      "MMD before calibration: 1.8624506\n",
      "MMD after calibration: 0.8668405\n",
      "Distance b1 to b4\n",
      "setting scales using KNN\n",
      "[21.65336709861939, 43.30673419723878, 86.61346839447756]\n",
      "setting all scale weights to 1\n",
      "setting scales using KNN\n",
      "[21.683073035942538, 43.366146071885076, 86.73229214377015]\n",
      "setting all scale weights to 1\n",
      "MMD before calibration: 2.310104\n",
      "MMD after calibration: 1.7966217\n",
      "Distance b1 to b5\n",
      "setting scales using KNN\n",
      "[21.622655210116655, 43.24531042023331, 86.49062084046662]\n",
      "setting all scale weights to 1\n",
      "setting scales using KNN\n",
      "[21.57119679876629, 43.14239359753258, 86.28478719506516]\n",
      "setting all scale weights to 1\n",
      "MMD before calibration: 2.0500293\n",
      "MMD after calibration: 1.4518516\n"
     ]
    },
    {
     "data": {
      "text/plain": [
       "(2.0500293, 1.4518516)"
      ]
     },
     "execution_count": 78,
     "metadata": {},
     "output_type": "execute_result"
    }
   ],
   "source": [
    "## quantitative evaluation: MMD ###\n",
    "# MMD with the scales used for training \n",
    "# Compute Maximum Mean Discrepancy Distance \n",
    "# between source data- before correction, source data-after correction, target data and Ground Truth - filter data, one layer in network \n",
    "# If MMD distance is smaller --> 2 distributions are shift closer, less of batch effect \n",
    "# If MMD distance is not many different --> this method can not remove batch effect\n",
    "def calculMMD(target, source, afterCalib, block2_output):\n",
    "    sourceInds = np.random.randint(low=0, high = source.shape[0], size = 1000)\n",
    "    targetInds = np.random.randint(low=0, high = target.shape[0], size = 1000)\n",
    "    mmd_before = K.eval(cf.MMD(block2_output,target).cost(K.variable(value=source[sourceInds]), K.variable(value=target[targetInds])))\n",
    "    mmd_after = K.eval(cf.MMD(block2_output,target).cost(K.variable(value=afterCalib[sourceInds]), K.variable(value=target[targetInds])))\n",
    "    print('MMD before calibration: ' + str(mmd_before))\n",
    "    print('MMD after calibration: ' + str(mmd_after))\n",
    "    return mmd_before,mmd_after\n",
    "        \n",
    "print('Distance b1 to b2')    \n",
    "calculMMD(target1, source2, afterCalib2, block2_output2)\n",
    "print('Distance b1 to b3')    \n",
    "calculMMD(target1, source3, afterCalib3, block2_output3)\n",
    "print('Distance b1 to b4')    \n",
    "calculMMD(target1, source4, afterCalib4, block2_output4)\n",
    "print('Distance b1 to b5')    \n",
    "calculMMD(target1, source5, afterCalib5, block2_output5)"
   ]
  },
  {
   "cell_type": "code",
   "execution_count": 79,
   "metadata": {},
   "outputs": [
    {
     "name": "stdout",
     "output_type": "stream",
     "text": [
      "AnnData object with n_obs × n_vars = 8569 × 15558 \n",
      "    obs: 'cell_type', 'batch', 'batchlb', 'n_genes', 'n_counts'\n",
      "    var: 'n_cells'\n",
      "    uns: 'pca', 'neighbors', 'batchlb_colors', 'cell_type_colors'\n",
      "    obsm: 'X_pca', 'X_tsne', 'X_umap'\n",
      "    varm: 'PCs'\n",
      "AnnData object with n_obs × n_vars = 2122 × 15558 \n",
      "    obs: 'cell_type', 'batch', 'batchlb', 'n_genes', 'n_counts'\n",
      "    var: 'n_cells'\n",
      "    uns: 'pca', 'neighbors', 'batchlb_colors', 'cell_type_colors'\n",
      "    obsm: 'X_pca', 'X_tsne', 'X_umap'\n",
      "    varm: 'PCs'\n",
      "AnnData object with n_obs × n_vars = 2127 × 15558 \n",
      "    obs: 'cell_type', 'batch', 'batchlb', 'n_genes', 'n_counts'\n",
      "    var: 'n_cells'\n",
      "    uns: 'pca', 'neighbors', 'batchlb_colors', 'cell_type_colors'\n",
      "    obsm: 'X_pca', 'X_tsne', 'X_umap'\n",
      "    varm: 'PCs'\n",
      "AnnData object with n_obs × n_vars = 457 × 15558 \n",
      "    obs: 'cell_type', 'batch', 'batchlb', 'n_genes', 'n_counts'\n",
      "    var: 'n_cells'\n",
      "    uns: 'pca', 'neighbors', 'batchlb_colors', 'cell_type_colors'\n",
      "    obsm: 'X_pca', 'X_tsne', 'X_umap'\n",
      "    varm: 'PCs'\n",
      "AnnData object with n_obs × n_vars = 1492 × 15558 \n",
      "    obs: 'cell_type', 'batch', 'batchlb', 'n_genes', 'n_counts'\n",
      "    var: 'n_cells'\n",
      "    uns: 'pca', 'neighbors', 'batchlb_colors', 'cell_type_colors'\n",
      "    obsm: 'X_pca', 'X_tsne', 'X_umap'\n",
      "    varm: 'PCs'\n",
      "computing neighbors\n",
      "    using 'X_pca' with n_pcs = 20\n",
      "    finished (0:00:10.27) --> added to `.uns['neighbors']`\n",
      "    'distances', distances for each pair of neighbors\n",
      "    'connectivities', weighted adjacency matrix\n",
      "computing tSNE\n",
      "    using 'X_pca' with n_pcs = 20\n",
      "    using the 'MulticoreTSNE' package by Ulyanov (2017)\n",
      "    finished (0:01:42.99) --> added\n",
      "    'X_tsne', tSNE coordinates (adata.obsm)\n",
      "computing UMAP\n",
      "    finished (0:00:18.16) --> added\n",
      "    'X_umap', UMAP coordinates (adata.obsm)\n",
      "AnnData object with n_obs × n_vars = 14767 × 15558 \n",
      "    obs: 'cell_type', 'batch', 'batchlb', 'n_genes', 'n_counts'\n",
      "    var: 'n_cells'\n",
      "    uns: 'pca', 'neighbors', 'batchlb_colors', 'cell_type_colors'\n",
      "    obsm: 'X_pca', 'X_tsne', 'X_umap'\n",
      "    varm: 'PCs'\n"
     ]
    }
   ],
   "source": [
    "adata1_filtered.obsm['X_pca'] = target1\n",
    "adata2_filtered.obsm['X_pca'] = afterCalib2\n",
    "adata3_filtered.obsm['X_pca'] = afterCalib3\n",
    "adata4_filtered.obsm['X_pca'] = afterCalib4\n",
    "adata5_filtered.obsm['X_pca'] = afterCalib5\n",
    "print(adata1_filtered)\n",
    "print(adata2_filtered)\n",
    "print(adata3_filtered)\n",
    "print(adata4_filtered)\n",
    "print(adata5_filtered)\n",
    "pca_corrected = np.concatenate([target1,afterCalib2,afterCalib3,afterCalib4,afterCalib5])\n",
    "adata.obsm['X_pca'] = pca_corrected\n",
    "npcs = 20  # our pre-defined\n",
    "perplex = 30  # our pre-defined\n",
    "sc.pp.neighbors(adata,n_neighbors=15, n_pcs=npcs)\n",
    "sc.tl.tsne(adata, random_state=0, n_pcs=npcs, perplexity=perplex)\n",
    "sc.tl.umap(adata)\n",
    "print(adata)\n"
   ]
  },
  {
   "cell_type": "code",
   "execution_count": 80,
   "metadata": {},
   "outputs": [],
   "source": [
    "color_group = [\"batchlb\",\"cell_type\"]\n",
    "sc.pl.tsne(adata, color = color_group, show=False, wspace=.3)\n",
    "save_images('resnet_tsne_corrected',save_fig_dir) \n",
    "\n",
    "sc.pl.umap(adata, color = color_group, show=False)\n",
    "save_images('resnet_umap_corrected',save_fig_dir)"
   ]
  },
  {
   "cell_type": "code",
   "execution_count": 81,
   "metadata": {},
   "outputs": [
    {
     "name": "stdout",
     "output_type": "stream",
     "text": [
      "/acrc/jinmiao/CJM_lab/hoatran/demo_normalization/demo_ResNet/resnet/results/results_dataset4_pancreatic/\n"
     ]
    }
   ],
   "source": [
    "print(save_dir)\n",
    "adata.write_h5ad(os.path.join(save_dir,'resnet_pca_corrected.h5ad'))"
   ]
  },
  {
   "cell_type": "code",
   "execution_count": 82,
   "metadata": {},
   "outputs": [
    {
     "name": "stdout",
     "output_type": "stream",
     "text": [
      "AnnData object with n_obs × n_vars = 14767 × 15558 \n",
      "    obs: 'cell_type', 'batch', 'batchlb', 'n_genes', 'n_counts'\n",
      "    var: 'n_cells'\n",
      "    uns: 'pca', 'neighbors', 'batchlb_colors', 'cell_type_colors'\n",
      "    obsm: 'X_pca', 'X_tsne', 'X_umap'\n",
      "    varm: 'PCs'\n"
     ]
    }
   ],
   "source": [
    "# Save output of umap for visualization\n",
    "import pandas as pd\n",
    "print(adata)\n",
    "# pca_corrected\n",
    "utils.save_output_txt(adata, save_dir)"
   ]
  },
  {
   "cell_type": "code",
   "execution_count": 83,
   "metadata": {},
   "outputs": [
    {
     "name": "stdout",
     "output_type": "stream",
     "text": [
      "Took seconds: 0:15:33\n",
      "Took minutes: (15.0, 33.029481649398804)\n",
      "Took hours_minutes_seconds:  0.0 15.0 33.029481649398804\n",
      "               use_case exetime_secs exetimehours exetimemins exetimesecs\n",
      "exetime  resnet_exetime          933          0.0        15.0          33\n"
     ]
    }
   ],
   "source": [
    "# Save execution time to file for evaluation   \n",
    "# Evaluation runtime of main batch effect removal function\n",
    "filename = 'resnet_exetime.csv'\n",
    "usecase_name = 'resnet_exetime' \n",
    "utils.getExecutionTime(t21, t22, t31, t32, t41, t42, t51, t52, save_dir, usecase_name, filename)  # t1: start time, t2: end time       "
   ]
  },
  {
   "cell_type": "code",
   "execution_count": null,
   "metadata": {},
   "outputs": [],
   "source": []
  }
 ],
 "metadata": {
  "kernelspec": {
   "display_name": "Python 3",
   "language": "python",
   "name": "python3"
  },
  "language_info": {
   "codemirror_mode": {
    "name": "ipython",
    "version": 3
   },
   "file_extension": ".py",
   "mimetype": "text/x-python",
   "name": "python",
   "nbconvert_exporter": "python",
   "pygments_lexer": "ipython3",
   "version": "3.6.7"
  }
 },
 "nbformat": 4,
 "nbformat_minor": 2
}
