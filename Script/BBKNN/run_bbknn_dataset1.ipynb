{
 "cells": [
  {
   "cell_type": "code",
   "execution_count": 1,
   "metadata": {},
   "outputs": [
    {
     "name": "stdout",
     "output_type": "stream",
     "text": [
      "Install bbknn\n"
     ]
    }
   ],
   "source": [
    "# !pip3 install bbknn\n",
    "print('Install bbknn')"
   ]
  },
  {
   "cell_type": "code",
   "execution_count": 2,
   "metadata": {},
   "outputs": [
    {
     "name": "stdout",
     "output_type": "stream",
     "text": [
      "scanpy==1.4 anndata==0.6.18 numpy==1.16.2 scipy==1.1.0 pandas==0.23.4 scikit-learn==0.20.3 statsmodels==0.9.0 python-igraph==0.7.1 louvain==0.6.1 \n"
     ]
    }
   ],
   "source": [
    "import numpy as np\n",
    "import bbknn\n",
    "# import pandas as pd\n",
    "import matplotlib.pyplot as pl\n",
    "from matplotlib import rcParams\n",
    "import scanpy as sc\n",
    "sc.settings.verbosity = 3  # verbosity: errors (0), warnings (1), info (2), hints (3)\n",
    "sc.logging.print_versions()"
   ]
  },
  {
   "cell_type": "code",
   "execution_count": 3,
   "metadata": {},
   "outputs": [
    {
     "name": "stdout",
     "output_type": "stream",
     "text": [
      "/data_n3/home/hoatran/python-workspace/dca_scGen\n"
     ]
    }
   ],
   "source": [
    "# Create folder to save the results \n",
    "import os\n",
    "dirname = os.getcwd()\n",
    "print(dirname)\n",
    "data_dir = os.path.join(dirname, './data/dataset1_uc3/')\n",
    "if not os.path.exists('./results/'): os.makedirs('./results/')\n",
    "save_dir = os.path.join(dirname, './results/')\n",
    "def save_images(basename):\n",
    "    if not os.path.exists('./figures/'): os.makedirs('./figures/')\n",
    "    outname = './figures/' + basename + '.png'\n",
    "    pl.savefig(outname, dpi=150)\n",
    "    pl.close()"
   ]
  },
  {
   "cell_type": "code",
   "execution_count": 4,
   "metadata": {},
   "outputs": [
    {
     "name": "stdout",
     "output_type": "stream",
     "text": [
      "filtered out 11 cells that have less than 300 genes expressed\n",
      "filtered out 9999 genes that are detected in less than 5 cells\n",
      "Read and filter data\n"
     ]
    },
    {
     "data": {
      "text/plain": [
       "AnnData object with n_obs × n_vars = 565 × 16594 \n",
       "    obs: 'cell_type', 'batch', 'n_genes'\n",
       "    var: 'n_cells'"
      ]
     },
     "execution_count": 4,
     "metadata": {},
     "output_type": "execute_result"
    }
   ],
   "source": [
    "# read data from read count text table, data from R: genes x cells\n",
    "# adata = sc.read_text(os.path.join(data_dir,'dataset1_sm_uc3.txt'),delimiter='\\t',first_column_names=True,dtype='float64')\n",
    "# print(adata)\n",
    "# print(len(adata.obs_names))\n",
    "# print(adata.var_names)\n",
    "# Read sample into a pandas series\n",
    "# sample_adata = pd.read_csv(os.path.join(data_dir,'sample_sm_uc3.txt'),header=0, index_col=0, sep='\\t')\n",
    "# print(sample_adata.values.shape)\n",
    "# print(sample_adata.keys())\n",
    "\n",
    "# Data have format genes x cells\n",
    "# But input for scanpy package require the format of cells x genes, samples x features\n",
    "# We need to copyt data into new adata object with inverse raw data \n",
    "# adata1 = sc.AnnData(adata.X.T)\n",
    "# adata1.var_names = adata.obs_names\n",
    "# adata1.obs_names = adata.var_names\n",
    "# adata1\n",
    "# Save label information into adata object, same idea as Seurat \n",
    "# adata1.obs['cell_type'] = sample_adata.loc[adata1.obs_names,['celltype']]\n",
    "# adata1.obs['batch'] = sample_adata.loc[adata1.obs_names,['batch']]\n",
    "# print(len(adata1.obs['cell_type']))\n",
    "# print(len(adata1.obs['batch']))\n",
    "# Save output into h5ad, easy to access \n",
    "# adata1.write_h5ad(os.path.join(data_dir,'dataset1_uc3.h5ad'))\n",
    "\n",
    "adata1 = sc.read_h5ad(os.path.join(data_dir,'dataset1_uc3.h5ad'))\n",
    "sc.pp.filter_cells(adata1, min_genes=300)\n",
    "sc.pp.filter_genes(adata1, min_cells=5)\n",
    "# adata1.write_h5ad(os.path.join(data_dir,'filtered_dataset1_uc3.h5ad'))\n",
    "print('Read and filter data')\n",
    "# adata = sc.read_h5ad(os.path.join(data_dir,'filtered_dataset1_uc3.h5ad'))\n",
    "adata1"
   ]
  },
  {
   "cell_type": "code",
   "execution_count": 5,
   "metadata": {},
   "outputs": [
    {
     "name": "stdout",
     "output_type": "stream",
     "text": [
      "computing neighbors\n",
      "    using 'X_pca' with n_pcs = 20\n",
      "    finished (0:00:03.79) --> added to `.uns['neighbors']`\n",
      "    'distances', distances for each pair of neighbors\n",
      "    'connectivities', weighted adjacency matrix\n"
     ]
    }
   ],
   "source": [
    "sc.pp.log1p(adata1)\n",
    "sc.pp.scale(adata1)\n",
    "sc.tl.pca(adata1, svd_solver='arpack')\n",
    "# sc.pp.neighbors(adata1,n_neighbors=10, n_pcs=20)"
   ]
  },
  {
   "cell_type": "code",
   "execution_count": 6,
   "metadata": {},
   "outputs": [
    {
     "name": "stdout",
     "output_type": "stream",
     "text": [
      "computing batch balanced neighbors\n",
      "WARNING: unrecognised metric for type of neighbor calculation, switching to euclidean\n",
      "    finished (0:00:02.97) --> added to `.uns['neighbors']`\n",
      "    'distances', weighted adjacency matrix\n",
      "    'connectivities', weighted adjacency matrix\n",
      "Took 0:00:03.047039\n"
     ]
    }
   ],
   "source": [
    "# BBKNN\n",
    "# input: batch vector in ann data\n",
    "\n",
    "import time\n",
    "from datetime import timedelta\n",
    "t1 = time.time()\n",
    "adata_bbknn = bbknn.bbknn(adata1, save_knn=True, copy=True, neighbors_within_batch=5,\n",
    "                          approx=False,trim=50)\n",
    "t2 = time.time()\n",
    "print('Took '+str(timedelta(seconds=t2-t1)))"
   ]
  },
  {
   "cell_type": "code",
   "execution_count": 18,
   "metadata": {},
   "outputs": [
    {
     "name": "stderr",
     "output_type": "stream",
     "text": [
      "writing '.csv' files to /data_n3/home/hoatran/python-workspace/dca_scGen/results/bbknn_results\n"
     ]
    }
   ],
   "source": [
    "sc.tl.pca(adata_bbknn, svd_solver='arpack',n_comps=20)\n",
    "print(adata_bbknn)\n",
    "adata_bbknn.obsm['X_pca'] *= -1  # multiply by -1 to match Seurat\n",
    "save_dir = os.path.join(dirname, './results/bbknn_results/')\n",
    "adata_bbknn.write_csvs(save_dir, skip_data=False)\n",
    "# adata_bbknn.write_h5ad(os.path.join(save_dir,'bbknn_dataset1_uc3.h5ad'))"
   ]
  },
  {
   "cell_type": "code",
   "execution_count": 8,
   "metadata": {},
   "outputs": [],
   "source": [
    "# Function to plot TSNE\n",
    "def plotTSNE(adata, color_group, n_pcs=20, perplexity=90, save_filename='tsne', use_repx = False):\n",
    "    #adata.var_names_make_unique()\n",
    "    if use_repx:\n",
    "        sc.tl.tsne(adata, random_state=0, n_pcs=n_pcs, perplexity=perplexity, use_rep='X')\n",
    "    else:    \n",
    "        sc.tl.tsne(adata, random_state=0, n_pcs=n_pcs, perplexity=perplexity)\n",
    "    sc.pl.tsne(adata, color = color_group, show=False, wspace=.3)\n",
    "    save_images(save_filename)     \n",
    "    \n",
    "    \n",
    "def plotUMAP(adata, color_group, save_filename, use_repx = False):\n",
    "    \n",
    "    if use_repx:\n",
    "        sc.pp.neighbors(adata, use_rep='X')\n",
    "    else:    \n",
    "        sc.pp.neighbors(adata,n_neighbors=10, n_pcs=20)\n",
    "        \n",
    "    sc.tl.umap(adata)\n",
    "    sc.pl.umap(adata, color = color_group, show=False)\n",
    "    save_images(save_filename) \n",
    "    "
   ]
  },
  {
   "cell_type": "code",
   "execution_count": 9,
   "metadata": {},
   "outputs": [
    {
     "name": "stdout",
     "output_type": "stream",
     "text": [
      "running Louvain clustering\n",
      "    using the \"louvain\" package of Traag (2017)\n",
      "    finished (0:00:00.07) --> found 5 clusters and added\n",
      "    'louvain', the cluster labels (adata.obs, categorical)\n",
      "computing neighbors\n",
      "    using 'X_pca' with n_pcs = 20\n",
      "    finished (0:00:00.15) --> added to `.uns['neighbors']`\n",
      "    'distances', distances for each pair of neighbors\n",
      "    'connectivities', weighted adjacency matrix\n",
      "computing UMAP\n",
      "    finished (0:00:02.18) --> added\n",
      "    'X_umap', UMAP coordinates (adata.obsm)\n",
      "computing tSNE\n",
      "    using 'X_pca' with n_pcs = 20\n",
      "    using the 'MulticoreTSNE' package by Ulyanov (2017)\n",
      "    finished (0:00:03.98) --> added\n",
      "    'X_tsne', tSNE coordinates (adata.obsm)\n"
     ]
    }
   ],
   "source": [
    "# Visualization\n",
    "# sc.tl.umap(adata_bbknn)\n",
    "sc.tl.louvain(adata_bbknn)\n",
    "# sc.pl.umap(adata_bbknn, color=['batch','cell_type',\"louvain\"])\n",
    "color_group = [\"batch\",\"cell_type\"]\n",
    "plotUMAP(adata_bbknn, color_group, 'bbknn_umap_corrected_dataset1_uc3')\n",
    "plotTSNE(adata_bbknn, color_group, 20, 90, 'bbknn_tsne_corrected_dataset1_uc3')"
   ]
  },
  {
   "cell_type": "code",
   "execution_count": null,
   "metadata": {},
   "outputs": [],
   "source": [
    "# Visualization\n",
    "print(adata_bbknn)\n",
    "colnu = []\n",
    "for i in range(adata_bbknn.obsm['X_umap'].shape[1]):\n",
    "    colnu.append(\"UMAP\"+str(i+1))\n",
    "df = pd.DataFrame(adata_bbknn.obsm['X_umap'], columns=colnu, index=adata_bbknn.obs_names)\n",
    "df['batch'] = pd.Series(adata_bbknn.obs['batch'], index=adata_bbknn.obs_names)\n",
    "df['celltype'] = pd.Series(adata_bbknn.obs['cell_type'], index=adata_bbknn.obs_names)\n",
    "df.to_csv(bdir_name+'bbknn_umap.csv')"
   ]
  },
  {
   "cell_type": "code",
   "execution_count": null,
   "metadata": {},
   "outputs": [],
   "source": [
    "# ASW \n",
    "def write_to_csv(mat, genesname, cellsname, filename, save_dir):\n",
    "    if isinstance(mat, np.ndarray):\n",
    "        df = pd.DataFrame(mat, columns=genesname, index=cellsname)\n",
    "    else:\n",
    "        df = pd.DataFrame(mat.toarray(), columns=genesname, index=cellsname)        \n",
    "    \n",
    "    df.to_csv(save_dir+filename)  \n",
    "    \n",
    "filename = 'bbknn_pca.csv'\n",
    "coln_pca = []\n",
    "for i in range(adata_bbknn.obsm['X_pca'].shape[1]):\n",
    "    coln_pca.append(\"X_pca\"+str(i+1))\n",
    "    \n",
    "\n",
    "write_to_csv(adata_bbknn.obsm['X_pca'], coln_pca, adata_bbknn.obs_names,filename, save_dir)"
   ]
  },
  {
   "cell_type": "code",
   "execution_count": 10,
   "metadata": {},
   "outputs": [
    {
     "name": "stdout",
     "output_type": "stream",
     "text": [
      "Cell id: 10 in  Batch1 pDC_P10_S83\n",
      "Gene expression values before scanorama:\n",
      "# of observations: 16594\n",
      "min: 0\n",
      "max: 38470\n",
      "mean: 60.2\n",
      "[ 4.34  0.    7.49 ...  0.   98.93  0.  ]\n",
      "Cell id: 10 in  Batch1 pDC_P10_S83\n",
      "Gene expression values after scanorama:\n",
      "[ 4.34  0.    7.49 ...  0.   98.93  0.  ]\n",
      "# of observations: 16594\n",
      "min: 0\n",
      "max: 38470\n",
      "mean: 60.2\n"
     ]
    }
   ],
   "source": [
    "# Check the changement of values before scGen and after batch correction using scGen \n",
    "import scipy.stats as st\n",
    "def describe_data(adata, ax, indx):    \n",
    "    desc = st.describe(adata.X[indx], axis=ax)\n",
    "    print('# of observations:', desc.nobs)\n",
    "    print('min: %d\\nmax: %d' % desc.minmax)\n",
    "    print('mean: %.1f' % desc.mean)\n",
    "    \n",
    "# Get one cell from batch 1, check the values before normalization and after   \n",
    "print(\"Cell id: 10 in \",adata1.obs['batch'][10],adata1.obs_names[10])\n",
    "print(\"Gene expression values before scanorama:\")\n",
    "describe_data(adata1, 0, 10) #cell id 10 in batch 1\n",
    "print(adata1.X[10])\n",
    "print(\"Cell id: 10 in \",adata_bbknn.obs['batch'][10],adata_bbknn.obs_names[10])\n",
    "print(\"Gene expression values after scanorama:\")\n",
    "print(adata_bbknn.X[10])\n",
    "describe_data(adata_bbknn, 0, 10) #cell id 10 in batch 1"
   ]
  },
  {
   "cell_type": "code",
   "execution_count": 11,
   "metadata": {},
   "outputs": [
    {
     "name": "stdout",
     "output_type": "stream",
     "text": [
      "Cell id: 500 in  Batch2 CD1C_P14_S78\n",
      "Gene expression values before scanorama:\n",
      "# of observations: 16594\n",
      "min: 0\n",
      "max: 135216\n",
      "mean: 60.2\n",
      "[0. 0. 0. ... 0. 0. 0.]\n",
      "Cell id: 500 in  Batch2 CD1C_P14_S78\n",
      "Gene expression values after scanorama:\n",
      "[0. 0. 0. ... 0. 0. 0.]\n",
      "# of observations: 16594\n",
      "min: 0\n",
      "max: 135216\n",
      "mean: 60.2\n"
     ]
    }
   ],
   "source": [
    "# Get one cell from batch 1, check the values before normalization and after   \n",
    "print(\"Cell id: 500 in \",adata1.obs['batch'][500],adata1.obs_names[500])\n",
    "print(\"Gene expression values before scanorama:\")\n",
    "describe_data(adata1, 0, 500) #cell id 10 in batch 1\n",
    "print(adata1.X[500])\n",
    "print(\"Cell id: 500 in \",adata_bbknn.obs['batch'][500],adata_bbknn.obs_names[500])\n",
    "print(\"Gene expression values after scanorama:\")\n",
    "print(adata_bbknn.X[500])\n",
    "describe_data(adata_bbknn, 0, 500) #cell id 10 in batch "
   ]
  },
  {
   "cell_type": "code",
   "execution_count": 12,
   "metadata": {},
   "outputs": [],
   "source": [
    "# adata_bbknn.X[1:10,1:10]"
   ]
  },
  {
   "cell_type": "code",
   "execution_count": 13,
   "metadata": {},
   "outputs": [],
   "source": [
    "# adata.X[1:10,1:10]"
   ]
  },
  {
   "cell_type": "code",
   "execution_count": 14,
   "metadata": {},
   "outputs": [
    {
     "name": "stdout",
     "output_type": "stream",
     "text": [
      "0.17044699\n",
      "0.17044693\n"
     ]
    }
   ],
   "source": [
    "# Compute the silhouette coefficient score, compare the batch mixing level of filtered data and normalized data\n",
    "from sklearn.metrics import silhouette_score\n",
    "import seaborn as sns\n",
    "sil_orig = silhouette_score(adata1.obsm.X_pca[:, :20], adata1.obs['batch'])\n",
    "print(np.median(sil_orig))\n",
    "# sil_true = silhouette_score(corrected_adata.obsm.X_pca[:, :2], adata_true.obs.Group)\n",
    "sil_corr = silhouette_score(adata_bbknn.obsm.X_pca[:, :20], adata_bbknn.obs['batch'])\n",
    "print(np.median(sil_corr))\n",
    "sns.barplot(x=['Filtered', 'BBKNN-Normalized'], y=[sil_orig, sil_corr])\n",
    "pl.title('Silhouette Coeff Batch BBKNN')\n",
    "save_images('bbknn_silhouette_coeff_batch_label') "
   ]
  },
  {
   "cell_type": "code",
   "execution_count": 15,
   "metadata": {},
   "outputs": [
    {
     "name": "stdout",
     "output_type": "stream",
     "text": [
      "computing batch balanced neighbors\n",
      "    finished (0:00:00.16) "
     ]
    }
   ],
   "source": [
    "distances, connectivities = bbknn.bbknn_pca_matrix(adata1.obsm.X_pca[:, :20], adata1.obs['batch'])"
   ]
  },
  {
   "cell_type": "code",
   "execution_count": 16,
   "metadata": {},
   "outputs": [
    {
     "data": {
      "text/plain": [
       "<4x4 sparse matrix of type '<class 'numpy.float64'>'\n",
       "\twith 0 stored elements in Compressed Sparse Row format>"
      ]
     },
     "execution_count": 16,
     "metadata": {},
     "output_type": "execute_result"
    }
   ],
   "source": [
    "distances[1:5,1:5]"
   ]
  },
  {
   "cell_type": "code",
   "execution_count": 17,
   "metadata": {},
   "outputs": [],
   "source": [
    "?bbknn.bbknn"
   ]
  },
  {
   "cell_type": "code",
   "execution_count": null,
   "metadata": {},
   "outputs": [],
   "source": []
  }
 ],
 "metadata": {
  "kernelspec": {
   "display_name": "Python 3",
   "language": "python",
   "name": "python3"
  },
  "language_info": {
   "codemirror_mode": {
    "name": "ipython",
    "version": 3
   },
   "file_extension": ".py",
   "mimetype": "text/x-python",
   "name": "python",
   "nbconvert_exporter": "python",
   "pygments_lexer": "ipython3",
   "version": "3.6.6"
  }
 },
 "nbformat": 4,
 "nbformat_minor": 2
}
