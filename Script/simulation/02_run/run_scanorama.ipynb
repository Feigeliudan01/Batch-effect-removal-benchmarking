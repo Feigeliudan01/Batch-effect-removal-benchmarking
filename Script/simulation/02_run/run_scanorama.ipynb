{
 "cells": [
  {
   "cell_type": "code",
   "execution_count": 12,
   "metadata": {},
   "outputs": [],
   "source": [
    "import numpy as np\n",
    "import scanorama\n",
    "import pandas as pd\n",
    "import matplotlib.pyplot as pl\n",
    "from matplotlib import rcParams\n",
    "import scanpy as sc\n",
    "import os"
   ]
  },
  {
   "cell_type": "code",
   "execution_count": 13,
   "metadata": {},
   "outputs": [],
   "source": [
    "from scanorama import correct, visualize, process_data\n",
    "from scanorama import dimensionality_reduce"
   ]
  },
  {
   "cell_type": "code",
   "execution_count": 14,
   "metadata": {},
   "outputs": [],
   "source": [
    "def plotTSNE(adata, color_group, n_pcs=20, perplexity=90, save_filename='tsne', use_repx = False):\n",
    "    #adata.var_names_make_unique()\n",
    "    if use_repx:\n",
    "        sc.tl.tsne(adata, random_state=0, n_pcs=n_pcs, perplexity=perplexity, use_rep='X')\n",
    "    else:    \n",
    "        sc.tl.tsne(adata, random_state=0, n_pcs=n_pcs, perplexity=perplexity)\n",
    "    sc.pl.tsne(adata, color = color_group, show=False, wspace=.4)\n",
    "    save_images(save_filename) "
   ]
  },
  {
   "cell_type": "code",
   "execution_count": 15,
   "metadata": {},
   "outputs": [],
   "source": [
    "def write_to_csv(mat, genesname, cellsname, filename, save_dir):\n",
    "    if isinstance(mat, np.ndarray):\n",
    "        df = pd.DataFrame(mat, columns=genesname, index=cellsname)\n",
    "    else:\n",
    "        df = pd.DataFrame(mat.toarray(), columns=genesname, index=cellsname)        \n",
    "    \n",
    "    df.to_csv(os.path.join(save_dir,filename))"
   ]
  },
  {
   "cell_type": "code",
   "execution_count": 16,
   "metadata": {},
   "outputs": [],
   "source": [
    "# Function to save figure into image in the figures folder\n",
    "def save_images(basename):\n",
    "    outname = os.path.join(save_dir, basename + '.png')\n",
    "    pl.savefig(outname, dpi=150)\n",
    "    pl.close()"
   ]
  },
  {
   "cell_type": "code",
   "execution_count": 17,
   "metadata": {},
   "outputs": [
    {
     "name": "stdout",
     "output_type": "stream",
     "text": [
      "/acrc/jinmiao/CJM_lab/Marion/Project/demo_scanorama/\n",
      "/acrc/jinmiao/CJM_lab/Marion/Project/data/\n"
     ]
    }
   ],
   "source": [
    "dirname = '/acrc/jinmiao/CJM_lab/Marion/Project/Hoa_batch_normalization/simulation_dataset_V3/demo_scanorama/'\n",
    "print(dirname)\n",
    "data_dir = '/acrc/jinmiao/CJM_lab/Marion/Project/Hoa_batch_normalization/simulation_dataset_V3/data/'\n",
    "print(data_dir)\n",
    "\n",
    "simulation = ['simul1_dropout_005_b1_500_b2_900', 'simul2_dropout_025_b1_500_b2_900', 'simul3_dropout_005_b1_500_b2_450','simul4_dropout_025_b1_500_b2_450','simul5_dropout_005_b1_80_b2_400','simul6_dropout_025_b1_80_b2_400']\n",
    "counts = ['all', 'HVG']"
   ]
  },
  {
   "cell_type": "code",
   "execution_count": 18,
   "metadata": {},
   "outputs": [
    {
     "name": "stdout",
     "output_type": "stream",
     "text": [
      "simul1_dropout_005_b1_500_b2_900\n",
      "all\n",
      "AnnData object with n_obs × n_vars = 1400 × 5000 \n",
      "Index(['Cell1', 'Cell2', 'Cell3'], dtype='object')\n",
      "Index(['Gene1', 'Gene2', 'Gene3'], dtype='object')\n",
      "(1400, 4)\n",
      "Index(['Cell', 'Batch', 'Group', 'ExpLibSize'], dtype='object')\n",
      "1400\n",
      "1400\n",
      "AnnData object with n_obs × n_vars = 500 × 5000 \n",
      "    obs: 'cell_type', 'batch'\n",
      "AnnData object with n_obs × n_vars = 900 × 5000 \n",
      "    obs: 'cell_type', 'batch'\n",
      "Found 5000 genes among all datasets\n",
      "[[0.    0.712]\n",
      " [0.    0.   ]]\n",
      "Processing datasets (0, 1)\n",
      "AnnData object with n_obs × n_vars = 1400 × 5000 \n"
     ]
    },
    {
     "name": "stderr",
     "output_type": "stream",
     "text": [
      "... storing 'cell_type' as categorical\n"
     ]
    },
    {
     "name": "stdout",
     "output_type": "stream",
     "text": [
      "HVG\n",
      "AnnData object with n_obs × n_vars = 1400 × 712 \n",
      "Index(['Cell1', 'Cell2', 'Cell3'], dtype='object')\n",
      "Index(['Gene3', 'Gene24', 'Gene25'], dtype='object')\n",
      "(1400, 4)\n",
      "Index(['Cell', 'Batch', 'Group', 'ExpLibSize'], dtype='object')\n",
      "1400\n",
      "1400\n",
      "AnnData object with n_obs × n_vars = 500 × 712 \n",
      "    obs: 'cell_type', 'batch'\n",
      "AnnData object with n_obs × n_vars = 900 × 712 \n",
      "    obs: 'cell_type', 'batch'\n",
      "Found 712 genes among all datasets\n",
      "[[0.    0.786]\n",
      " [0.    0.   ]]\n",
      "Processing datasets (0, 1)\n",
      "AnnData object with n_obs × n_vars = 1400 × 712 \n"
     ]
    },
    {
     "name": "stderr",
     "output_type": "stream",
     "text": [
      "... storing 'cell_type' as categorical\n"
     ]
    },
    {
     "name": "stdout",
     "output_type": "stream",
     "text": [
      "simul2_dropout_025_b1_500_b2_900\n",
      "all\n",
      "AnnData object with n_obs × n_vars = 1400 × 5000 \n",
      "Index(['Cell1', 'Cell2', 'Cell3'], dtype='object')\n",
      "Index(['Gene1', 'Gene2', 'Gene3'], dtype='object')\n",
      "(1400, 4)\n",
      "Index(['Cell', 'Batch', 'Group', 'ExpLibSize'], dtype='object')\n",
      "1400\n",
      "1400\n",
      "AnnData object with n_obs × n_vars = 500 × 5000 \n",
      "    obs: 'cell_type', 'batch'\n",
      "AnnData object with n_obs × n_vars = 900 × 5000 \n",
      "    obs: 'cell_type', 'batch'\n",
      "Found 5000 genes among all datasets\n",
      "[[0.    0.724]\n",
      " [0.    0.   ]]\n",
      "Processing datasets (0, 1)\n",
      "AnnData object with n_obs × n_vars = 1400 × 5000 \n"
     ]
    },
    {
     "name": "stderr",
     "output_type": "stream",
     "text": [
      "... storing 'cell_type' as categorical\n"
     ]
    },
    {
     "name": "stdout",
     "output_type": "stream",
     "text": [
      "HVG\n",
      "AnnData object with n_obs × n_vars = 1400 × 740 \n",
      "Index(['Cell1', 'Cell2', 'Cell3'], dtype='object')\n",
      "Index(['Gene3', 'Gene24', 'Gene25'], dtype='object')\n",
      "(1400, 4)\n",
      "Index(['Cell', 'Batch', 'Group', 'ExpLibSize'], dtype='object')\n",
      "1400\n",
      "1400\n",
      "AnnData object with n_obs × n_vars = 500 × 740 \n",
      "    obs: 'cell_type', 'batch'\n",
      "AnnData object with n_obs × n_vars = 900 × 740 \n",
      "    obs: 'cell_type', 'batch'\n",
      "Found 740 genes among all datasets\n",
      "[[0.    0.816]\n",
      " [0.    0.   ]]\n",
      "Processing datasets (0, 1)\n",
      "AnnData object with n_obs × n_vars = 1400 × 740 \n"
     ]
    },
    {
     "name": "stderr",
     "output_type": "stream",
     "text": [
      "... storing 'cell_type' as categorical\n"
     ]
    },
    {
     "name": "stdout",
     "output_type": "stream",
     "text": [
      "simul3_dropout_005_b1_500_b2_450\n",
      "all\n",
      "AnnData object with n_obs × n_vars = 950 × 5000 \n",
      "Index(['Cell1', 'Cell2', 'Cell3'], dtype='object')\n",
      "Index(['Gene1', 'Gene2', 'Gene3'], dtype='object')\n",
      "(950, 4)\n",
      "Index(['Cell', 'Batch', 'Group', 'ExpLibSize'], dtype='object')\n",
      "950\n",
      "950\n",
      "AnnData object with n_obs × n_vars = 500 × 5000 \n",
      "    obs: 'cell_type', 'batch'\n",
      "AnnData object with n_obs × n_vars = 450 × 5000 \n",
      "    obs: 'cell_type', 'batch'\n",
      "Found 5000 genes among all datasets\n",
      "[[0.         0.79555556]\n",
      " [0.         0.        ]]\n",
      "Processing datasets (0, 1)\n",
      "AnnData object with n_obs × n_vars = 950 × 5000 \n"
     ]
    },
    {
     "name": "stderr",
     "output_type": "stream",
     "text": [
      "... storing 'cell_type' as categorical\n"
     ]
    },
    {
     "name": "stdout",
     "output_type": "stream",
     "text": [
      "HVG\n",
      "AnnData object with n_obs × n_vars = 950 × 699 \n",
      "Index(['Cell1', 'Cell2', 'Cell3'], dtype='object')\n",
      "Index(['Gene9', 'Gene15', 'Gene20'], dtype='object')\n",
      "(950, 4)\n",
      "Index(['Cell', 'Batch', 'Group', 'ExpLibSize'], dtype='object')\n",
      "950\n",
      "950\n",
      "AnnData object with n_obs × n_vars = 500 × 699 \n",
      "    obs: 'cell_type', 'batch'\n",
      "AnnData object with n_obs × n_vars = 450 × 699 \n",
      "    obs: 'cell_type', 'batch'\n",
      "Found 699 genes among all datasets\n",
      "[[0.         0.74444444]\n",
      " [0.         0.        ]]\n",
      "Processing datasets (0, 1)\n",
      "AnnData object with n_obs × n_vars = 950 × 699 \n"
     ]
    },
    {
     "name": "stderr",
     "output_type": "stream",
     "text": [
      "... storing 'cell_type' as categorical\n"
     ]
    },
    {
     "name": "stdout",
     "output_type": "stream",
     "text": [
      "simul4_dropout_025_b1_500_b2_450\n",
      "all\n",
      "AnnData object with n_obs × n_vars = 950 × 5000 \n",
      "Index(['Cell1', 'Cell2', 'Cell3'], dtype='object')\n",
      "Index(['Gene1', 'Gene2', 'Gene3'], dtype='object')\n",
      "(950, 4)\n",
      "Index(['Cell', 'Batch', 'Group', 'ExpLibSize'], dtype='object')\n",
      "950\n",
      "950\n",
      "AnnData object with n_obs × n_vars = 500 × 5000 \n",
      "    obs: 'cell_type', 'batch'\n",
      "AnnData object with n_obs × n_vars = 450 × 5000 \n",
      "    obs: 'cell_type', 'batch'\n",
      "Found 5000 genes among all datasets\n",
      "[[0.         0.85333333]\n",
      " [0.         0.        ]]\n",
      "Processing datasets (0, 1)\n",
      "AnnData object with n_obs × n_vars = 950 × 5000 \n"
     ]
    },
    {
     "name": "stderr",
     "output_type": "stream",
     "text": [
      "... storing 'cell_type' as categorical\n"
     ]
    },
    {
     "name": "stdout",
     "output_type": "stream",
     "text": [
      "HVG\n",
      "AnnData object with n_obs × n_vars = 950 × 720 \n",
      "Index(['Cell1', 'Cell2', 'Cell3'], dtype='object')\n",
      "Index(['Gene9', 'Gene15', 'Gene20'], dtype='object')\n",
      "(950, 4)\n",
      "Index(['Cell', 'Batch', 'Group', 'ExpLibSize'], dtype='object')\n",
      "950\n",
      "950\n",
      "AnnData object with n_obs × n_vars = 500 × 720 \n",
      "    obs: 'cell_type', 'batch'\n",
      "AnnData object with n_obs × n_vars = 450 × 720 \n",
      "    obs: 'cell_type', 'batch'\n",
      "Found 720 genes among all datasets\n",
      "[[0.         0.75111111]\n",
      " [0.         0.        ]]\n",
      "Processing datasets (0, 1)\n",
      "AnnData object with n_obs × n_vars = 950 × 720 \n"
     ]
    },
    {
     "name": "stderr",
     "output_type": "stream",
     "text": [
      "... storing 'cell_type' as categorical\n"
     ]
    },
    {
     "name": "stdout",
     "output_type": "stream",
     "text": [
      "simul5_dropout_005_b1_80_b2_400\n",
      "all\n",
      "AnnData object with n_obs × n_vars = 480 × 5000 \n",
      "Index(['Cell1', 'Cell2', 'Cell3'], dtype='object')\n",
      "Index(['Gene1', 'Gene2', 'Gene3'], dtype='object')\n",
      "(480, 4)\n",
      "Index(['Cell', 'Batch', 'Group', 'ExpLibSize'], dtype='object')\n",
      "480\n",
      "480\n",
      "AnnData object with n_obs × n_vars = 80 × 5000 \n",
      "    obs: 'cell_type', 'batch'\n",
      "AnnData object with n_obs × n_vars = 400 × 5000 \n",
      "    obs: 'cell_type', 'batch'\n",
      "Found 5000 genes among all datasets\n",
      "[[0.     0.9875]\n",
      " [0.     0.    ]]\n",
      "Processing datasets (0, 1)\n",
      "AnnData object with n_obs × n_vars = 480 × 5000 \n"
     ]
    },
    {
     "name": "stderr",
     "output_type": "stream",
     "text": [
      "... storing 'cell_type' as categorical\n"
     ]
    },
    {
     "name": "stdout",
     "output_type": "stream",
     "text": [
      "HVG\n",
      "AnnData object with n_obs × n_vars = 480 × 647 \n",
      "Index(['Cell1', 'Cell2', 'Cell3'], dtype='object')\n",
      "Index(['Gene2', 'Gene13', 'Gene32'], dtype='object')\n",
      "(480, 4)\n",
      "Index(['Cell', 'Batch', 'Group', 'ExpLibSize'], dtype='object')\n",
      "480\n",
      "480\n",
      "AnnData object with n_obs × n_vars = 80 × 647 \n",
      "    obs: 'cell_type', 'batch'\n",
      "AnnData object with n_obs × n_vars = 400 × 647 \n",
      "    obs: 'cell_type', 'batch'\n",
      "Found 647 genes among all datasets\n",
      "[[0.   0.95]\n",
      " [0.   0.  ]]\n",
      "Processing datasets (0, 1)\n",
      "AnnData object with n_obs × n_vars = 480 × 647 \n"
     ]
    },
    {
     "name": "stderr",
     "output_type": "stream",
     "text": [
      "... storing 'cell_type' as categorical\n"
     ]
    },
    {
     "name": "stdout",
     "output_type": "stream",
     "text": [
      "simul6_dropout_025_b1_80_b2_400\n",
      "all\n",
      "AnnData object with n_obs × n_vars = 480 × 5000 \n",
      "Index(['Cell1', 'Cell2', 'Cell3'], dtype='object')\n",
      "Index(['Gene1', 'Gene2', 'Gene3'], dtype='object')\n",
      "(480, 4)\n",
      "Index(['Cell', 'Batch', 'Group', 'ExpLibSize'], dtype='object')\n",
      "480\n",
      "480\n",
      "AnnData object with n_obs × n_vars = 80 × 5000 \n",
      "    obs: 'cell_type', 'batch'\n",
      "AnnData object with n_obs × n_vars = 400 × 5000 \n",
      "    obs: 'cell_type', 'batch'\n",
      "Found 5000 genes among all datasets\n",
      "[[0. 1.]\n",
      " [0. 0.]]\n",
      "Processing datasets (0, 1)\n",
      "AnnData object with n_obs × n_vars = 480 × 5000 \n"
     ]
    },
    {
     "name": "stderr",
     "output_type": "stream",
     "text": [
      "... storing 'cell_type' as categorical\n"
     ]
    },
    {
     "name": "stdout",
     "output_type": "stream",
     "text": [
      "HVG\n",
      "AnnData object with n_obs × n_vars = 480 × 676 \n",
      "Index(['Cell1', 'Cell2', 'Cell3'], dtype='object')\n",
      "Index(['Gene2', 'Gene13', 'Gene18'], dtype='object')\n",
      "(480, 4)\n",
      "Index(['Cell', 'Batch', 'Group', 'ExpLibSize'], dtype='object')\n",
      "480\n",
      "480\n",
      "AnnData object with n_obs × n_vars = 80 × 676 \n",
      "    obs: 'cell_type', 'batch'\n",
      "AnnData object with n_obs × n_vars = 400 × 676 \n",
      "    obs: 'cell_type', 'batch'\n",
      "Found 676 genes among all datasets\n",
      "[[0.    0.975]\n",
      " [0.    0.   ]]\n",
      "Processing datasets (0, 1)\n",
      "AnnData object with n_obs × n_vars = 480 × 676 \n"
     ]
    },
    {
     "name": "stderr",
     "output_type": "stream",
     "text": [
      "... storing 'cell_type' as categorical\n"
     ]
    }
   ],
   "source": [
    "for simu_name in simulation:\n",
    "    print(simu_name)\n",
    "    for genes in counts:\n",
    "        print(genes)\n",
    "\n",
    "        # Create folder to save the results \n",
    "        if not os.path.exists(os.path.join(dirname,simu_name)): os.makedirs(os.path.join(dirname,simu_name))\n",
    "        if not os.path.exists(os.path.join(dirname,simu_name,genes)): os.makedirs(os.path.join(dirname,simu_name,genes))\n",
    "        save_dir = os.path.join(dirname, simu_name, genes)\n",
    "\n",
    "        # read data \n",
    "        if genes=='HVG':\n",
    "            adata = pd.read_csv(os.path.join(data_dir,simu_name,'counts_HVG.txt'),sep='\\t',header=0, index_col=0)\n",
    "        else:\n",
    "            adata = pd.read_csv(os.path.join(data_dir,simu_name,'counts.txt'),sep='\\t',header=0, index_col=0)\n",
    "\n",
    "        # transform to Scanpy object\n",
    "        adata = sc.AnnData(adata)\n",
    "        print(adata)  \n",
    "        print(adata.obs_names[0:3])  # cells: observation\n",
    "        print(adata.var_names[0:3])  # genes: variable\n",
    "\n",
    "        # Read sample file, which contain celltype and batch info\n",
    "        sample_adata = pd.read_csv(os.path.join(data_dir,simu_name,'cellinfo.txt'),header=0, index_col=0, sep='\\t')\n",
    "        print(sample_adata.values.shape)\n",
    "        print(sample_adata.keys())\n",
    "\n",
    "        # Save label information into adata object\n",
    "        adata.obs['cell_type'] = sample_adata.loc[adata.obs_names,['Group']]\n",
    "        adata.obs['batch'] = sample_adata.loc[adata.obs_names,['Batch']]\n",
    "        print(len(adata.obs['cell_type']))\n",
    "        print(len(adata.obs['batch']))\n",
    "\n",
    "        # separate the object into two objects\n",
    "        #sc.pp.normalize_per_cell(adata, counts_per_cell_after=1e4)\n",
    "        #sc.pp.log1p(adata)\n",
    "        batch1 = adata[adata.obs['batch']=='Batch1',:].copy()\n",
    "        print(batch1)\n",
    "        batch2 = adata[adata.obs['batch']=='Batch2',:].copy()\n",
    "        print(batch2)\n",
    "\n",
    "        # scanorama run\n",
    "        adata_ls = [batch1, batch2]\n",
    "        corrected = scanorama.correct_scanpy(adata_ls,batch_size=30,return_dense=True, knn=10)\n",
    "        corrected_adata = sc.AnnData(np.concatenate([corrected[0].X, corrected[1].X]))\n",
    "        print(corrected_adata)\n",
    "        corrected_adata.var_names = adata.var_names\n",
    "        corrected_adata.obs_names = adata.obs_names\n",
    "        corrected_adata.obs = adata.obs\n",
    "\n",
    "        # run PCA\n",
    "        npcs = 20\n",
    "        sc.tl.pca(corrected_adata, svd_solver='arpack', n_comps=npcs)\n",
    "        corrected_adata.obsm['X_pca'] *= -1  # multiply by -1 to match Seurat\n",
    "        # sc.pp.neighbors(corrected_adata,n_neighbors=15, n_pcs=20)\n",
    "\n",
    "        # plot tSNE\n",
    "        # take into account only first 20 PCs vectors, important parameter, can affect the output\n",
    "        perplex = 30\n",
    "        color_group = [\"cell_type\",\"batch\"]    \n",
    "        corrected_adata.obs['batch']=corrected_adata.obs['batch'].astype('category')  # factor function in R\n",
    "        plotTSNE(corrected_adata, color_group, npcs, perplex, 'tsne_scanorama_corrected')  #npcs=20, perplex=90\n",
    "\n",
    "        #tSNE coordinates\n",
    "        colnt = []\n",
    "        for i in range(corrected_adata.obsm['X_tsne'].shape[1]):\n",
    "            colnt.append(\"tSNE_\"+str(i+1))\n",
    "        df = pd.DataFrame(corrected_adata.obsm['X_tsne'], columns=colnt, index=corrected_adata.obs_names)\n",
    "        df['batch'] = pd.Series(corrected_adata.obs['batch'], index=corrected_adata.obs_names)\n",
    "        df['celltype'] = pd.Series(corrected_adata.obs['cell_type'], index=corrected_adata.obs_names)\n",
    "        df.to_csv(os.path.join(save_dir,'scanorama_tsne.csv')) \n",
    "\n",
    "        # Save as h5ad format. Corrected data have same dimensions as input data \n",
    "        corrected_adata.write_h5ad(os.path.join(save_dir,'output.h5ad'))\n",
    "\n",
    "        # Write normalized data to csv file \n",
    "        filename = 'output.csv'\n",
    "        write_to_csv(corrected_adata.X, corrected_adata.var_names, corrected_adata.obs_names,filename, save_dir)"
   ]
  },
  {
   "cell_type": "code",
   "execution_count": null,
   "metadata": {},
   "outputs": [],
   "source": []
  }
 ],
 "metadata": {
  "kernelspec": {
   "display_name": "Python 3",
   "language": "python",
   "name": "python3"
  },
  "language_info": {
   "codemirror_mode": {
    "name": "ipython",
    "version": 3
   },
   "file_extension": ".py",
   "mimetype": "text/x-python",
   "name": "python",
   "nbconvert_exporter": "python",
   "pygments_lexer": "ipython3",
   "version": "3.6.7"
  }
 },
 "nbformat": 4,
 "nbformat_minor": 2
}
