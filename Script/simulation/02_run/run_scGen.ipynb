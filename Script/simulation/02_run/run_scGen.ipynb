{
 "cells": [
  {
   "cell_type": "code",
   "execution_count": 1,
   "metadata": {},
   "outputs": [
    {
     "name": "stdout",
     "output_type": "stream",
     "text": [
      "1.0.0\n",
      "scanpy==1.4.1 anndata==0.6.19 numpy==1.16.1 scipy==1.1.0 pandas==0.23.4 scikit-learn==0.20.0 statsmodels==0.8.0 python-igraph==0.7.1 louvain==0.6.1 \n"
     ]
    }
   ],
   "source": [
    "# Hoa Tran\n",
    "# !pip install scgen\n",
    "# More infos at: https://github.com/theislab/scGen\n",
    "# Import package \n",
    "# Main using package here is scanpy \n",
    "import scgen\n",
    "print(scgen.__version__)\n",
    "import numpy as np\n",
    "import pandas as pd\n",
    "import matplotlib.pyplot as pl\n",
    "from matplotlib import rcParams\n",
    "import scanpy as sc\n",
    "from scipy import sparse\n",
    "import anndata\n",
    "import os\n",
    "sc.settings.verbosity = 3  # verbosity: errors (0), warnings (1), info (2), hints (3)\n",
    "sc.logging.print_versions()\n",
    "# sc.settings.set_figure_params(dpi=300, frameon=False)  # low dpi (dots per inch) yields small inline figures"
   ]
  },
  {
   "cell_type": "code",
   "execution_count": 2,
   "metadata": {},
   "outputs": [],
   "source": [
    "def plotTSNE(adata, color_group, n_pcs=20, perplexity=90, save_filename='tsne', use_repx = False):\n",
    "    #adata.var_names_make_unique()\n",
    "    if use_repx:\n",
    "        sc.tl.tsne(adata, random_state=0, n_pcs=n_pcs, perplexity=perplexity, use_rep='X')\n",
    "    else:    \n",
    "        sc.tl.tsne(adata, random_state=0, n_pcs=n_pcs, perplexity=perplexity)\n",
    "    sc.pl.tsne(adata, color = color_group, show=False, wspace=.4)\n",
    "    save_images(save_filename) "
   ]
  },
  {
   "cell_type": "code",
   "execution_count": 3,
   "metadata": {},
   "outputs": [],
   "source": [
    "def write_to_csv(mat, genesname, cellsname, filename, save_dir):\n",
    "    if isinstance(mat, np.ndarray):\n",
    "        df = pd.DataFrame(mat, columns=genesname, index=cellsname)\n",
    "    else:\n",
    "        df = pd.DataFrame(mat.toarray(), columns=genesname, index=cellsname)        \n",
    "    \n",
    "    df.to_csv(os.path.join(save_dir,filename))"
   ]
  },
  {
   "cell_type": "code",
   "execution_count": 4,
   "metadata": {},
   "outputs": [],
   "source": [
    "# Function to save figure into image in the figures folder\n",
    "def save_images(basename):\n",
    "    outname = os.path.join(save_dir, basename + '.png')\n",
    "    pl.savefig(outname, dpi=150)\n",
    "    pl.close()"
   ]
  },
  {
   "cell_type": "code",
   "execution_count": 5,
   "metadata": {},
   "outputs": [],
   "source": [
    "#corrected_adata = scgen.batch_removal(network, total_ann)\n",
    "# !error\n",
    "\n",
    "# In case this function produce an output matrix without cells name, can not use for evaluation\n",
    "# replace batch_removal function by: batch_removal_v2\n",
    "# use a vector to keep cells name\n",
    "# Hoa Tran\n",
    "def batch_removal_v2(network, adata):\n",
    "    if sparse.issparse(adata.X):\n",
    "        latent_all = network.to_latent(adata.X.A)\n",
    "    else:\n",
    "        latent_all = network.to_latent(adata.X)\n",
    "    adata_latent = anndata.AnnData(latent_all)\n",
    "    adata_latent.obs[\"cell_type\"] = adata.obs[\"cell_type\"].tolist()\n",
    "    adata_latent.obs[\"batch\"] = adata.obs[\"batch\"].tolist()\n",
    "    adata_latent.obs[\"cell_name\"] = adata.obs[\"cell_name\"].tolist()   #Hoa keep cell name infos\n",
    "    unique_cell_types = np.unique(adata_latent.obs[\"cell_type\"])\n",
    "    shared_ct = []\n",
    "    not_shared_ct = []\n",
    "    for cell_type in unique_cell_types:\n",
    "        temp_cell = adata_latent[adata_latent.obs[\"cell_type\"] == cell_type]\n",
    "        if len(np.unique(temp_cell.obs[\"batch\"])) < 2:\n",
    "            cell_type_ann = adata_latent[adata_latent.obs[\"cell_type\"] == cell_type]\n",
    "            not_shared_ct.append(cell_type_ann)\n",
    "            continue\n",
    "        temp_cell = adata_latent[adata_latent.obs[\"cell_type\"] == cell_type]\n",
    "        batch_list = {}\n",
    "        batch_ind = {}\n",
    "        max_batch = 0\n",
    "        max_batch_ind = \"\"\n",
    "        batches = np.unique(temp_cell.obs[\"batch\"])\n",
    "        for i in batches:\n",
    "            temp = temp_cell[temp_cell.obs[\"batch\"] == i]\n",
    "            temp_ind = temp_cell.obs[\"batch\"] == i\n",
    "            if max_batch < len(temp):\n",
    "                max_batch = len(temp)\n",
    "                max_batch_ind = i\n",
    "            batch_list[i] = temp\n",
    "            batch_ind[i] = temp_ind\n",
    "        max_batch_ann = batch_list[max_batch_ind]\n",
    "        for study in batch_list:\n",
    "            delta = np.average(max_batch_ann.X, axis=0) - np.average(batch_list[study].X, axis=0)\n",
    "            batch_list[study].X = delta + batch_list[study].X\n",
    "            temp_cell[batch_ind[study]].X = batch_list[study].X\n",
    "        shared_ct.append(temp_cell)\n",
    "    all_shared_ann = anndata.AnnData.concatenate(*shared_ct, batch_key=\"concat_batch\")\n",
    "    del all_shared_ann.obs[\"concat_batch\"]\n",
    "    if len(not_shared_ct) < 1:\n",
    "        corrected = anndata.AnnData(network.reconstruct(all_shared_ann.X, use_data=True))\n",
    "        corrected.obs[\"cell_type\"] = all_shared_ann.obs[\"cell_type\"].tolist()\n",
    "        corrected.obs[\"batch\"] = all_shared_ann.obs[\"batch\"].tolist()\n",
    "        corrected.obs[\"cell_name\"] = all_shared_ann.obs[\"cell_name\"].tolist() #Hoa keep cell name infos\n",
    "        corrected.var_names = adata.var_names.tolist()\n",
    "        corrected.obs_names = corrected.obs['cell_name'] #Hoa assign cell name infos\n",
    "        return corrected\n",
    "    else:\n",
    "        all_not_shared_ann = anndata.AnnData.concatenate(*not_shared_ct, batch_key=\"concat_batch\")\n",
    "        all_corrected_data = anndata.AnnData.concatenate(all_shared_ann, all_not_shared_ann, batch_key=\"concat_batch\")\n",
    "        del all_corrected_data.obs[\"concat_batch\"]\n",
    "        corrected = anndata.AnnData(network.reconstruct(all_corrected_data.X, use_data=True), )\n",
    "        corrected.obs[\"cell_type\"] = all_shared_ann.obs[\"cell_type\"].tolist() + all_not_shared_ann.obs[\n",
    "            \"cell_type\"].tolist()\n",
    "        corrected.obs[\"batch\"] = all_shared_ann.obs[\"batch\"].tolist() + all_not_shared_ann.obs[\"batch\"].tolist()\n",
    "        corrected.obs[\"cell_name\"] = all_shared_ann.obs[\"cell_name\"].tolist() + all_not_shared_ann.obs[\n",
    "            \"cell_name\"].tolist()     #Hoa keep cell name infos\n",
    "        corrected.var_names = adata.var_names.tolist()\n",
    "        corrected.obs_names = corrected.obs['cell_name'] #Hoa assign cell name infos to obs_names\n",
    "        return corrected"
   ]
  },
  {
   "cell_type": "code",
   "execution_count": 6,
   "metadata": {},
   "outputs": [
    {
     "name": "stdout",
     "output_type": "stream",
     "text": [
      "/acrc/jinmiao/CJM_lab/Marion/Project/demo_scGen/\n",
      "/acrc/jinmiao/CJM_lab/Marion/Project/data/\n"
     ]
    }
   ],
   "source": [
    "dirname = '/acrc/jinmiao/CJM_lab/Marion/Project/demo_scGen/'\n",
    "#dirname = '/acrc/jinmiao/CJM_lab/Marion/Project/Hoa_batch_normalization/simulation_dataset_V3/demo_scGen/'\n",
    "print(dirname)\n",
    "data_dir = '/acrc/jinmiao/CJM_lab/Marion/Project/data/'\n",
    "#data_dir = '/acrc/jinmiao/CJM_lab/Marion/Project/Hoa_batch_normalization/simulation_dataset_V3/data/'\n",
    "print(data_dir)\n",
    "\n",
    "simulation = ['simul1_dropout_005_b1_500_b2_900', 'simul2_dropout_025_b1_500_b2_900', 'simul3_dropout_005_b1_500_b2_450','simul4_dropout_025_b1_500_b2_450','simul5_dropout_005_b1_80_b2_400','simul6_dropout_025_b1_80_b2_400']\n",
    "counts = ['all', 'HVG']"
   ]
  },
  {
   "cell_type": "code",
   "execution_count": 7,
   "metadata": {},
   "outputs": [
    {
     "name": "stdout",
     "output_type": "stream",
     "text": [
      "simul1_dropout_005_b1_500_b2_900\n",
      "all\n",
      "AnnData object with n_obs × n_vars = 1400 × 5000 \n",
      "Index(['Cell1', 'Cell2', 'Cell3'], dtype='object')\n",
      "Index(['Gene1', 'Gene2', 'Gene3'], dtype='object')\n",
      "(1400, 4)\n",
      "Index(['Cell', 'Batch', 'Group', 'ExpLibSize'], dtype='object')\n",
      "1400\n",
      "1400\n",
      "Create a network\n",
      "WARNING:tensorflow:From /tools/anaconda3/envs/marion/lib/python3.6/site-packages/tensorflow/python/framework/op_def_library.py:263: colocate_with (from tensorflow.python.framework.ops) is deprecated and will be removed in a future version.\n",
      "Instructions for updating:\n",
      "Colocations handled automatically by placer.\n",
      "\n",
      "WARNING: The TensorFlow contrib module will not be included in TensorFlow 2.0.\n",
      "For more information, please see:\n",
      "  * https://github.com/tensorflow/community/blob/master/rfcs/20180907-contrib-sunset.md\n",
      "  * https://github.com/tensorflow/addons\n",
      "If you depend on functionality not listed there, please file an issue.\n",
      "\n",
      "WARNING:tensorflow:From /tools/anaconda3/envs/marion/lib/python3.6/site-packages/scgen/models/_vae.py:79: dense (from tensorflow.python.layers.core) is deprecated and will be removed in a future version.\n",
      "Instructions for updating:\n",
      "Use keras.layers.dense instead.\n",
      "WARNING:tensorflow:From /tools/anaconda3/envs/marion/lib/python3.6/site-packages/scgen/models/_vae.py:80: batch_normalization (from tensorflow.python.layers.normalization) is deprecated and will be removed in a future version.\n",
      "Instructions for updating:\n",
      "Use keras.layers.batch_normalization instead.\n",
      "WARNING:tensorflow:From /tools/anaconda3/envs/marion/lib/python3.6/site-packages/scgen/models/_vae.py:82: dropout (from tensorflow.python.layers.core) is deprecated and will be removed in a future version.\n",
      "Instructions for updating:\n",
      "Use keras.layers.dropout instead.\n",
      "WARNING:tensorflow:From /tools/anaconda3/envs/marion/lib/python3.6/site-packages/tensorflow/python/keras/layers/core.py:143: calling dropout (from tensorflow.python.ops.nn_ops) with keep_prob is deprecated and will be removed in a future version.\n",
      "Instructions for updating:\n",
      "Please use `rate` instead of `keep_prob`. Rate should be set to `rate = 1 - keep_prob`.\n",
      "WARNING:tensorflow:From /tools/anaconda3/envs/marion/lib/python3.6/site-packages/tensorflow/python/ops/math_ops.py:3066: to_int32 (from tensorflow.python.ops.math_ops) is deprecated and will be removed in a future version.\n",
      "Instructions for updating:\n",
      "Use tf.cast instead.\n",
      "Train a network\n",
      "Correct data\n",
      "Index(['Cell2', 'Cell4', 'Cell7', 'Cell10'], dtype='object', name='cell_name')\n",
      "AnnData object with n_obs × n_vars = 1400 × 5000 \n",
      "    obs: 'cell_type', 'batch', 'cell_name'\n",
      "computing tSNE\n",
      "    using 'X_pca' with n_pcs = 20\n",
      "    using the 'MulticoreTSNE' package by Ulyanov (2017)\n"
     ]
    },
    {
     "name": "stderr",
     "output_type": "stream",
     "text": [
      "... storing 'cell_type' as categorical\n"
     ]
    },
    {
     "name": "stdout",
     "output_type": "stream",
     "text": [
      "    finished (0:00:06.61) --> added\n",
      "    'X_tsne', tSNE coordinates (adata.obsm)\n",
      "HVG\n",
      "AnnData object with n_obs × n_vars = 1400 × 712 \n",
      "Index(['Cell1', 'Cell2', 'Cell3'], dtype='object')\n",
      "Index(['Gene3', 'Gene24', 'Gene25'], dtype='object')\n",
      "(1400, 4)\n",
      "Index(['Cell', 'Batch', 'Group', 'ExpLibSize'], dtype='object')\n",
      "1400\n",
      "1400\n",
      "Create a network\n",
      "Train a network\n",
      "Correct data\n",
      "Index(['Cell2', 'Cell4', 'Cell7', 'Cell10'], dtype='object', name='cell_name')\n",
      "AnnData object with n_obs × n_vars = 1400 × 5000 \n",
      "    obs: 'cell_type', 'batch', 'cell_name'\n",
      "computing tSNE\n",
      "    using 'X_pca' with n_pcs = 20\n",
      "    using the 'MulticoreTSNE' package by Ulyanov (2017)\n"
     ]
    },
    {
     "name": "stderr",
     "output_type": "stream",
     "text": [
      "... storing 'cell_type' as categorical\n"
     ]
    },
    {
     "name": "stdout",
     "output_type": "stream",
     "text": [
      "    finished (0:00:07.24) --> added\n",
      "    'X_tsne', tSNE coordinates (adata.obsm)\n",
      "HVG\n",
      "AnnData object with n_obs × n_vars = 1400 × 740 \n",
      "Index(['Cell1', 'Cell2', 'Cell3'], dtype='object')\n",
      "Index(['Gene3', 'Gene24', 'Gene25'], dtype='object')\n",
      "(1400, 4)\n",
      "Index(['Cell', 'Batch', 'Group', 'ExpLibSize'], dtype='object')\n",
      "1400\n",
      "1400\n",
      "Create a network\n",
      "Train a network\n",
      "Correct data\n",
      "Index(['Cell2', 'Cell4', 'Cell7', 'Cell10'], dtype='object', name='cell_name')\n",
      "AnnData object with n_obs × n_vars = 1400 × 740 \n",
      "    obs: 'cell_type', 'batch', 'cell_name'\n",
      "computing tSNE\n",
      "    using 'X_pca' with n_pcs = 20\n",
      "    using the 'MulticoreTSNE' package by Ulyanov (2017)\n"
     ]
    },
    {
     "name": "stderr",
     "output_type": "stream",
     "text": [
      "... storing 'cell_type' as categorical\n"
     ]
    },
    {
     "name": "stdout",
     "output_type": "stream",
     "text": [
      "    finished (0:00:07.70) --> added\n",
      "    'X_tsne', tSNE coordinates (adata.obsm)\n",
      "simul3_dropout_005_b1_500_b2_450\n",
      "all\n",
      "AnnData object with n_obs × n_vars = 950 × 5000 \n",
      "Index(['Cell1', 'Cell2', 'Cell3'], dtype='object')\n",
      "Index(['Gene1', 'Gene2', 'Gene3'], dtype='object')\n",
      "(950, 4)\n",
      "Index(['Cell', 'Batch', 'Group', 'ExpLibSize'], dtype='object')\n",
      "950\n",
      "950\n",
      "Create a network\n",
      "Train a network\n",
      "Correct data\n",
      "Index(['Cell2', 'Cell4', 'Cell7', 'Cell10'], dtype='object', name='cell_name')\n",
      "AnnData object with n_obs × n_vars = 950 × 5000 \n",
      "    obs: 'cell_type', 'batch', 'cell_name'\n",
      "computing tSNE\n",
      "    using 'X_pca' with n_pcs = 20\n",
      "    using the 'MulticoreTSNE' package by Ulyanov (2017)\n"
     ]
    },
    {
     "name": "stderr",
     "output_type": "stream",
     "text": [
      "... storing 'cell_type' as categorical\n"
     ]
    },
    {
     "name": "stdout",
     "output_type": "stream",
     "text": [
      "    finished (0:00:04.81) --> added\n",
      "    'X_tsne', tSNE coordinates (adata.obsm)\n",
      "HVG\n",
      "AnnData object with n_obs × n_vars = 950 × 699 \n",
      "Index(['Cell1', 'Cell2', 'Cell3'], dtype='object')\n",
      "Index(['Gene9', 'Gene15', 'Gene20'], dtype='object')\n",
      "(950, 4)\n",
      "Index(['Cell', 'Batch', 'Group', 'ExpLibSize'], dtype='object')\n",
      "950\n",
      "950\n",
      "Create a network\n",
      "Train a network\n",
      "Correct data\n",
      "Index(['Cell2', 'Cell4', 'Cell7', 'Cell10'], dtype='object', name='cell_name')\n",
      "AnnData object with n_obs × n_vars = 950 × 699 \n",
      "    obs: 'cell_type', 'batch', 'cell_name'\n",
      "computing tSNE\n",
      "    using 'X_pca' with n_pcs = 20\n",
      "    using the 'MulticoreTSNE' package by Ulyanov (2017)\n"
     ]
    },
    {
     "name": "stderr",
     "output_type": "stream",
     "text": [
      "... storing 'cell_type' as categorical\n"
     ]
    },
    {
     "name": "stdout",
     "output_type": "stream",
     "text": [
      "    finished (0:00:04.95) --> added\n",
      "    'X_tsne', tSNE coordinates (adata.obsm)\n",
      "simul4_dropout_025_b1_500_b2_450\n",
      "all\n",
      "AnnData object with n_obs × n_vars = 950 × 5000 \n",
      "Index(['Cell1', 'Cell2', 'Cell3'], dtype='object')\n",
      "Index(['Gene1', 'Gene2', 'Gene3'], dtype='object')\n",
      "(950, 4)\n",
      "Index(['Cell', 'Batch', 'Group', 'ExpLibSize'], dtype='object')\n",
      "950\n",
      "950\n",
      "Create a network\n",
      "Train a network\n",
      "Correct data\n",
      "Index(['Cell2', 'Cell4', 'Cell7', 'Cell10'], dtype='object', name='cell_name')\n",
      "AnnData object with n_obs × n_vars = 950 × 5000 \n",
      "    obs: 'cell_type', 'batch', 'cell_name'\n",
      "computing tSNE\n",
      "    using 'X_pca' with n_pcs = 20\n",
      "    using the 'MulticoreTSNE' package by Ulyanov (2017)\n"
     ]
    },
    {
     "name": "stderr",
     "output_type": "stream",
     "text": [
      "... storing 'cell_type' as categorical\n"
     ]
    },
    {
     "name": "stdout",
     "output_type": "stream",
     "text": [
      "    finished (0:00:04.40) --> added\n",
      "    'X_tsne', tSNE coordinates (adata.obsm)\n",
      "HVG\n",
      "AnnData object with n_obs × n_vars = 950 × 720 \n",
      "Index(['Cell1', 'Cell2', 'Cell3'], dtype='object')\n",
      "Index(['Gene9', 'Gene15', 'Gene20'], dtype='object')\n",
      "(950, 4)\n",
      "Index(['Cell', 'Batch', 'Group', 'ExpLibSize'], dtype='object')\n",
      "950\n",
      "950\n",
      "Create a network\n",
      "Train a network\n",
      "Correct data\n",
      "Index(['Cell2', 'Cell4', 'Cell7', 'Cell10'], dtype='object', name='cell_name')\n",
      "AnnData object with n_obs × n_vars = 950 × 720 \n",
      "    obs: 'cell_type', 'batch', 'cell_name'\n",
      "computing tSNE\n",
      "    using 'X_pca' with n_pcs = 20\n",
      "    using the 'MulticoreTSNE' package by Ulyanov (2017)\n"
     ]
    },
    {
     "name": "stderr",
     "output_type": "stream",
     "text": [
      "... storing 'cell_type' as categorical\n"
     ]
    },
    {
     "name": "stdout",
     "output_type": "stream",
     "text": [
      "    finished (0:00:05.12) --> added\n",
      "    'X_tsne', tSNE coordinates (adata.obsm)\n",
      "simul5_dropout_005_b1_80_b2_400\n",
      "all\n",
      "AnnData object with n_obs × n_vars = 480 × 5000 \n",
      "Index(['Cell1', 'Cell2', 'Cell3'], dtype='object')\n",
      "Index(['Gene1', 'Gene2', 'Gene3'], dtype='object')\n",
      "(480, 4)\n",
      "Index(['Cell', 'Batch', 'Group', 'ExpLibSize'], dtype='object')\n",
      "480\n",
      "480\n",
      "Create a network\n",
      "Train a network\n",
      "Correct data\n",
      "Index(['Cell2', 'Cell4', 'Cell7', 'Cell10'], dtype='object', name='cell_name')\n",
      "AnnData object with n_obs × n_vars = 480 × 5000 \n",
      "    obs: 'cell_type', 'batch', 'cell_name'\n",
      "computing tSNE\n",
      "    using 'X_pca' with n_pcs = 20\n",
      "    using the 'MulticoreTSNE' package by Ulyanov (2017)\n"
     ]
    },
    {
     "name": "stderr",
     "output_type": "stream",
     "text": [
      "... storing 'cell_type' as categorical\n"
     ]
    },
    {
     "name": "stdout",
     "output_type": "stream",
     "text": [
      "    finished (0:00:02.13) --> added\n",
      "    'X_tsne', tSNE coordinates (adata.obsm)\n",
      "HVG\n",
      "AnnData object with n_obs × n_vars = 480 × 647 \n",
      "Index(['Cell1', 'Cell2', 'Cell3'], dtype='object')\n",
      "Index(['Gene2', 'Gene13', 'Gene32'], dtype='object')\n",
      "(480, 4)\n",
      "Index(['Cell', 'Batch', 'Group', 'ExpLibSize'], dtype='object')\n",
      "480\n",
      "480\n",
      "Create a network\n",
      "Train a network\n",
      "Correct data\n",
      "Index(['Cell2', 'Cell4', 'Cell7', 'Cell10'], dtype='object', name='cell_name')\n",
      "AnnData object with n_obs × n_vars = 480 × 647 \n",
      "    obs: 'cell_type', 'batch', 'cell_name'\n",
      "computing tSNE\n",
      "    using 'X_pca' with n_pcs = 20\n",
      "    using the 'MulticoreTSNE' package by Ulyanov (2017)\n"
     ]
    },
    {
     "name": "stderr",
     "output_type": "stream",
     "text": [
      "... storing 'cell_type' as categorical\n"
     ]
    },
    {
     "name": "stdout",
     "output_type": "stream",
     "text": [
      "    finished (0:00:02.27) --> added\n",
      "    'X_tsne', tSNE coordinates (adata.obsm)\n",
      "simul6_dropout_025_b1_80_b2_400\n",
      "all\n",
      "AnnData object with n_obs × n_vars = 480 × 5000 \n",
      "Index(['Cell1', 'Cell2', 'Cell3'], dtype='object')\n",
      "Index(['Gene1', 'Gene2', 'Gene3'], dtype='object')\n",
      "(480, 4)\n",
      "Index(['Cell', 'Batch', 'Group', 'ExpLibSize'], dtype='object')\n",
      "480\n",
      "480\n",
      "Create a network\n",
      "Train a network\n",
      "Correct data\n",
      "Index(['Cell2', 'Cell4', 'Cell7', 'Cell10'], dtype='object', name='cell_name')\n",
      "AnnData object with n_obs × n_vars = 480 × 5000 \n",
      "    obs: 'cell_type', 'batch', 'cell_name'\n",
      "computing tSNE\n",
      "    using 'X_pca' with n_pcs = 20\n",
      "    using the 'MulticoreTSNE' package by Ulyanov (2017)\n"
     ]
    },
    {
     "name": "stderr",
     "output_type": "stream",
     "text": [
      "... storing 'cell_type' as categorical\n"
     ]
    },
    {
     "name": "stdout",
     "output_type": "stream",
     "text": [
      "    finished (0:00:02.16) --> added\n",
      "    'X_tsne', tSNE coordinates (adata.obsm)\n",
      "HVG\n",
      "AnnData object with n_obs × n_vars = 480 × 676 \n",
      "Index(['Cell1', 'Cell2', 'Cell3'], dtype='object')\n",
      "Index(['Gene2', 'Gene13', 'Gene18'], dtype='object')\n",
      "(480, 4)\n",
      "Index(['Cell', 'Batch', 'Group', 'ExpLibSize'], dtype='object')\n",
      "480\n",
      "480\n",
      "Create a network\n",
      "Train a network\n",
      "Correct data\n",
      "Index(['Cell2', 'Cell4', 'Cell7', 'Cell10'], dtype='object', name='cell_name')\n",
      "AnnData object with n_obs × n_vars = 480 × 676 \n",
      "    obs: 'cell_type', 'batch', 'cell_name'\n",
      "computing tSNE\n",
      "    using 'X_pca' with n_pcs = 20\n",
      "    using the 'MulticoreTSNE' package by Ulyanov (2017)\n"
     ]
    },
    {
     "name": "stderr",
     "output_type": "stream",
     "text": [
      "... storing 'cell_type' as categorical\n"
     ]
    },
    {
     "name": "stdout",
     "output_type": "stream",
     "text": [
      "    finished (0:00:02.33) --> added\n",
      "    'X_tsne', tSNE coordinates (adata.obsm)\n"
     ]
    }
   ],
   "source": [
    "for simu_name in simulation:\n",
    "    print(simu_name)\n",
    "    for genes in counts:\n",
    "        print(genes)\n",
    "\n",
    "        # Create folder to save the results \n",
    "        if not os.path.exists(os.path.join(dirname,simu_name)): os.makedirs(os.path.join(dirname,simu_name))\n",
    "        if not os.path.exists(os.path.join(dirname,simu_name,genes)): os.makedirs(os.path.join(dirname,simu_name,genes))\n",
    "        save_dir = os.path.join(dirname, simu_name, genes)\n",
    "\n",
    "        # read data \n",
    "        if genes=='HVG':\n",
    "            adata = pd.read_csv(os.path.join(data_dir,simu_name,'counts_HVG.txt'),sep='\\t',header=0, index_col=0)\n",
    "        else:\n",
    "            adata = pd.read_csv(os.path.join(data_dir,simu_name,'counts.txt'),sep='\\t',header=0, index_col=0)\n",
    "\n",
    "        # transform to Scanpy object\n",
    "        adata = sc.AnnData(adata)\n",
    "        print(adata)  \n",
    "        print(adata.obs_names[0:3])  # cells: observation\n",
    "        print(adata.var_names[0:3])  # genes: variable\n",
    "\n",
    "        # Read sample file, which contain celltype and batch info\n",
    "        sample_adata = pd.read_csv(os.path.join(data_dir,simu_name,'cellinfo.txt'),header=0, index_col=0, sep='\\t')\n",
    "        print(sample_adata.values.shape)\n",
    "        print(sample_adata.keys())\n",
    "\n",
    "        # Save label information into adata object\n",
    "        adata.obs['cell_type'] = sample_adata.loc[adata.obs_names,['Group']]\n",
    "        adata.obs['batch'] = sample_adata.loc[adata.obs_names,['Batch']]\n",
    "        print(len(adata.obs['cell_type']))\n",
    "        print(len(adata.obs['batch']))\n",
    "\n",
    "        # normalize and log before batch effect correction\n",
    "        sc.pp.normalize_per_cell(adata, counts_per_cell_after=1e4)\n",
    "        sc.pp.log1p(adata)\n",
    "\n",
    "        # scGen network training\n",
    "        # adata.shape[1]: number of features, here is number of genes\n",
    "        # model_path: where to save trained model file\n",
    "        print(\"Create a network\")\n",
    "        # Initialize scGen with input is number of genes\n",
    "        import scgen\n",
    "        network = scgen.VAEArith(x_dimension=adata.shape[1], model_path= os.path.join(dirname, simu_name,genes,'network'))\n",
    "        print(\"Train a network\")\n",
    "        # Train scGen with nb epochs = 100\n",
    "        # Can change the batch_size to 30 if dataset is too small\n",
    "        # Requirement for scGen: adata should contain 2 label vector: adata.obs[\"cell_type\"] and adata.obs[\"batch\"]\n",
    "        network.train(train_data=adata, n_epochs=100, batch_size=50)\n",
    "\n",
    "        # scGen run\n",
    "        print(\"Correct data\")\n",
    "        # Correct data using batch_removal_v2 function\n",
    "        # Input: adata and network model \n",
    "        adata.obs['cell_name'] = adata.obs_names   # create a vector 'cell_name' to keep cell name first\n",
    "        corrected_adata = batch_removal_v2(network, adata)   # get normalized expression matrix from batch_removal function\n",
    "        # corrected_adata = scgen.batch_removal(network, adata1)\n",
    "        print(corrected_adata.obs_names[1:5])\n",
    "        print(corrected_adata)\n",
    "    \n",
    "        # run PCA\n",
    "        npcs = 20\n",
    "        sc.tl.pca(corrected_adata, svd_solver='arpack', n_comps=npcs) \n",
    "        corrected_adata.obsm['X_pca'] *= -1  # multiply by -1 to match Seurat\n",
    "        # sc.pp.neighbors(corrected_adata,n_neighbors=15, n_pcs=20)\n",
    "\n",
    "        # plot tSNE\n",
    "        # take into account only first 20 PCs vectors, important parameter, can affect the output\n",
    "        perplex = 30\n",
    "        color_group = [\"cell_type\",\"batch\"]    \n",
    "        corrected_adata.obs['batch']=corrected_adata.obs['batch'].astype('category')  # factor function in R\n",
    "        plotTSNE(corrected_adata, color_group, npcs, perplex, 'tsne_scGen_corrected')  #npcs=20, perplex=90\n",
    "\n",
    "        #tSNE coordinates\n",
    "        colnt = []\n",
    "        for i in range(corrected_adata.obsm['X_tsne'].shape[1]):\n",
    "            colnt.append(\"tSNE_\"+str(i+1))\n",
    "        df = pd.DataFrame(corrected_adata.obsm['X_tsne'], columns=colnt, index=corrected_adata.obs_names)\n",
    "        df['batch'] = pd.Series(corrected_adata.obs['batch'], index=corrected_adata.obs_names)\n",
    "        df['celltype'] = pd.Series(corrected_adata.obs['cell_type'], index=corrected_adata.obs_names)\n",
    "        df.to_csv(os.path.join(save_dir,'scGen_tsne.csv')) \n",
    "\n",
    "        # Save as h5ad format. Corrected data have same dimensions as input data \n",
    "        corrected_adata.write_h5ad(os.path.join(save_dir,'output.h5ad'))\n",
    "\n",
    "        # Write normalized data to csv file \n",
    "        filename = 'output.csv'\n",
    "        write_to_csv(corrected_adata.X, corrected_adata.var_names, corrected_adata.obs_names,filename, save_dir)"
   ]
  },
  {
   "cell_type": "code",
   "execution_count": null,
   "metadata": {},
   "outputs": [],
   "source": []
  }
 ],
 "metadata": {
  "kernelspec": {
   "display_name": "Python 3",
   "language": "python",
   "name": "python3"
  },
  "language_info": {
   "codemirror_mode": {
    "name": "ipython",
    "version": 3
   },
   "file_extension": ".py",
   "mimetype": "text/x-python",
   "name": "python",
   "nbconvert_exporter": "python",
   "pygments_lexer": "ipython3",
   "version": "3.6.7"
  }
 },
 "nbformat": 4,
 "nbformat_minor": 2
}
